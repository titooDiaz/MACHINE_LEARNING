{
  "cells": [
    {
      "cell_type": "markdown",
      "metadata": {
        "id": "T4r2z30vJSbA"
      },
      "source": [
        "# Colabs\n",
        "\n",
        "Machine Learning Crash Course uses Colaboratories (Colabs) for all programming exercises. Colab is Google's implementation of [Jupyter Notebook](https://jupyter.org/). For more information about Colabs and how to use them, go to [Welcome to Colaboratory](https://research.google.com/colaboratory)."
      ]
    },
    {
      "cell_type": "markdown",
      "metadata": {
        "id": "TL5y5fY9Jy_x"
      },
      "source": [
        "# Binary Classification\n",
        "\n",
        "So far, you've only created regression models. That is, you created models that produced floating-point predictions, such as, \"houses in this neighborhood costs N thousand dollars.\" In this Colab, you'll create and evaluate a binary [classification model](https://developers.google.com/machine-learning/glossary/#classification_model).  That is, you'll create a model that answers a binary question. In this exercise, the binary question will be, \"Are houses in this neighborhood above a certain price?\"\n",
        "\n",
        "\n",
        "\n",
        "# Clasificación Binaria\n",
        "\n",
        "Hasta ahora, solo has creado modelos de regresión. Es decir, has creado modelos que generan predicciones de punto flotante, como \"las casas en este vecindario cuestan N mil dólares\". En este Colab, crearás y evaluarás un [modelo de clasificación binaria](https://developers.google.com/machine-learning/glossary/#classification_model). Es decir, crearás un modelo que responde a una pregunta binaria. En este ejercicio, la pregunta binaria será: \"¿Las casas en este vecindario están por encima de cierto precio?\""
      ]
    },
    {
      "cell_type": "markdown",
      "metadata": {
        "id": "yuw8rRl9lNuL"
      },
      "source": [
        "## Learning Objectives:\n",
        "\n",
        "After doing this Colab, you'll know how to:\n",
        "\n",
        "  * Convert a regression question into a classification question.\n",
        "  * Modify the classification threshold and determine how that modification influences the model.\n",
        "  * Experiment with different classification metrics to determine your model's effectiveness.\n",
        "\n",
        "## Objetivos de Aprendizaje:\n",
        "\n",
        "Después de realizar este Colab, sabrás cómo:\n",
        "\n",
        "  * Convertir una pregunta de regresión en una pregunta de clasificación.\n",
        "  * Modificar el umbral de clasificación y determinar cómo esa modificación influye en el modelo.\n",
        "  * Experimentar con diferentes métricas de clasificación para determinar la efectividad de tu modelo."
      ]
    },
    {
      "cell_type": "markdown",
      "metadata": {
        "id": "44OdC-OglN9D"
      },
      "source": [
        "## The Dataset\n",
        "  \n",
        "Like several of the previous Colabs, this Colab uses the [California Housing Dataset](https://developers.google.com/machine-learning/crash-course/california-housing-data-description).\n",
        "\n",
        "## El Conjunto de Datos\n",
        "\n",
        "Al igual que en varios de los Colabs anteriores, este Colab utiliza el [Conjunto de Datos de Viviendas de California](https://developers.google.com/machine-learning/crash-course/california-housing-data-description)."
      ]
    },
    {
      "cell_type": "markdown",
      "metadata": {
        "id": "5iuw6-JOGf7I"
      },
      "source": [
        "## Call the import statements\n",
        "\n",
        "The following code imports the necessary modules."
      ]
    },
    {
      "cell_type": "code",
      "execution_count": 4,
      "metadata": {
        "cellView": "form",
        "id": "9n9_cTveKmse"
      },
      "outputs": [
        {
          "name": "stderr",
          "output_type": "stream",
          "text": [
            "C:\\Users\\PERSONAL\\AppData\\Local\\Temp\\ipykernel_11400\\2260317277.py:4: DeprecationWarning: \n",
            "Pyarrow will become a required dependency of pandas in the next major release of pandas (pandas 3.0),\n",
            "(to allow more performant data types, such as the Arrow string type, and better interoperability with other libraries)\n",
            "but was not found to be installed on your system.\n",
            "If this would cause problems for you,\n",
            "please provide us feedback at https://github.com/pandas-dev/pandas/issues/54466\n",
            "        \n",
            "  import pandas as pd\n"
          ]
        },
        {
          "name": "stdout",
          "output_type": "stream",
          "text": [
            "WARNING:tensorflow:From c:\\Users\\PERSONAL\\OneDrive\\Documentos\\PROGRAMACION GITHUB\\MACHINE LEARNING\\env\\lib\\site-packages\\keras\\src\\losses.py:2976: The name tf.losses.sparse_softmax_cross_entropy is deprecated. Please use tf.compat.v1.losses.sparse_softmax_cross_entropy instead.\n",
            "\n",
            "Ran the import statements.\n"
          ]
        }
      ],
      "source": [
        "#@title Load the imports\n",
        "\n",
        "import numpy as np\n",
        "import pandas as pd\n",
        "import tensorflow as tf\n",
        "from tensorflow.keras import layers\n",
        "from matplotlib import pyplot as plt\n",
        "\n",
        "# The following lines adjust the granularity of reporting.\n",
        "pd.options.display.max_rows = 10\n",
        "pd.options.display.float_format = \"{:.1f}\".format\n",
        "# tf.keras.backend.set_floatx('float32')\n",
        "\n",
        "print(\"Ran the import statements.\")"
      ]
    },
    {
      "cell_type": "markdown",
      "metadata": {
        "id": "X_TaJhU4KcuY"
      },
      "source": [
        "## Load the datasets from the internet\n",
        "\n",
        "The following code cell loads the separate .csv files and creates the following two pandas DataFrames:\n",
        "\n",
        "* `train_df`, which contains the training set\n",
        "* `test_df`, which contains the test set\n",
        "\n",
        "## Cargar los conjuntos de datos desde internet\n",
        "\n",
        "La siguiente celda de código carga los archivos .csv por separado y crea los siguientes dos DataFrames de pandas:\n",
        "\n",
        "* `train_df`, que contiene el conjunto de entrenamiento\n",
        "* `test_df`, que contiene el conjunto de prueba"
      ]
    },
    {
      "cell_type": "code",
      "execution_count": 5,
      "metadata": {
        "id": "JZlvdpyYKx7V"
      },
      "outputs": [],
      "source": [
        "train_df = pd.read_csv(\"https://download.mlcc.google.com/mledu-datasets/california_housing_train.csv\")\n",
        "test_df = pd.read_csv(\"https://download.mlcc.google.com/mledu-datasets/california_housing_test.csv\")\n",
        "train_df = train_df.reindex(np.random.permutation(train_df.index)) # shuffle the training set"
      ]
    },
    {
      "cell_type": "markdown",
      "metadata": {
        "id": "q_vuAQq0Cvrp"
      },
      "source": [
        "Unlike some of the previous Colabs, the preceding code cell did not scale the label (`median_house_value`).  The following section (\"Normalize values\") provides an alternative approach."
      ]
    },
    {
      "cell_type": "markdown",
      "metadata": {
        "id": "_G6y-XcEmk6r"
      },
      "source": [
        "## Normalize values\n",
        "\n",
        "When creating a model with multiple features, the values of each feature should cover roughly the same range.  For example, if one feature's range spans 500 to 100,000 and another feature's range spans 2 to 12, then the model will be difficult or impossible to train. Therefore, you should\n",
        "[normalize](https://developers.google.com/machine-learning/glossary/#normalization) features in a multi-feature model.\n",
        "\n",
        "The following code cell normalizes datasets by converting each raw value (including the label) to its Z-score. A **Z-score** is the number of standard deviations from the mean for a particular raw value. For example, consider a feature having the following characteristics:\n",
        "\n",
        "  * The mean is 60.\n",
        "  * The standard deviation is 10.\n",
        "\n",
        "The raw value 75 would have a Z-score of +1.5:\n",
        "\n",
        "```\n",
        "  Z-score = (75 - 60) / 10 = +1.5\n",
        "```\n",
        "\n",
        "The raw value 38 would have a Z-score of -2.2:\n",
        "\n",
        "```\n",
        "  Z-score = (38 - 60) / 10 = -2.2\n",
        "```\n",
        "\n",
        "\n",
        "## Normalizar valores\n",
        "\n",
        "Cuando se crea un modelo con múltiples características, los valores de cada característica deben abarcar aproximadamente el mismo rango. Por ejemplo, si el rango de una característica va desde 500 hasta 100,000 y el rango de otra característica va desde 2 hasta 12, entonces será difícil o incluso imposible entrenar el modelo. Por lo tanto, se debe realizar una [normalización](https://developers.google.com/machine-learning/glossary/#normalization) de las características en un modelo multi-característica.\n",
        "\n",
        "La siguiente celda de código normaliza los conjuntos de datos convirtiendo cada valor crudo (incluyendo la etiqueta) a su puntuación Z. Una **puntuación Z** es el número de desviaciones estándar respecto a la media para un valor crudo específico. Por ejemplo, considera una característica con las siguientes características:\n",
        "\n",
        "  * La media es 60.\n",
        "  * La desviación estándar es 10.\n",
        "\n",
        "El valor crudo 75 tendría una puntuación Z de +1.5:\n",
        "\n",
        "```\n",
        "  Puntuación Z = (75 - 60) / 10 = +1.5\n",
        "```\n",
        "\n",
        "El valor crudo 38 tendría una puntuación Z de -2.2:\n",
        "\n",
        "```\n",
        "  Puntuación Z = (38 - 60) / 10 = -2.2\n",
        "```"
      ]
    },
    {
      "cell_type": "code",
      "execution_count": 6,
      "metadata": {
        "id": "n7nuAHoZIgVI"
      },
      "outputs": [
        {
          "data": {
            "text/html": [
              "<div>\n",
              "<style scoped>\n",
              "    .dataframe tbody tr th:only-of-type {\n",
              "        vertical-align: middle;\n",
              "    }\n",
              "\n",
              "    .dataframe tbody tr th {\n",
              "        vertical-align: top;\n",
              "    }\n",
              "\n",
              "    .dataframe thead th {\n",
              "        text-align: right;\n",
              "    }\n",
              "</style>\n",
              "<table border=\"1\" class=\"dataframe\">\n",
              "  <thead>\n",
              "    <tr style=\"text-align: right;\">\n",
              "      <th></th>\n",
              "      <th>longitude</th>\n",
              "      <th>latitude</th>\n",
              "      <th>housing_median_age</th>\n",
              "      <th>total_rooms</th>\n",
              "      <th>total_bedrooms</th>\n",
              "      <th>population</th>\n",
              "      <th>households</th>\n",
              "      <th>median_income</th>\n",
              "      <th>median_house_value</th>\n",
              "    </tr>\n",
              "  </thead>\n",
              "  <tbody>\n",
              "    <tr>\n",
              "      <th>11661</th>\n",
              "      <td>-0.9</td>\n",
              "      <td>1.0</td>\n",
              "      <td>-0.5</td>\n",
              "      <td>-0.5</td>\n",
              "      <td>-0.3</td>\n",
              "      <td>2.6</td>\n",
              "      <td>-0.4</td>\n",
              "      <td>-1.0</td>\n",
              "      <td>-1.2</td>\n",
              "    </tr>\n",
              "    <tr>\n",
              "      <th>4955</th>\n",
              "      <td>0.7</td>\n",
              "      <td>-0.7</td>\n",
              "      <td>-0.7</td>\n",
              "      <td>0.2</td>\n",
              "      <td>0.6</td>\n",
              "      <td>0.6</td>\n",
              "      <td>0.6</td>\n",
              "      <td>-0.3</td>\n",
              "      <td>-0.1</td>\n",
              "    </tr>\n",
              "    <tr>\n",
              "      <th>1483</th>\n",
              "      <td>1.2</td>\n",
              "      <td>-0.7</td>\n",
              "      <td>-0.4</td>\n",
              "      <td>-0.4</td>\n",
              "      <td>-0.6</td>\n",
              "      <td>-0.3</td>\n",
              "      <td>-0.6</td>\n",
              "      <td>1.1</td>\n",
              "      <td>-0.5</td>\n",
              "    </tr>\n",
              "    <tr>\n",
              "      <th>9291</th>\n",
              "      <td>0.2</td>\n",
              "      <td>-0.7</td>\n",
              "      <td>-1.0</td>\n",
              "      <td>1.7</td>\n",
              "      <td>1.9</td>\n",
              "      <td>4.2</td>\n",
              "      <td>2.2</td>\n",
              "      <td>0.1</td>\n",
              "      <td>-0.0</td>\n",
              "    </tr>\n",
              "    <tr>\n",
              "      <th>13238</th>\n",
              "      <td>-1.2</td>\n",
              "      <td>1.6</td>\n",
              "      <td>1.5</td>\n",
              "      <td>-0.7</td>\n",
              "      <td>-0.8</td>\n",
              "      <td>-0.7</td>\n",
              "      <td>-0.8</td>\n",
              "      <td>-0.6</td>\n",
              "      <td>-1.2</td>\n",
              "    </tr>\n",
              "  </tbody>\n",
              "</table>\n",
              "</div>"
            ],
            "text/plain": [
              "       longitude  latitude  housing_median_age  total_rooms  total_bedrooms  \\\n",
              "11661       -0.9       1.0                -0.5         -0.5            -0.3   \n",
              "4955         0.7      -0.7                -0.7          0.2             0.6   \n",
              "1483         1.2      -0.7                -0.4         -0.4            -0.6   \n",
              "9291         0.2      -0.7                -1.0          1.7             1.9   \n",
              "13238       -1.2       1.6                 1.5         -0.7            -0.8   \n",
              "\n",
              "       population  households  median_income  median_house_value  \n",
              "11661         2.6        -0.4           -1.0                -1.2  \n",
              "4955          0.6         0.6           -0.3                -0.1  \n",
              "1483         -0.3        -0.6            1.1                -0.5  \n",
              "9291          4.2         2.2            0.1                -0.0  \n",
              "13238        -0.7        -0.8           -0.6                -1.2  "
            ]
          },
          "execution_count": 6,
          "metadata": {},
          "output_type": "execute_result"
        }
      ],
      "source": [
        "# Calculate the Z-scores of each column in the training set and\n",
        "# write those Z-scores into a new pandas DataFrame named train_df_norm.\n",
        "# Calcular las puntuaciones Z de cada columna en el conjunto de entrenamiento y\n",
        "# escribir esas puntuaciones Z en un nuevo DataFrame de pandas llamado train_df_norm.\n",
        "train_df_mean = train_df.mean()\n",
        "train_df_std = train_df.std()\n",
        "train_df_norm = (train_df - train_df_mean)/train_df_std\n",
        "\n",
        "# Examine some of the values of the normalized training set. Notice that most\n",
        "# Z-scores fall between -2 and +2.\n",
        "# Examinar algunos de los valores del conjunto de entrenamiento normalizado. Observa que la mayoría\n",
        "# de las puntuaciones Z caen entre -2 y +2.\n",
        "train_df_norm.head()"
      ]
    },
    {
      "cell_type": "code",
      "execution_count": 7,
      "metadata": {
        "id": "QoW-59jVFF2I"
      },
      "outputs": [],
      "source": [
        "# Calcular las puntuaciones Z de cada columna en el conjunto de prueba y\n",
        "# escribir esas puntuaciones Z en un nuevo DataFrame de pandas llamado test_df_norm.\n",
        "test_df_norm = (test_df - train_df_mean) / train_df_std\n",
        "\n",
        "# Ten en cuenta que transformamos los datos de prueba con los valores calculados a partir del conjunto de entrenamiento,\n",
        "# ya que siempre debes transformar tus conjuntos de datos con exactamente los mismos valores.\n"
      ]
    },
    {
      "cell_type": "markdown",
      "metadata": {
        "id": "-swmXtWnZGis"
      },
      "source": [
        "## Task 1: Create a binary label\n",
        "\n",
        "In classification problems, the label for every example must be either 0 or 1. Unfortunately, the natural label in the California Housing Dataset, `median_house_value`, contains floating-point values like 80,100 or 85,700 rather than 0s and 1s, while the normalized version of `median_house_values` contains floating-point values primarily between -3 and +3.\n",
        "\n",
        "Your task is to create a new column named `median_house_value_is_high` in both the training set and the test set . If the `median_house_value` is higher than a certain arbitrary value (defined by `threshold`), then set `median_house_value_is_high` to 1. Otherwise, set `median_house_value_is_high` to 0.\n",
        "\n",
        "**Hint:** The cells in the `median_house_value_is_high` column must each hold `1` and `0`, not `True` and `False`. To convert `True` and `False` to  `1` and `0`, call the pandas DataFrame function `astype(float)`.\n",
        "\n",
        "\n",
        "## Tarea 1: Crear una etiqueta binaria\n",
        "\n",
        "En problemas de clasificación, la etiqueta para cada ejemplo debe ser 0 o 1. Desafortunadamente, la etiqueta natural en el conjunto de datos de viviendas de California, `median_house_value`, contiene valores de punto flotante como 80,100 o 85,700 en lugar de 0s y 1s, mientras que la versión normalizada de `median_house_values` contiene valores de punto flotante principalmente entre -3 y +3.\n",
        "\n",
        "Tu tarea es crear una nueva columna llamada `median_house_value_is_high` tanto en el conjunto de entrenamiento como en el conjunto de prueba. Si el valor de `median_house_value` es mayor que un valor arbitrario específico (definido por `threshold`), establece `median_house_value_is_high` en 1. De lo contrario, establece `median_house_value_is_high` en 0.\n",
        "\n",
        "**Pista:** Las celdas en la columna `median_house_value_is_high` deben contener cada una `1` y `0`, no `True` y `False`. Para convertir `True` y `False` a `1` y `0`, utiliza la función `astype(float)` del DataFrame de pandas."
      ]
    },
    {
      "cell_type": "code",
      "execution_count": 8,
      "metadata": {
        "id": "d4kWfWA8bhKW"
      },
      "outputs": [
        {
          "data": {
            "text/plain": [
              "11661   0.0\n",
              "4955    0.0\n",
              "1483    0.0\n",
              "9291    0.0\n",
              "13238   0.0\n",
              "         ..\n",
              "13058   0.0\n",
              "4756    0.0\n",
              "651     0.0\n",
              "15304   0.0\n",
              "4090    0.0\n",
              "Name: median_house_value_is_high, Length: 8000, dtype: float64"
            ]
          },
          "execution_count": 8,
          "metadata": {},
          "output_type": "execute_result"
        }
      ],
      "source": [
        "# Establecimos arbitrariamente el umbral en 265,000, que es\n",
        "# el percentil 75 para los valores medios de las casas. Cada vecindario\n",
        "# con un precio medio de casa superior a 265,000 será etiquetado como 1,\n",
        "# y todos los demás vecindarios serán etiquetados como 0.\n",
        "\n",
        "threshold = 265000 # This is the 75th percentile for median house values.\n",
        "train_df_norm[\"median_house_value_is_high\"] = (train_df[\"median_house_value\"] > threshold).astype(float) #neuva celda\n",
        "test_df_norm[\"median_house_value_is_high\"] = (train_df[\"median_house_value\"] > threshold).astype(float) #nueva celda\n",
        "\n",
        "# Print out a few example cells from the beginning and\n",
        "# middle of the training set, just to make sure that\n",
        "# your code created only 0s and 1s in the newly created\n",
        "# median_house_value_is_high column\n",
        "train_df_norm[\"median_house_value_is_high\"].head(8000)\n",
        "\n",
        "# Alternativamente, en lugar de elegir el umbral\n",
        "# basado en los valores de vivienda en bruto, puedes trabajar con puntuaciones Z.\n",
        "# Por ejemplo, la siguiente solución posible utiliza una puntuación Z\n",
        "# de +1.0 como el umbral, lo que significa que no más\n",
        "# del 16% de los valores en median_house_value_is_high\n",
        "# serán etiquetados como 1.\n",
        "\n",
        "# threshold_in_Z = 1.0\n",
        "# train_df_norm[\"median_house_value_is_high\"] = (train_df_norm[\"median_house_value\"] > threshold_in_Z).astype(float)\n",
        "# test_df_norm[\"median_house_value_is_high\"] = (test_df_norm[\"median_house_value\"] > threshold_in_Z).astype(float)"
      ]
    },
    {
      "cell_type": "markdown",
      "metadata": {
        "id": "8kir8UTUXSV8"
      },
      "source": [
        "## Represent features as input layers\n",
        "\n",
        "This code cell specifies the features, `median_income` and ` total_rooms`, that you'll ultimately train the model on. These [Input](https://www.tensorflow.org/api_docs/python/tf/keras/Input) objects are instantiated as Keras tensors.\n",
        "\n",
        "## Representar características como capas de entrada\n",
        "\n",
        "Esta celda de código especifica las características, `median_income` y `total_rooms`, en las que finalmente entrenarás el modelo. Estos objetos [Input](https://www.tensorflow.org/api_docs/python/tf/keras/Input) se instancian como tensores de Keras."
      ]
    },
    {
      "cell_type": "code",
      "execution_count": 9,
      "metadata": {
        "id": "3tmmZIDw4JEC"
      },
      "outputs": [
        {
          "name": "stdout",
          "output_type": "stream",
          "text": [
            "WARNING:tensorflow:From c:\\Users\\PERSONAL\\OneDrive\\Documentos\\PROGRAMACION GITHUB\\MACHINE LEARNING\\env\\lib\\site-packages\\keras\\src\\backend.py:1398: The name tf.executing_eagerly_outside_functions is deprecated. Please use tf.compat.v1.executing_eagerly_outside_functions instead.\n",
            "\n"
          ]
        }
      ],
      "source": [
        "inputs = {\n",
        "# Features used to train the model on.\n",
        "  'median_income': tf.keras.Input(shape=(1,)),\n",
        "  'total_rooms': tf.keras.Input(shape=(1,))\n",
        "}\n"
      ]
    },
    {
      "cell_type": "markdown",
      "metadata": {
        "id": "3014ezH3C7jT"
      },
      "source": [
        "## Define functions that build and train a model\n",
        "\n",
        "The following code cell defines two functions:\n",
        "\n",
        "  * `create_model(inputs, learning_rate, METRICS)`, which defines the model's\n",
        "    topography.\n",
        "  * `train_model(model, dataset, epochs, label_name, batch_size, shuffle)`, uses input features and labels to train the model.\n",
        "\n",
        "Prior exercises used [ReLU](https://developers.google.com/machine-learning/glossary#ReLU) as the [activation function](https://developers.google.com/machine-learning/glossary#activation-function). By contrast, this exercise uses [sigmoid](https://developers.google.com/machine-learning/glossary#sigmoid-function) as the activation function.\n",
        "\n",
        "## Definir funciones que construyan y entrenen un modelo\n",
        "\n",
        "La siguiente celda de código define dos funciones:\n",
        "\n",
        "  * `create_model(inputs, learning_rate, METRICS)`, que define la topografía del modelo.\n",
        "  * `train_model(model, dataset, epochs, label_name, batch_size, shuffle)`, utiliza características de entrada y etiquetas para entrenar el modelo.\n",
        "\n",
        "En ejercicios anteriores se utilizó [ReLU](https://developers.google.com/machine-learning/glossary#ReLU) como la [función de activación](https://developers.google.com/machine-learning/glossary#activation-function). En cambio, en este ejercicio se utiliza [sigmoid](https://developers.google.com/machine-learning/glossary#sigmoid-function) como la función de activación."
      ]
    },
    {
      "cell_type": "code",
      "execution_count": 10,
      "metadata": {
        "id": "pedD5GhlDC-y"
      },
      "outputs": [
        {
          "name": "stdout",
          "output_type": "stream",
          "text": [
            "Definidas las funciones create_model y train_model.\n"
          ]
        }
      ],
      "source": [
        "#@title Define las funciones que crean y entrenan un modelo.\n",
        "def create_model(my_inputs, my_learning_rate, METRICS):\n",
        "  # Utiliza una capa Concatenate para concatenar las capas de entrada en un solo tensor.\n",
        "  # como entrada para la capa Dense. Ejemplo: [input_1[0][0], input_2[0][0]]\n",
        "  concatenated_inputs = tf.keras.layers.Concatenate()(my_inputs.values())\n",
        "  dense = layers.Dense(units=1, name='dense_layer', activation=tf.sigmoid)\n",
        "  dense_output = dense(concatenated_inputs)\n",
        "  \"\"\"Crea y compila un modelo de clasificación simple.\"\"\"\n",
        "  my_outputs = {\n",
        "    'dense': dense_output,\n",
        "  }\n",
        "  model = tf.keras.Model(inputs=my_inputs, outputs=my_outputs)\n",
        "\n",
        "  # Llama al método compile para construir las capas en un modelo que\n",
        "  # TensorFlow pueda ejecutar. Observa que estamos utilizando una función de pérdida\n",
        "  # diferente para clasificación que para regresión.\n",
        "  model.compile(optimizer=tf.keras.optimizers.experimental.RMSprop(learning_rate=my_learning_rate),\n",
        "                loss=tf.keras.losses.BinaryCrossentropy(),\n",
        "                metrics=METRICS)\n",
        "  return model\n",
        "\n",
        "\n",
        "def train_model(model, dataset, epochs, label_name,\n",
        "                batch_size=None, shuffle=True):\n",
        "  \"\"\"Alimenta un conjunto de datos en el modelo para entrenarlo.\"\"\"\n",
        "\n",
        "  # El parámetro x de tf.keras.Model.fit puede ser una lista de matrices, donde\n",
        "  # cada matriz contiene los datos para una característica. Aquí, estamos pasando\n",
        "  # cada columna en el conjunto de datos. Ten en cuenta que la capa de características filtrará\n",
        "  # la mayoría de esas columnas, dejando solo las columnas deseadas y sus\n",
        "  # representaciones como características.\n",
        "  features = {name:np.array(value) for name, value in dataset.items()}\n",
        "  label = np.array(features.pop(label_name))\n",
        "  history = model.fit(x=features, y=label, batch_size=batch_size,\n",
        "                      epochs=epochs, shuffle=shuffle)\n",
        "\n",
        "  # La lista de épocas se almacena por separado del resto del historial.\n",
        "  epochs = history.epoch\n",
        "\n",
        "  # Aísla la métrica de clasificación para cada época.\n",
        "  hist = pd.DataFrame(history.history)\n",
        "\n",
        "  return epochs, hist\n",
        "\n",
        "print(\"Definidas las funciones create_model y train_model.\")\n"
      ]
    },
    {
      "cell_type": "markdown",
      "metadata": {
        "id": "Ak_TMAzGOIFq"
      },
      "source": [
        "## Define a plotting function\n",
        "\n",
        "The following [matplotlib](https://developers.google.com/machine-learning/glossary/#matplotlib) function plots one or more curves, showing how various classification metrics change with each epoch.\n",
        "\n",
        "## Define una función de trazado\n",
        "\n",
        "La siguiente función de [matplotlib](https://developers.google.com/machine-learning/glossary/#matplotlib) traza una o más curvas, mostrando cómo varias métricas de clasificación cambian con cada época."
      ]
    },
    {
      "cell_type": "code",
      "execution_count": 11,
      "metadata": {
        "cellView": "form",
        "id": "QF0BFRXTOeR3"
      },
      "outputs": [
        {
          "name": "stdout",
          "output_type": "stream",
          "text": [
            "Defined the plot_curve function.\n"
          ]
        }
      ],
      "source": [
        "#@title Define the plotting function.\n",
        "def plot_curve(epochs, hist, list_of_metrics):\n",
        "  \"\"\"Plot a curve of one or more classification metrics vs. epoch.\"\"\"\n",
        "  # list_of_metrics should be one of the names shown in:\n",
        "  # https://www.tensorflow.org/tutorials/structured_data/imbalanced_data#define_the_model_and_metrics\n",
        "\n",
        "  plt.figure()\n",
        "  plt.xlabel(\"Epoch\")\n",
        "  plt.ylabel(\"Value\")\n",
        "\n",
        "  for m in list_of_metrics:\n",
        "    x = hist[m]\n",
        "    plt.plot(epochs[1:], x[1:], label=m)\n",
        "\n",
        "  plt.legend()\n",
        "\n",
        "print(\"Defined the plot_curve function.\")"
      ]
    },
    {
      "cell_type": "markdown",
      "metadata": {
        "id": "D-IXYVfvM4gD"
      },
      "source": [
        "## Invoke the creating, training, and plotting functions\n",
        "\n",
        "The following code cell calls specify the hyperparameters, and then invokes the\n",
        "functions to create and train the model, and then to plot the results.\n",
        "\n",
        "## Invoca las funciones de creación, entrenamiento y trazado\n",
        "\n",
        "La siguiente celda de código especifica los hiperparámetros y luego invoca las\n",
        "funciones para crear y entrenar el modelo, y luego para trazar los resultados."
      ]
    },
    {
      "cell_type": "code",
      "execution_count": 12,
      "metadata": {
        "cellView": "both",
        "id": "nj3v5EKQFY8s"
      },
      "outputs": [
        {
          "name": "stdout",
          "output_type": "stream",
          "text": [
            "Epoch 1/20\n",
            "WARNING:tensorflow:From c:\\Users\\PERSONAL\\OneDrive\\Documentos\\PROGRAMACION GITHUB\\MACHINE LEARNING\\env\\lib\\site-packages\\keras\\src\\utils\\tf_utils.py:492: The name tf.ragged.RaggedTensorValue is deprecated. Please use tf.compat.v1.ragged.RaggedTensorValue instead.\n",
            "\n"
          ]
        },
        {
          "name": "stderr",
          "output_type": "stream",
          "text": [
            "c:\\Users\\PERSONAL\\OneDrive\\Documentos\\PROGRAMACION GITHUB\\MACHINE LEARNING\\env\\lib\\site-packages\\keras\\src\\engine\\functional.py:642: UserWarning: Input dict contained keys ['longitude', 'latitude', 'housing_median_age', 'total_bedrooms', 'population', 'households', 'median_house_value'] which did not match any model input. They will be ignored by the model.\n",
            "  inputs = self._flatten_to_reference_inputs(inputs)\n"
          ]
        },
        {
          "name": "stdout",
          "output_type": "stream",
          "text": [
            "170/170 [==============================] - 1s 762us/step - loss: 0.8407 - accuracy: 0.2179\n",
            "Epoch 2/20\n",
            "170/170 [==============================] - 0s 728us/step - loss: 0.7303 - accuracy: 0.2236\n",
            "Epoch 3/20\n",
            "170/170 [==============================] - 0s 741us/step - loss: 0.6402 - accuracy: 0.2512\n",
            "Epoch 4/20\n",
            "170/170 [==============================] - 0s 766us/step - loss: 0.5711 - accuracy: 0.5122\n",
            "Epoch 5/20\n",
            "170/170 [==============================] - 0s 767us/step - loss: 0.5202 - accuracy: 0.7868\n",
            "Epoch 6/20\n",
            "170/170 [==============================] - 0s 712us/step - loss: 0.4841 - accuracy: 0.8089\n",
            "Epoch 7/20\n",
            "170/170 [==============================] - 0s 703us/step - loss: 0.4582 - accuracy: 0.8170\n",
            "Epoch 8/20\n",
            "170/170 [==============================] - 0s 710us/step - loss: 0.4390 - accuracy: 0.8182\n",
            "Epoch 9/20\n",
            "170/170 [==============================] - 0s 741us/step - loss: 0.4247 - accuracy: 0.8166\n",
            "Epoch 10/20\n",
            "170/170 [==============================] - 0s 728us/step - loss: 0.4145 - accuracy: 0.8150\n",
            "Epoch 11/20\n",
            "170/170 [==============================] - 0s 700us/step - loss: 0.4075 - accuracy: 0.8133\n",
            "Epoch 12/20\n",
            "170/170 [==============================] - 0s 712us/step - loss: 0.4029 - accuracy: 0.8113\n",
            "Epoch 13/20\n",
            "170/170 [==============================] - 0s 690us/step - loss: 0.4001 - accuracy: 0.8102\n",
            "Epoch 14/20\n",
            "170/170 [==============================] - 0s 710us/step - loss: 0.3985 - accuracy: 0.8092\n",
            "Epoch 15/20\n",
            "170/170 [==============================] - 0s 716us/step - loss: 0.3976 - accuracy: 0.8095\n",
            "Epoch 16/20\n",
            "170/170 [==============================] - 0s 715us/step - loss: 0.3971 - accuracy: 0.8086\n",
            "Epoch 17/20\n",
            "170/170 [==============================] - 0s 716us/step - loss: 0.3969 - accuracy: 0.8088\n",
            "Epoch 18/20\n",
            "170/170 [==============================] - 0s 716us/step - loss: 0.3967 - accuracy: 0.8092\n",
            "Epoch 19/20\n",
            "170/170 [==============================] - 0s 732us/step - loss: 0.3967 - accuracy: 0.8091\n",
            "Epoch 20/20\n",
            "170/170 [==============================] - 0s 720us/step - loss: 0.3967 - accuracy: 0.8094\n"
          ]
        },
        {
          "data": {
            "image/png": "[encoded data removed]",
            "text/plain": [
              "<Figure size 640x480 with 1 Axes>"
            ]
          },
          "metadata": {},
          "output_type": "display_data"
        }
      ],
      "source": [
        "# The following variables are the hyperparameters.\n",
        "learning_rate = 0.001\n",
        "#learning_rate: Es la tasa de aprendizaje, que determina qué tan grande son los pasos que el algoritmo toma durante el entrenamiento para ajustar los pesos del modelo. \n",
        "# Un valor pequeño significa pasos pequeños y, a menudo, una convergencia más lenta pero más precisa. \n",
        "# Un valor grande puede llevar a convergencia más rápida, pero existe el riesgo de superar el mínimo óptimo.\n",
        "\n",
        "epochs = 20\n",
        "#epochs: Representa el número de veces que el modelo verá todo el conjunto de entrenamiento durante el proceso de entrenamiento. \n",
        "# Cada época consiste en un pase hacia adelante y hacia atrás a través de todos los ejemplos de entrenamiento.\n",
        "\n",
        "batch_size = 100\n",
        "#batch_size: Es el número de ejemplos de entrenamiento utilizados en una iteración. \n",
        "# Durante cada época, los datos se dividen en lotes, y el modelo se actualiza después de cada lote. \n",
        "# El tamaño del lote afecta la velocidad y la estabilidad del entrenamiento.\n",
        "\n",
        "\n",
        "\n",
        "label_name = \"median_house_value_is_high\"\n",
        "classification_threshold = 0.35\n",
        "\n",
        "# Establish the metrics the model will measure.\n",
        "METRICS = [\n",
        "           tf.keras.metrics.BinaryAccuracy(name='accuracy',\n",
        "                                           threshold=classification_threshold),\n",
        "          ]\n",
        "\n",
        "# Establish the model's topography.\n",
        "my_model = create_model(inputs, learning_rate, METRICS)\n",
        "\n",
        "# To view a PNG of this model's layers, uncomment the call to\n",
        "# `tf.keras.utils.plot_model` below. After running this code cell, click\n",
        "# the file folder on the left, then the `my_classification_model.png` file.\n",
        "# tf.keras.utils.plot_model(my_model, \"my_classification_model.png\")\n",
        "\n",
        "# Train the model on the training set.\n",
        "epochs, hist = train_model(my_model, train_df_norm, epochs,\n",
        "                           label_name, batch_size)\n",
        "\n",
        "# Plot a graph of the metric(s) vs. epochs.\n",
        "list_of_metrics_to_plot = ['accuracy']\n",
        "\n",
        "plot_curve(epochs, hist, list_of_metrics_to_plot)"
      ]
    },
    {
      "cell_type": "markdown",
      "metadata": {
        "id": "FF64TpqkbOpn"
      },
      "source": [
        "Accuracy should gradually improve during training (until it can\n",
        "improve no more)."
      ]
    },
    {
      "cell_type": "markdown",
      "metadata": {
        "id": "1xNqWWos_zyk"
      },
      "source": [
        "## Evaluate the model against the test set\n",
        "\n",
        "At the end of model training, you ended up with a certain accuracy against the *training set*. Invoke the following code cell to determine your model's accuracy against the *test set*.\n",
        "\n",
        "## Evaluar el modelo contra el conjunto de prueba\n",
        "\n",
        "Al final del entrenamiento del modelo, obtuviste una cierta exactitud contra el *conjunto de entrenamiento*. Invoca la siguiente celda de código para determinar la exactitud de tu modelo contra el *conjunto de prueba*."
      ]
    },
    {
      "cell_type": "code",
      "execution_count": 13,
      "metadata": {
        "id": "eJorkMlDmtHf"
      },
      "outputs": [
        {
          "name": "stdout",
          "output_type": "stream",
          "text": [
            "30/30 [==============================] - 0s 833us/step - loss: 0.6484 - accuracy: 0.6913\n"
          ]
        },
        {
          "data": {
            "text/plain": [
              "[0.6483839154243469, 0.6913333535194397]"
            ]
          },
          "execution_count": 13,
          "metadata": {},
          "output_type": "execute_result"
        }
      ],
      "source": [
        "features = {name:np.array(value) for name, value in test_df_norm.items()}\n",
        "label = np.array(features.pop(label_name))\n",
        "\n",
        "my_model.evaluate(x = features, y = label, batch_size=batch_size)"
      ]
    },
    {
      "cell_type": "markdown",
      "metadata": {
        "id": "q7cHkFXalXV5"
      },
      "source": [
        "## Task 2: How accurate is your model really?\n",
        "\n",
        "Is your model valuable?"
      ]
    },
    {
      "cell_type": "code",
      "execution_count": 14,
      "metadata": {
        "id": "rUvCrQkulwjV"
      },
      "outputs": [],
      "source": [
        "#@title Double-click for a possible answer to Task 2.\n",
        "\n",
        "# A perfect model would make 100% accurate predictions.\n",
        "# Our model makes 80% accurate predictions. 80% sounds\n",
        "# good, but note that a model that always guesses\n",
        "# \"median_house_value_is_high is False\" would be 75%\n",
        "# accurate.\n",
        "# Un modelo perfecto haría predicciones con un 100% de precisión.\n",
        "# Nuestro modelo hace predicciones con un 80% de precisión. Un 80%\n",
        "# suena bien, pero ten en cuenta que un modelo que siempre\n",
        "# adivine \"median_house_value_is_high es Falso\" tendría un 75%\n",
        "# de precisión.\n"
      ]
    },
    {
      "cell_type": "markdown",
      "metadata": {
        "id": "C8crSCCVf6gm"
      },
      "source": [
        "## Task 3: Add precision and recall as metrics\n",
        "\n",
        "Relying solely on accuracy, particularly for a class-imbalanced data set (like ours), can be a poor way to judge a classification model.  Modify the code in the following code cell to enable the model to measure not only accuracy but also precision and recall. We have\n",
        "added accuracy and precision; your task is to add recall. See the [TensorFlow Reference](https://www.tensorflow.org/api_docs/python/tf/keras/metrics/Recall) for details.\n",
        "\n",
        "## Tarea 3: Agregar precisión y recall como métricas\n",
        "\n",
        "Depender únicamente de la precisión, especialmente para un conjunto de datos desequilibrado en clases (como el nuestro), puede ser una forma deficiente de evaluar un modelo de clasificación. Modifica el código en la siguiente celda de código para permitir que el modelo mida no solo la precisión, sino también la precisión y el recall. Hemos agregado precisión y exactitud; tu tarea es agregar recall. Consulta la [Referencia de TensorFlow](https://www.tensorflow.org/api_docs/python/tf/keras/metrics/Recall) para obtener detalles."
      ]
    },
    {
      "cell_type": "code",
      "execution_count": 15,
      "metadata": {
        "id": "r-k1MD2XArmO"
      },
      "outputs": [
        {
          "name": "stdout",
          "output_type": "stream",
          "text": [
            "Epoch 1/20\n",
            "170/170 [==============================] - 1s 782us/step - loss: 0.6066 - accuracy: 0.3601 - precision: 0.2726 - recall: 0.9360\n",
            "Epoch 2/20\n",
            "170/170 [==============================] - 0s 774us/step - loss: 0.5386 - accuracy: 0.5294 - precision: 0.3364 - recall: 0.9084\n",
            "Epoch 3/20\n",
            "170/170 [==============================] - 0s 751us/step - loss: 0.4898 - accuracy: 0.6502 - precision: 0.4046 - recall: 0.8491\n",
            "Epoch 4/20\n",
            "170/170 [==============================] - 0s 751us/step - loss: 0.4557 - accuracy: 0.7147 - precision: 0.4591 - recall: 0.7959\n",
            "Epoch 5/20\n",
            "170/170 [==============================] - 0s 783us/step - loss: 0.4328 - accuracy: 0.7495 - precision: 0.4991 - recall: 0.7455\n",
            "Epoch 6/20\n",
            "170/170 [==============================] - 0s 743us/step - loss: 0.4179 - accuracy: 0.7724 - precision: 0.5338 - recall: 0.7033\n",
            "Epoch 7/20\n",
            "170/170 [==============================] - 0s 785us/step - loss: 0.4083 - accuracy: 0.7856 - precision: 0.5587 - recall: 0.6758\n",
            "Epoch 8/20\n",
            "170/170 [==============================] - 0s 757us/step - loss: 0.4025 - accuracy: 0.7965 - precision: 0.5822 - recall: 0.6562\n",
            "Epoch 9/20\n",
            "170/170 [==============================] - 0s 740us/step - loss: 0.3994 - accuracy: 0.8032 - precision: 0.5994 - recall: 0.6395\n",
            "Epoch 10/20\n",
            "170/170 [==============================] - 0s 768us/step - loss: 0.3980 - accuracy: 0.8064 - precision: 0.6097 - recall: 0.6254\n",
            "Epoch 11/20\n",
            "170/170 [==============================] - 0s 786us/step - loss: 0.3973 - accuracy: 0.8072 - precision: 0.6129 - recall: 0.6200\n",
            "Epoch 12/20\n",
            "170/170 [==============================] - 0s 758us/step - loss: 0.3970 - accuracy: 0.8075 - precision: 0.6141 - recall: 0.6174\n",
            "Epoch 13/20\n",
            "170/170 [==============================] - 0s 823us/step - loss: 0.3968 - accuracy: 0.8079 - precision: 0.6155 - recall: 0.6160\n",
            "Epoch 14/20\n",
            "170/170 [==============================] - 0s 836us/step - loss: 0.3967 - accuracy: 0.8088 - precision: 0.6177 - recall: 0.6155\n",
            "Epoch 15/20\n",
            "170/170 [==============================] - 0s 763us/step - loss: 0.3967 - accuracy: 0.8086 - precision: 0.6174 - recall: 0.6153\n",
            "Epoch 16/20\n",
            "170/170 [==============================] - 0s 816us/step - loss: 0.3966 - accuracy: 0.8097 - precision: 0.6204 - recall: 0.6141\n",
            "Epoch 17/20\n",
            "170/170 [==============================] - 0s 792us/step - loss: 0.3966 - accuracy: 0.8088 - precision: 0.6180 - recall: 0.6143\n",
            "Epoch 18/20\n",
            "170/170 [==============================] - 0s 811us/step - loss: 0.3966 - accuracy: 0.8097 - precision: 0.6205 - recall: 0.6134\n",
            "Epoch 19/20\n",
            "170/170 [==============================] - 0s 793us/step - loss: 0.3966 - accuracy: 0.8088 - precision: 0.6179 - recall: 0.6153\n",
            "Epoch 20/20\n",
            "170/170 [==============================] - 0s 791us/step - loss: 0.3966 - accuracy: 0.8091 - precision: 0.6188 - recall: 0.6143\n"
          ]
        },
        {
          "data": {
            "image/png": "[encoded data removed]",
            "text/plain": [
              "<Figure size 640x480 with 1 Axes>"
            ]
          },
          "metadata": {},
          "output_type": "display_data"
        }
      ],
      "source": [
        "# The following variables are the hyperparameters.\n",
        "learning_rate = 0.001\n",
        "epochs = 20\n",
        "batch_size = 100\n",
        "classification_threshold = 0.35\n",
        "label_name = \"median_house_value_is_high\"\n",
        "\n",
        "# Here is the updated definition of METRICS:\n",
        "METRICS = [\n",
        "      tf.keras.metrics.BinaryAccuracy(name='accuracy',\n",
        "                                      threshold=classification_threshold),\n",
        "      tf.keras.metrics.Precision(thresholds=classification_threshold,\n",
        "                                 name='precision'\n",
        "                                 ),\n",
        "      tf.keras.metrics.Recall(thresholds=classification_threshold,\n",
        "                              name=\"recall\"),\n",
        "]\n",
        "\n",
        "# Establish the model's topography.\n",
        "my_model = create_model(inputs, learning_rate, METRICS)\n",
        "\n",
        "# Train the model on the training set.\n",
        "epochs, hist = train_model(my_model, train_df_norm, epochs,\n",
        "                           label_name, batch_size)\n",
        "\n",
        "# Plot metrics vs. epochs\n",
        "list_of_metrics_to_plot = ['accuracy', \"precision\", \"recall\"]\n",
        "plot_curve(epochs, hist, list_of_metrics_to_plot)\n",
        "\n",
        "\n",
        "# The new graphs suggest that precision and recall are\n",
        "# somewhat in conflict. That is, improvements to one of\n",
        "# those metrics may hurt the other metric."
      ]
    },
    {
      "cell_type": "markdown",
      "metadata": {
        "id": "cAsB85iKSXLe"
      },
      "source": [
        "## Task 4: Experiment with the classification threshold (if time permits)\n",
        "\n",
        "Experiment with different values for `classification_threshold` in the code cell within \"Invoke the creating, training, and plotting functions.\"  What value of `classification_threshold` produces the highest accuracy?\n",
        "\n",
        "## Tarea 4: Experimentar con el umbral de clasificación (si el tiempo lo permite)\n",
        "\n",
        "Experimenta con diferentes valores para `classification_threshold` en la celda de código dentro de \"Invoca las funciones de creación, entrenamiento y graficación\". ¿Qué valor de `classification_threshold` produce la mayor precisión?"
      ]
    },
    {
      "cell_type": "code",
      "execution_count": 16,
      "metadata": {
        "cellView": "form",
        "id": "FLPDYI7Sphnj"
      },
      "outputs": [
        {
          "name": "stdout",
          "output_type": "stream",
          "text": [
            "Epoch 1/20\n",
            "170/170 [==============================] - 0s 779us/step - loss: 1.0616 - accuracy: 0.3601 - precision: 0.1040 - recall: 0.2051\n",
            "Epoch 2/20\n",
            "170/170 [==============================] - 0s 769us/step - loss: 0.9570 - accuracy: 0.4349 - precision: 0.0992 - recall: 0.1561\n",
            "Epoch 3/20\n",
            "170/170 [==============================] - 0s 782us/step - loss: 0.8628 - accuracy: 0.5412 - precision: 0.0985 - recall: 0.1027\n",
            "Epoch 4/20\n",
            "170/170 [==============================] - 0s 773us/step - loss: 0.7795 - accuracy: 0.6594 - precision: 0.1235 - recall: 0.0596\n",
            "Epoch 5/20\n",
            "170/170 [==============================] - 0s 776us/step - loss: 0.7083 - accuracy: 0.7166 - precision: 0.1671 - recall: 0.0337\n",
            "Epoch 6/20\n",
            "170/170 [==============================] - 0s 773us/step - loss: 0.6483 - accuracy: 0.7332 - precision: 0.1936 - recall: 0.0214\n",
            "Epoch 7/20\n",
            "170/170 [==============================] - 0s 773us/step - loss: 0.5984 - accuracy: 0.7416 - precision: 0.2355 - recall: 0.0153\n",
            "Epoch 8/20\n",
            "170/170 [==============================] - 0s 772us/step - loss: 0.5560 - accuracy: 0.7464 - precision: 0.3333 - recall: 0.0153\n",
            "Epoch 9/20\n",
            "170/170 [==============================] - 0s 804us/step - loss: 0.5201 - accuracy: 0.7506 - precision: 0.5193 - recall: 0.0221\n",
            "Epoch 10/20\n",
            "170/170 [==============================] - 0s 764us/step - loss: 0.4904 - accuracy: 0.7625 - precision: 0.7838 - recall: 0.0683\n",
            "Epoch 11/20\n",
            "170/170 [==============================] - 0s 765us/step - loss: 0.4659 - accuracy: 0.7795 - precision: 0.8940 - recall: 0.1330\n",
            "Epoch 12/20\n",
            "170/170 [==============================] - 0s 792us/step - loss: 0.4462 - accuracy: 0.7973 - precision: 0.9168 - recall: 0.2074\n",
            "Epoch 13/20\n",
            "170/170 [==============================] - 0s 775us/step - loss: 0.4311 - accuracy: 0.8123 - precision: 0.9217 - recall: 0.2717\n",
            "Epoch 14/20\n",
            "170/170 [==============================] - 0s 752us/step - loss: 0.4195 - accuracy: 0.8246 - precision: 0.9022 - recall: 0.3344\n",
            "Epoch 15/20\n",
            "170/170 [==============================] - 0s 773us/step - loss: 0.4107 - accuracy: 0.8312 - precision: 0.8736 - recall: 0.3791\n",
            "Epoch 16/20\n",
            "170/170 [==============================] - 0s 800us/step - loss: 0.4050 - accuracy: 0.8326 - precision: 0.8380 - recall: 0.4092\n",
            "Epoch 17/20\n",
            "170/170 [==============================] - 0s 757us/step - loss: 0.4013 - accuracy: 0.8345 - precision: 0.8232 - recall: 0.4297\n",
            "Epoch 18/20\n",
            "170/170 [==============================] - 0s 878us/step - loss: 0.3990 - accuracy: 0.8360 - precision: 0.8116 - recall: 0.4474\n",
            "Epoch 19/20\n",
            "170/170 [==============================] - 0s 794us/step - loss: 0.3978 - accuracy: 0.8358 - precision: 0.8011 - recall: 0.4561\n",
            "Epoch 20/20\n",
            "170/170 [==============================] - 0s 768us/step - loss: 0.3972 - accuracy: 0.8361 - precision: 0.7967 - recall: 0.4615\n"
          ]
        },
        {
          "data": {
            "image/png": "[encoded data removed]",
            "text/plain": [
              "<Figure size 640x480 with 1 Axes>"
            ]
          },
          "metadata": {},
          "output_type": "display_data"
        }
      ],
      "source": [
        "# The following variables are the hyperparameters.\n",
        "learning_rate = 0.001\n",
        "epochs = 20\n",
        "batch_size = 100\n",
        "classification_threshold = 0.52\n",
        "label_name = \"median_house_value_is_high\"\n",
        "\n",
        "# Here is the updated definition of METRICS:\n",
        "METRICS = [\n",
        "      tf.keras.metrics.BinaryAccuracy(name='accuracy',\n",
        "                                      threshold=classification_threshold),\n",
        "      tf.keras.metrics.Precision(thresholds=classification_threshold,\n",
        "                                 name='precision'\n",
        "                                 ),\n",
        "      tf.keras.metrics.Recall(thresholds=classification_threshold,\n",
        "                              name=\"recall\"),\n",
        "]\n",
        "\n",
        "# Establish the model's topography.\n",
        "my_model = create_model(inputs, learning_rate, METRICS)\n",
        "\n",
        "# Train the model on the training set.\n",
        "epochs, hist = train_model(my_model, train_df_norm, epochs,\n",
        "                           label_name, batch_size)\n",
        "\n",
        "# Plot metrics vs. epochs\n",
        "list_of_metrics_to_plot = ['accuracy', \"precision\", \"recall\"]\n",
        "plot_curve(epochs, hist, list_of_metrics_to_plot)\n",
        "\n",
        "# A `classification_threshold` of slightly over 0.5\n",
        "# appears to produce the highest accuracy (about 83%).\n",
        "# Raising the `classification_threshold` to 0.9 drops\n",
        "# accuracy by about 5%.  Lowering the\n",
        "# `classification_threshold` to 0.3 drops accuracy by\n",
        "# about 3%."
      ]
    },
    {
      "cell_type": "markdown",
      "metadata": {
        "id": "XBGRS0Ndduus"
      },
      "source": [
        "## Task 5: Summarize model performance (if time permits)\n",
        "\n",
        "If time permits, add one more metric that attempts to summarize the model's overall performance.\n",
        "\n",
        "\n",
        "## Tarea 5: Resumir el rendimiento del modelo (si el tiempo lo permite)\n",
        "\n",
        "Si el tiempo lo permite, agrega una métrica adicional que intente resumir el rendimiento general del modelo."
      ]
    },
    {
      "cell_type": "code",
      "execution_count": 17,
      "metadata": {
        "cellView": "form",
        "id": "vwNE6syoFvWe"
      },
      "outputs": [
        {
          "name": "stdout",
          "output_type": "stream",
          "text": [
            "Epoch 1/20\n",
            "170/170 [==============================] - 0s 848us/step - loss: 0.5801 - auc: 0.7831\n",
            "Epoch 2/20\n",
            "170/170 [==============================] - 0s 789us/step - loss: 0.5213 - auc: 0.8077\n",
            "Epoch 3/20\n",
            "170/170 [==============================] - 0s 801us/step - loss: 0.4786 - auc: 0.8234\n",
            "Epoch 4/20\n",
            "170/170 [==============================] - 0s 781us/step - loss: 0.4487 - auc: 0.8323\n",
            "Epoch 5/20\n",
            "170/170 [==============================] - 0s 761us/step - loss: 0.4285 - auc: 0.8357\n",
            "Epoch 6/20\n",
            "170/170 [==============================] - 0s 779us/step - loss: 0.4151 - auc: 0.8367\n",
            "Epoch 7/20\n",
            "170/170 [==============================] - 0s 1ms/step - loss: 0.4067 - auc: 0.8365\n",
            "Epoch 8/20\n",
            "170/170 [==============================] - 0s 963us/step - loss: 0.4015 - auc: 0.8366\n",
            "Epoch 9/20\n",
            "170/170 [==============================] - 0s 881us/step - loss: 0.3988 - auc: 0.8369\n",
            "Epoch 10/20\n",
            "170/170 [==============================] - 0s 864us/step - loss: 0.3976 - auc: 0.8368\n",
            "Epoch 11/20\n",
            "170/170 [==============================] - 0s 892us/step - loss: 0.3971 - auc: 0.8368\n",
            "Epoch 12/20\n",
            "170/170 [==============================] - 0s 887us/step - loss: 0.3968 - auc: 0.8369\n",
            "Epoch 13/20\n",
            "170/170 [==============================] - 0s 856us/step - loss: 0.3967 - auc: 0.8367\n",
            "Epoch 14/20\n",
            "170/170 [==============================] - 0s 869us/step - loss: 0.3967 - auc: 0.8368\n",
            "Epoch 15/20\n",
            "170/170 [==============================] - 0s 875us/step - loss: 0.3966 - auc: 0.8369\n",
            "Epoch 16/20\n",
            "170/170 [==============================] - 0s 895us/step - loss: 0.3966 - auc: 0.8369\n",
            "Epoch 17/20\n",
            "170/170 [==============================] - 0s 964us/step - loss: 0.3966 - auc: 0.8370\n",
            "Epoch 18/20\n",
            "170/170 [==============================] - 0s 865us/step - loss: 0.3966 - auc: 0.8369\n",
            "Epoch 19/20\n",
            "170/170 [==============================] - 0s 875us/step - loss: 0.3966 - auc: 0.8370\n",
            "Epoch 20/20\n",
            "170/170 [==============================] - 0s 887us/step - loss: 0.3966 - auc: 0.8369\n"
          ]
        },
        {
          "data": {
            "image/png": "[encoded data removed]",
            "text/plain": [
              "<Figure size 640x480 with 1 Axes>"
            ]
          },
          "metadata": {},
          "output_type": "display_data"
        }
      ],
      "source": [
        "# Las siguientes variables son los hiperparámetros.\n",
        "tasa_aprendizaje = 0.001\n",
        "epocas = 20\n",
        "tamaño_lote = 100\n",
        "nombre_etiqueta = \"median_house_value_is_high\"\n",
        "\n",
        "# El AUC es una métrica \"resumen\" razonable para\n",
        "# modelos de clasificación.\n",
        "# Aquí está la definición actualizada de METRICS para\n",
        "# medir el AUC:\n",
        "METRICS = [\n",
        "      tf.keras.metrics.AUC(num_thresholds=100, name='auc'),\n",
        "]\n",
        "\n",
        "# Establecer la topografía del modelo.\n",
        "mi_modelo = create_model(inputs, tasa_aprendizaje, METRICS)\n",
        "\n",
        "# Entrenar el modelo en el conjunto de entrenamiento.\n",
        "epocas, hist = train_model(mi_modelo, train_df_norm, epocas,\n",
        "                           nombre_etiqueta, tamaño_lote)\n",
        "\n",
        "# Graficar métricas vs. épocas.\n",
        "lista_de_metricas_a_graficar = ['auc']\n",
        "plot_curve(epocas, hist, lista_de_metricas_a_graficar)"
      ]
    }
  ],
  "metadata": {
    "colab": {
      "name": "Binary Classification.ipynb",
      "private_outputs": true,
      "provenance": []
    },
    "kernelspec": {
      "display_name": "Python 3",
      "name": "python3"
    },
    "language_info": {
      "codemirror_mode": {
        "name": "ipython",
        "version": 3
      },
      "file_extension": ".py",
      "mimetype": "text/x-python",
      "name": "python",
      "nbconvert_exporter": "python",
      "pygments_lexer": "ipython3",
      "version": "3.9.13"
    }
  },
  "nbformat": 4,
  "nbformat_minor": 0
}
