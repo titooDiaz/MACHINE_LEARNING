{
  "cells": [
    {
      "cell_type": "markdown",
      "metadata": {
        "id": "T4r2z30vJSbA"
      },
      "source": [
        "# Colabs\n",
        "\n",
        "Machine Learning Crash Course uses Colaboratories (Colabs) for all programming exercises. Colab is Google's implementation of [Jupyter Notebook](https://jupyter.org/). For more information about Colabs and how to use them, go to [Welcome to Colaboratory](https://research.google.com/colaboratory)."
      ]
    },
    {
      "cell_type": "markdown",
      "metadata": {
        "id": "TL5y5fY9Jy_x"
      },
      "source": [
        "# Binary Classification\n",
        "\n",
        "So far, you've only created regression models. That is, you created models that produced floating-point predictions, such as, \"houses in this neighborhood costs N thousand dollars.\" In this Colab, you'll create and evaluate a binary [classification model](https://developers.google.com/machine-learning/glossary/#classification_model).  That is, you'll create a model that answers a binary question. In this exercise, the binary question will be, \"Are houses in this neighborhood above a certain price?\"\n",
        "\n",
        "\n",
        "\n",
        "# Clasificación Binaria\n",
        "\n",
        "Hasta ahora, solo has creado modelos de regresión. Es decir, has creado modelos que generan predicciones de punto flotante, como \"las casas en este vecindario cuestan N mil dólares\". En este Colab, crearás y evaluarás un [modelo de clasificación binaria](https://developers.google.com/machine-learning/glossary/#classification_model). Es decir, crearás un modelo que responde a una pregunta binaria. En este ejercicio, la pregunta binaria será: \"¿Las casas en este vecindario están por encima de cierto precio?\""
      ]
    },
    {
      "cell_type": "markdown",
      "metadata": {
        "id": "yuw8rRl9lNuL"
      },
      "source": [
        "## Learning Objectives:\n",
        "\n",
        "After doing this Colab, you'll know how to:\n",
        "\n",
        "  * Convert a regression question into a classification question.\n",
        "  * Modify the classification threshold and determine how that modification influences the model.\n",
        "  * Experiment with different classification metrics to determine your model's effectiveness.\n",
        "\n",
        "## Objetivos de Aprendizaje:\n",
        "\n",
        "Después de realizar este Colab, sabrás cómo:\n",
        "\n",
        "  * Convertir una pregunta de regresión en una pregunta de clasificación.\n",
        "  * Modificar el umbral de clasificación y determinar cómo esa modificación influye en el modelo.\n",
        "  * Experimentar con diferentes métricas de clasificación para determinar la efectividad de tu modelo."
      ]
    },
    {
      "cell_type": "markdown",
      "metadata": {
        "id": "44OdC-OglN9D"
      },
      "source": [
        "## The Dataset\n",
        "  \n",
        "Like several of the previous Colabs, this Colab uses the [California Housing Dataset](https://developers.google.com/machine-learning/crash-course/california-housing-data-description).\n",
        "\n",
        "## El Conjunto de Datos\n",
        "\n",
        "Al igual que en varios de los Colabs anteriores, este Colab utiliza el [Conjunto de Datos de Viviendas de California](https://developers.google.com/machine-learning/crash-course/california-housing-data-description)."
      ]
    },
    {
      "cell_type": "markdown",
      "metadata": {
        "id": "5iuw6-JOGf7I"
      },
      "source": [
        "## Call the import statements\n",
        "\n",
        "The following code imports the necessary modules."
      ]
    },
    {
      "cell_type": "code",
      "execution_count": 15,
      "metadata": {
        "cellView": "form",
        "id": "9n9_cTveKmse"
      },
      "outputs": [
        {
          "name": "stdout",
          "output_type": "stream",
          "text": [
            "Ran the import statements.\n"
          ]
        }
      ],
      "source": [
        "#@title Load the imports\n",
        "\n",
        "import numpy as np\n",
        "import pandas as pd\n",
        "import tensorflow as tf\n",
        "from tensorflow.keras import layers\n",
        "from matplotlib import pyplot as plt\n",
        "\n",
        "# The following lines adjust the granularity of reporting.\n",
        "pd.options.display.max_rows = 10\n",
        "pd.options.display.float_format = \"{:.1f}\".format\n",
        "# tf.keras.backend.set_floatx('float32')\n",
        "\n",
        "print(\"Ran the import statements.\")"
      ]
    },
    {
      "cell_type": "markdown",
      "metadata": {
        "id": "X_TaJhU4KcuY"
      },
      "source": [
        "## Load the datasets from the internet\n",
        "\n",
        "The following code cell loads the separate .csv files and creates the following two pandas DataFrames:\n",
        "\n",
        "* `train_df`, which contains the training set\n",
        "* `test_df`, which contains the test set\n",
        "\n",
        "## Cargar los conjuntos de datos desde internet\n",
        "\n",
        "La siguiente celda de código carga los archivos .csv por separado y crea los siguientes dos DataFrames de pandas:\n",
        "\n",
        "* `train_df`, que contiene el conjunto de entrenamiento\n",
        "* `test_df`, que contiene el conjunto de prueba"
      ]
    },
    {
      "cell_type": "code",
      "execution_count": 16,
      "metadata": {
        "id": "JZlvdpyYKx7V"
      },
      "outputs": [],
      "source": [
        "train_df = pd.read_csv(\"https://download.mlcc.google.com/mledu-datasets/california_housing_train.csv\")\n",
        "test_df = pd.read_csv(\"https://download.mlcc.google.com/mledu-datasets/california_housing_test.csv\")\n",
        "train_df = train_df.reindex(np.random.permutation(train_df.index)) # shuffle the training set"
      ]
    },
    {
      "cell_type": "markdown",
      "metadata": {
        "id": "q_vuAQq0Cvrp"
      },
      "source": [
        "Unlike some of the previous Colabs, the preceding code cell did not scale the label (`median_house_value`).  The following section (\"Normalize values\") provides an alternative approach."
      ]
    },
    {
      "cell_type": "markdown",
      "metadata": {
        "id": "_G6y-XcEmk6r"
      },
      "source": [
        "## Normalize values\n",
        "\n",
        "When creating a model with multiple features, the values of each feature should cover roughly the same range.  For example, if one feature's range spans 500 to 100,000 and another feature's range spans 2 to 12, then the model will be difficult or impossible to train. Therefore, you should\n",
        "[normalize](https://developers.google.com/machine-learning/glossary/#normalization) features in a multi-feature model.\n",
        "\n",
        "The following code cell normalizes datasets by converting each raw value (including the label) to its Z-score. A **Z-score** is the number of standard deviations from the mean for a particular raw value. For example, consider a feature having the following characteristics:\n",
        "\n",
        "  * The mean is 60.\n",
        "  * The standard deviation is 10.\n",
        "\n",
        "The raw value 75 would have a Z-score of +1.5:\n",
        "\n",
        "```\n",
        "  Z-score = (75 - 60) / 10 = +1.5\n",
        "```\n",
        "\n",
        "The raw value 38 would have a Z-score of -2.2:\n",
        "\n",
        "```\n",
        "  Z-score = (38 - 60) / 10 = -2.2\n",
        "```\n",
        "\n",
        "\n",
        "## Normalizar valores\n",
        "\n",
        "Cuando se crea un modelo con múltiples características, los valores de cada característica deben abarcar aproximadamente el mismo rango. Por ejemplo, si el rango de una característica va desde 500 hasta 100,000 y el rango de otra característica va desde 2 hasta 12, entonces será difícil o incluso imposible entrenar el modelo. Por lo tanto, se debe realizar una [normalización](https://developers.google.com/machine-learning/glossary/#normalization) de las características en un modelo multi-característica.\n",
        "\n",
        "La siguiente celda de código normaliza los conjuntos de datos convirtiendo cada valor crudo (incluyendo la etiqueta) a su puntuación Z. Una **puntuación Z** es el número de desviaciones estándar respecto a la media para un valor crudo específico. Por ejemplo, considera una característica con las siguientes características:\n",
        "\n",
        "  * La media es 60.\n",
        "  * La desviación estándar es 10.\n",
        "\n",
        "El valor crudo 75 tendría una puntuación Z de +1.5:\n",
        "\n",
        "```\n",
        "  Puntuación Z = (75 - 60) / 10 = +1.5\n",
        "```\n",
        "\n",
        "El valor crudo 38 tendría una puntuación Z de -2.2:\n",
        "\n",
        "```\n",
        "  Puntuación Z = (38 - 60) / 10 = -2.2\n",
        "```"
      ]
    },
    {
      "cell_type": "code",
      "execution_count": 17,
      "metadata": {
        "id": "n7nuAHoZIgVI"
      },
      "outputs": [
        {
          "data": {
            "text/html": [
              "<div>\n",
              "<style scoped>\n",
              "    .dataframe tbody tr th:only-of-type {\n",
              "        vertical-align: middle;\n",
              "    }\n",
              "\n",
              "    .dataframe tbody tr th {\n",
              "        vertical-align: top;\n",
              "    }\n",
              "\n",
              "    .dataframe thead th {\n",
              "        text-align: right;\n",
              "    }\n",
              "</style>\n",
              "<table border=\"1\" class=\"dataframe\">\n",
              "  <thead>\n",
              "    <tr style=\"text-align: right;\">\n",
              "      <th></th>\n",
              "      <th>longitude</th>\n",
              "      <th>latitude</th>\n",
              "      <th>housing_median_age</th>\n",
              "      <th>total_rooms</th>\n",
              "      <th>total_bedrooms</th>\n",
              "      <th>population</th>\n",
              "      <th>households</th>\n",
              "      <th>median_income</th>\n",
              "      <th>median_house_value</th>\n",
              "    </tr>\n",
              "  </thead>\n",
              "  <tbody>\n",
              "    <tr>\n",
              "      <th>7542</th>\n",
              "      <td>0.6</td>\n",
              "      <td>-0.8</td>\n",
              "      <td>1.0</td>\n",
              "      <td>-0.3</td>\n",
              "      <td>-0.2</td>\n",
              "      <td>-0.2</td>\n",
              "      <td>-0.2</td>\n",
              "      <td>-0.0</td>\n",
              "      <td>0.1</td>\n",
              "    </tr>\n",
              "    <tr>\n",
              "      <th>8715</th>\n",
              "      <td>0.5</td>\n",
              "      <td>-0.7</td>\n",
              "      <td>0.5</td>\n",
              "      <td>-0.3</td>\n",
              "      <td>-0.5</td>\n",
              "      <td>-0.4</td>\n",
              "      <td>-0.4</td>\n",
              "      <td>0.5</td>\n",
              "      <td>0.2</td>\n",
              "    </tr>\n",
              "    <tr>\n",
              "      <th>8222</th>\n",
              "      <td>0.6</td>\n",
              "      <td>-0.7</td>\n",
              "      <td>-0.6</td>\n",
              "      <td>-0.9</td>\n",
              "      <td>-0.7</td>\n",
              "      <td>-0.4</td>\n",
              "      <td>-0.7</td>\n",
              "      <td>-1.0</td>\n",
              "      <td>1.2</td>\n",
              "    </tr>\n",
              "    <tr>\n",
              "      <th>12345</th>\n",
              "      <td>-1.0</td>\n",
              "      <td>1.3</td>\n",
              "      <td>-0.4</td>\n",
              "      <td>1.9</td>\n",
              "      <td>2.2</td>\n",
              "      <td>1.3</td>\n",
              "      <td>2.3</td>\n",
              "      <td>-0.4</td>\n",
              "      <td>-0.4</td>\n",
              "    </tr>\n",
              "    <tr>\n",
              "      <th>7477</th>\n",
              "      <td>0.6</td>\n",
              "      <td>-0.7</td>\n",
              "      <td>0.6</td>\n",
              "      <td>1.9</td>\n",
              "      <td>1.5</td>\n",
              "      <td>0.7</td>\n",
              "      <td>1.6</td>\n",
              "      <td>2.2</td>\n",
              "      <td>2.5</td>\n",
              "    </tr>\n",
              "  </tbody>\n",
              "</table>\n",
              "</div>"
            ],
            "text/plain": [
              "       longitude  latitude  housing_median_age  total_rooms  total_bedrooms  \\\n",
              "7542         0.6      -0.8                 1.0         -0.3            -0.2   \n",
              "8715         0.5      -0.7                 0.5         -0.3            -0.5   \n",
              "8222         0.6      -0.7                -0.6         -0.9            -0.7   \n",
              "12345       -1.0       1.3                -0.4          1.9             2.2   \n",
              "7477         0.6      -0.7                 0.6          1.9             1.5   \n",
              "\n",
              "       population  households  median_income  median_house_value  \n",
              "7542         -0.2        -0.2           -0.0                 0.1  \n",
              "8715         -0.4        -0.4            0.5                 0.2  \n",
              "8222         -0.4        -0.7           -1.0                 1.2  \n",
              "12345         1.3         2.3           -0.4                -0.4  \n",
              "7477          0.7         1.6            2.2                 2.5  "
            ]
          },
          "execution_count": 17,
          "metadata": {},
          "output_type": "execute_result"
        }
      ],
      "source": [
        "# Calculate the Z-scores of each column in the training set and\n",
        "# write those Z-scores into a new pandas DataFrame named train_df_norm.\n",
        "# Calcular las puntuaciones Z de cada columna en el conjunto de entrenamiento y\n",
        "# escribir esas puntuaciones Z en un nuevo DataFrame de pandas llamado train_df_norm.\n",
        "train_df_mean = train_df.mean()\n",
        "train_df_std = train_df.std()\n",
        "train_df_norm = (train_df - train_df_mean)/train_df_std\n",
        "\n",
        "# Examine some of the values of the normalized training set. Notice that most\n",
        "# Z-scores fall between -2 and +2.\n",
        "# Examinar algunos de los valores del conjunto de entrenamiento normalizado. Observa que la mayoría\n",
        "# de las puntuaciones Z caen entre -2 y +2.\n",
        "train_df_norm.head()"
      ]
    },
    {
      "cell_type": "code",
      "execution_count": 18,
      "metadata": {
        "id": "QoW-59jVFF2I"
      },
      "outputs": [],
      "source": [
        "# Calcular las puntuaciones Z de cada columna en el conjunto de prueba y\n",
        "# escribir esas puntuaciones Z en un nuevo DataFrame de pandas llamado test_df_norm.\n",
        "test_df_norm = (test_df - train_df_mean) / train_df_std\n",
        "\n",
        "# Ten en cuenta que transformamos los datos de prueba con los valores calculados a partir del conjunto de entrenamiento,\n",
        "# ya que siempre debes transformar tus conjuntos de datos con exactamente los mismos valores.\n"
      ]
    },
    {
      "cell_type": "markdown",
      "metadata": {
        "id": "-swmXtWnZGis"
      },
      "source": [
        "## Task 1: Create a binary label\n",
        "\n",
        "In classification problems, the label for every example must be either 0 or 1. Unfortunately, the natural label in the California Housing Dataset, `median_house_value`, contains floating-point values like 80,100 or 85,700 rather than 0s and 1s, while the normalized version of `median_house_values` contains floating-point values primarily between -3 and +3.\n",
        "\n",
        "Your task is to create a new column named `median_house_value_is_high` in both the training set and the test set . If the `median_house_value` is higher than a certain arbitrary value (defined by `threshold`), then set `median_house_value_is_high` to 1. Otherwise, set `median_house_value_is_high` to 0.\n",
        "\n",
        "**Hint:** The cells in the `median_house_value_is_high` column must each hold `1` and `0`, not `True` and `False`. To convert `True` and `False` to  `1` and `0`, call the pandas DataFrame function `astype(float)`.\n",
        "\n",
        "\n",
        "## Tarea 1: Crear una etiqueta binaria\n",
        "\n",
        "En problemas de clasificación, la etiqueta para cada ejemplo debe ser 0 o 1. Desafortunadamente, la etiqueta natural en el conjunto de datos de viviendas de California, `median_house_value`, contiene valores de punto flotante como 80,100 o 85,700 en lugar de 0s y 1s, mientras que la versión normalizada de `median_house_values` contiene valores de punto flotante principalmente entre -3 y +3.\n",
        "\n",
        "Tu tarea es crear una nueva columna llamada `median_house_value_is_high` tanto en el conjunto de entrenamiento como en el conjunto de prueba. Si el valor de `median_house_value` es mayor que un valor arbitrario específico (definido por `threshold`), establece `median_house_value_is_high` en 1. De lo contrario, establece `median_house_value_is_high` en 0.\n",
        "\n",
        "**Pista:** Las celdas en la columna `median_house_value_is_high` deben contener cada una `1` y `0`, no `True` y `False`. Para convertir `True` y `False` a `1` y `0`, utiliza la función `astype(float)` del DataFrame de pandas."
      ]
    },
    {
      "cell_type": "code",
      "execution_count": 19,
      "metadata": {
        "id": "d4kWfWA8bhKW"
      },
      "outputs": [
        {
          "data": {
            "text/plain": [
              "7542    0.0\n",
              "8715    0.0\n",
              "8222    1.0\n",
              "12345   0.0\n",
              "7477    1.0\n",
              "         ..\n",
              "1165    0.0\n",
              "15065   0.0\n",
              "15918   1.0\n",
              "4639    0.0\n",
              "13918   0.0\n",
              "Name: median_house_value_is_high, Length: 8000, dtype: float64"
            ]
          },
          "execution_count": 19,
          "metadata": {},
          "output_type": "execute_result"
        }
      ],
      "source": [
        "# Establecimos arbitrariamente el umbral en 265,000, que es\n",
        "# el percentil 75 para los valores medios de las casas. Cada vecindario\n",
        "# con un precio medio de casa superior a 265,000 será etiquetado como 1,\n",
        "# y todos los demás vecindarios serán etiquetados como 0.\n",
        "\n",
        "threshold = 265000 # This is the 75th percentile for median house values.\n",
        "train_df_norm[\"median_house_value_is_high\"] = (train_df[\"median_house_value\"] > threshold).astype(float) #neuva celda\n",
        "test_df_norm[\"median_house_value_is_high\"] = (train_df[\"median_house_value\"] > threshold).astype(float) #nueva celda\n",
        "\n",
        "# Print out a few example cells from the beginning and\n",
        "# middle of the training set, just to make sure that\n",
        "# your code created only 0s and 1s in the newly created\n",
        "# median_house_value_is_high column\n",
        "train_df_norm[\"median_house_value_is_high\"].head(8000)\n",
        "\n",
        "# Alternativamente, en lugar de elegir el umbral\n",
        "# basado en los valores de vivienda en bruto, puedes trabajar con puntuaciones Z.\n",
        "# Por ejemplo, la siguiente solución posible utiliza una puntuación Z\n",
        "# de +1.0 como el umbral, lo que significa que no más\n",
        "# del 16% de los valores en median_house_value_is_high\n",
        "# serán etiquetados como 1.\n",
        "\n",
        "# threshold_in_Z = 1.0\n",
        "# train_df_norm[\"median_house_value_is_high\"] = (train_df_norm[\"median_house_value\"] > threshold_in_Z).astype(float)\n",
        "# test_df_norm[\"median_house_value_is_high\"] = (test_df_norm[\"median_house_value\"] > threshold_in_Z).astype(float)"
      ]
    },
    {
      "cell_type": "markdown",
      "metadata": {
        "id": "8kir8UTUXSV8"
      },
      "source": [
        "## Represent features as input layers\n",
        "\n",
        "This code cell specifies the features, `median_income` and ` total_rooms`, that you'll ultimately train the model on. These [Input](https://www.tensorflow.org/api_docs/python/tf/keras/Input) objects are instantiated as Keras tensors.\n",
        "\n",
        "## Representar características como capas de entrada\n",
        "\n",
        "Esta celda de código especifica las características, `median_income` y `total_rooms`, en las que finalmente entrenarás el modelo. Estos objetos [Input](https://www.tensorflow.org/api_docs/python/tf/keras/Input) se instancian como tensores de Keras."
      ]
    },
    {
      "cell_type": "code",
      "execution_count": 20,
      "metadata": {
        "id": "3tmmZIDw4JEC"
      },
      "outputs": [],
      "source": [
        "inputs = {\n",
        "# Features used to train the model on.\n",
        "  'median_income': tf.keras.Input(shape=(1,)),\n",
        "  'total_rooms': tf.keras.Input(shape=(1,))\n",
        "}\n"
      ]
    },
    {
      "cell_type": "markdown",
      "metadata": {
        "id": "3014ezH3C7jT"
      },
      "source": [
        "## Define functions that build and train a model\n",
        "\n",
        "The following code cell defines two functions:\n",
        "\n",
        "  * `create_model(inputs, learning_rate, METRICS)`, which defines the model's\n",
        "    topography.\n",
        "  * `train_model(model, dataset, epochs, label_name, batch_size, shuffle)`, uses input features and labels to train the model.\n",
        "\n",
        "Prior exercises used [ReLU](https://developers.google.com/machine-learning/glossary#ReLU) as the [activation function](https://developers.google.com/machine-learning/glossary#activation-function). By contrast, this exercise uses [sigmoid](https://developers.google.com/machine-learning/glossary#sigmoid-function) as the activation function.\n",
        "\n",
        "## Definir funciones que construyan y entrenen un modelo\n",
        "\n",
        "La siguiente celda de código define dos funciones:\n",
        "\n",
        "  * `create_model(inputs, learning_rate, METRICS)`, que define la topografía del modelo.\n",
        "  * `train_model(model, dataset, epochs, label_name, batch_size, shuffle)`, utiliza características de entrada y etiquetas para entrenar el modelo.\n",
        "\n",
        "En ejercicios anteriores se utilizó [ReLU](https://developers.google.com/machine-learning/glossary#ReLU) como la [función de activación](https://developers.google.com/machine-learning/glossary#activation-function). En cambio, en este ejercicio se utiliza [sigmoid](https://developers.google.com/machine-learning/glossary#sigmoid-function) como la función de activación."
      ]
    },
    {
      "cell_type": "code",
      "execution_count": 21,
      "metadata": {
        "id": "pedD5GhlDC-y"
      },
      "outputs": [
        {
          "name": "stdout",
          "output_type": "stream",
          "text": [
            "Definidas las funciones create_model y train_model.\n"
          ]
        }
      ],
      "source": [
        "#@title Define las funciones que crean y entrenan un modelo.\n",
        "def create_model(my_inputs, my_learning_rate, METRICS):\n",
        "  # Utiliza una capa Concatenate para concatenar las capas de entrada en un solo tensor.\n",
        "  # como entrada para la capa Dense. Ejemplo: [input_1[0][0], input_2[0][0]]\n",
        "  concatenated_inputs = tf.keras.layers.Concatenate()(my_inputs.values())\n",
        "  dense = layers.Dense(units=1, name='dense_layer', activation=tf.sigmoid)\n",
        "  dense_output = dense(concatenated_inputs)\n",
        "  \"\"\"Crea y compila un modelo de clasificación simple.\"\"\"\n",
        "  my_outputs = {\n",
        "    'dense': dense_output,\n",
        "  }\n",
        "  model = tf.keras.Model(inputs=my_inputs, outputs=my_outputs)\n",
        "\n",
        "  # Llama al método compile para construir las capas en un modelo que\n",
        "  # TensorFlow pueda ejecutar. Observa que estamos utilizando una función de pérdida\n",
        "  # diferente para clasificación que para regresión.\n",
        "  model.compile(optimizer=tf.keras.optimizers.experimental.RMSprop(learning_rate=my_learning_rate),\n",
        "                loss=tf.keras.losses.BinaryCrossentropy(),\n",
        "                metrics=METRICS)\n",
        "  return model\n",
        "\n",
        "\n",
        "def train_model(model, dataset, epochs, label_name,\n",
        "                batch_size=None, shuffle=True):\n",
        "  \"\"\"Alimenta un conjunto de datos en el modelo para entrenarlo.\"\"\"\n",
        "\n",
        "  # El parámetro x de tf.keras.Model.fit puede ser una lista de matrices, donde\n",
        "  # cada matriz contiene los datos para una característica. Aquí, estamos pasando\n",
        "  # cada columna en el conjunto de datos. Ten en cuenta que la capa de características filtrará\n",
        "  # la mayoría de esas columnas, dejando solo las columnas deseadas y sus\n",
        "  # representaciones como características.\n",
        "  features = {name:np.array(value) for name, value in dataset.items()}\n",
        "  label = np.array(features.pop(label_name))\n",
        "  history = model.fit(x=features, y=label, batch_size=batch_size,\n",
        "                      epochs=epochs, shuffle=shuffle)\n",
        "\n",
        "  # La lista de épocas se almacena por separado del resto del historial.\n",
        "  epochs = history.epoch\n",
        "\n",
        "  # Aísla la métrica de clasificación para cada época.\n",
        "  hist = pd.DataFrame(history.history)\n",
        "\n",
        "  return epochs, hist\n",
        "\n",
        "print(\"Definidas las funciones create_model y train_model.\")\n"
      ]
    },
    {
      "cell_type": "markdown",
      "metadata": {
        "id": "Ak_TMAzGOIFq"
      },
      "source": [
        "## Define a plotting function\n",
        "\n",
        "The following [matplotlib](https://developers.google.com/machine-learning/glossary/#matplotlib) function plots one or more curves, showing how various classification metrics change with each epoch.\n",
        "\n",
        "## Define una función de trazado\n",
        "\n",
        "La siguiente función de [matplotlib](https://developers.google.com/machine-learning/glossary/#matplotlib) traza una o más curvas, mostrando cómo varias métricas de clasificación cambian con cada época."
      ]
    },
    {
      "cell_type": "code",
      "execution_count": 22,
      "metadata": {
        "cellView": "form",
        "id": "QF0BFRXTOeR3"
      },
      "outputs": [
        {
          "name": "stdout",
          "output_type": "stream",
          "text": [
            "Defined the plot_curve function.\n"
          ]
        }
      ],
      "source": [
        "#@title Define the plotting function.\n",
        "def plot_curve(epochs, hist, list_of_metrics):\n",
        "  \"\"\"Plot a curve of one or more classification metrics vs. epoch.\"\"\"\n",
        "  # list_of_metrics should be one of the names shown in:\n",
        "  # https://www.tensorflow.org/tutorials/structured_data/imbalanced_data#define_the_model_and_metrics\n",
        "\n",
        "  plt.figure()\n",
        "  plt.xlabel(\"Epoch\")\n",
        "  plt.ylabel(\"Value\")\n",
        "\n",
        "  for m in list_of_metrics:\n",
        "    x = hist[m]\n",
        "    plt.plot(epochs[1:], x[1:], label=m)\n",
        "\n",
        "  plt.legend()\n",
        "\n",
        "print(\"Defined the plot_curve function.\")"
      ]
    },
    {
      "cell_type": "markdown",
      "metadata": {
        "id": "D-IXYVfvM4gD"
      },
      "source": [
        "## Invoke the creating, training, and plotting functions\n",
        "\n",
        "The following code cell calls specify the hyperparameters, and then invokes the\n",
        "functions to create and train the model, and then to plot the results.\n",
        "\n",
        "## Invoca las funciones de creación, entrenamiento y trazado\n",
        "\n",
        "La siguiente celda de código especifica los hiperparámetros y luego invoca las\n",
        "funciones para crear y entrenar el modelo, y luego para trazar los resultados."
      ]
    },
    {
      "cell_type": "code",
      "execution_count": 23,
      "metadata": {
        "cellView": "both",
        "id": "nj3v5EKQFY8s"
      },
      "outputs": [
        {
          "name": "stdout",
          "output_type": "stream",
          "text": [
            "Epoch 1/20\n"
          ]
        },
        {
          "name": "stderr",
          "output_type": "stream",
          "text": [
            "c:\\Users\\PERSONAL\\OneDrive\\Documentos\\PROGRAMACION GITHUB\\MACHINE LEARNING\\env\\lib\\site-packages\\keras\\src\\engine\\functional.py:642: UserWarning: Input dict contained keys ['longitude', 'latitude', 'housing_median_age', 'total_bedrooms', 'population', 'households', 'median_house_value'] which did not match any model input. They will be ignored by the model.\n",
            "  inputs = self._flatten_to_reference_inputs(inputs)\n"
          ]
        },
        {
          "name": "stdout",
          "output_type": "stream",
          "text": [
            "170/170 [==============================] - 0s 842us/step - loss: 0.7334 - accuracy: 0.5020\n",
            "Epoch 2/20\n",
            "170/170 [==============================] - 0s 836us/step - loss: 0.6563 - accuracy: 0.5848\n",
            "Epoch 3/20\n",
            "170/170 [==============================] - 0s 941us/step - loss: 0.5903 - accuracy: 0.6489\n",
            "Epoch 4/20\n",
            "170/170 [==============================] - 0s 817us/step - loss: 0.5360 - accuracy: 0.6985\n",
            "Epoch 5/20\n",
            "170/170 [==============================] - 0s 804us/step - loss: 0.4920 - accuracy: 0.7372\n",
            "Epoch 6/20\n",
            "170/170 [==============================] - 0s 860us/step - loss: 0.4582 - accuracy: 0.7634\n",
            "Epoch 7/20\n",
            "170/170 [==============================] - 0s 841us/step - loss: 0.4340 - accuracy: 0.7823\n",
            "Epoch 8/20\n",
            "170/170 [==============================] - 0s 786us/step - loss: 0.4174 - accuracy: 0.7951\n",
            "Epoch 9/20\n",
            "170/170 [==============================] - 0s 765us/step - loss: 0.4076 - accuracy: 0.8031\n",
            "Epoch 10/20\n",
            "170/170 [==============================] - 0s 803us/step - loss: 0.4022 - accuracy: 0.8074\n",
            "Epoch 11/20\n",
            "170/170 [==============================] - 0s 798us/step - loss: 0.3994 - accuracy: 0.8087\n",
            "Epoch 12/20\n",
            "170/170 [==============================] - 0s 946us/step - loss: 0.3980 - accuracy: 0.8088\n",
            "Epoch 13/20\n",
            "170/170 [==============================] - 0s 841us/step - loss: 0.3974 - accuracy: 0.8090\n",
            "Epoch 14/20\n",
            "170/170 [==============================] - 0s 846us/step - loss: 0.3970 - accuracy: 0.8089\n",
            "Epoch 15/20\n",
            "170/170 [==============================] - 0s 808us/step - loss: 0.3968 - accuracy: 0.8091\n",
            "Epoch 16/20\n",
            "170/170 [==============================] - 0s 889us/step - loss: 0.3967 - accuracy: 0.8095\n",
            "Epoch 17/20\n",
            "170/170 [==============================] - 0s 851us/step - loss: 0.3967 - accuracy: 0.8095\n",
            "Epoch 18/20\n",
            "170/170 [==============================] - 0s 764us/step - loss: 0.3966 - accuracy: 0.8094\n",
            "Epoch 19/20\n",
            "170/170 [==============================] - 0s 765us/step - loss: 0.3966 - accuracy: 0.8090\n",
            "Epoch 20/20\n",
            "170/170 [==============================] - 0s 761us/step - loss: 0.3966 - accuracy: 0.8091\n"
          ]
        },
        {
          "data": {
            "image/png": "[encoded data removed]",
            "text/plain": [
              "<Figure size 640x480 with 1 Axes>"
            ]
          },
          "metadata": {},
          "output_type": "display_data"
        }
      ],
      "source": [
        "# The following variables are the hyperparameters.\n",
        "learning_rate = 0.001\n",
        "#learning_rate: Es la tasa de aprendizaje, que determina qué tan grande son los pasos que el algoritmo toma durante el entrenamiento para ajustar los pesos del modelo. \n",
        "# Un valor pequeño significa pasos pequeños y, a menudo, una convergencia más lenta pero más precisa. \n",
        "# Un valor grande puede llevar a convergencia más rápida, pero existe el riesgo de superar el mínimo óptimo.\n",
        "\n",
        "epochs = 20\n",
        "#epochs: Representa el número de veces que el modelo verá todo el conjunto de entrenamiento durante el proceso de entrenamiento. \n",
        "# Cada época consiste en un pase hacia adelante y hacia atrás a través de todos los ejemplos de entrenamiento.\n",
        "\n",
        "batch_size = 100\n",
        "#batch_size: Es el número de ejemplos de entrenamiento utilizados en una iteración. \n",
        "# Durante cada época, los datos se dividen en lotes, y el modelo se actualiza después de cada lote. \n",
        "# El tamaño del lote afecta la velocidad y la estabilidad del entrenamiento.\n",
        "\n",
        "\n",
        "\n",
        "label_name = \"median_house_value_is_high\"\n",
        "classification_threshold = 0.35\n",
        "\n",
        "# Establish the metrics the model will measure.\n",
        "METRICS = [\n",
        "           tf.keras.metrics.BinaryAccuracy(name='accuracy',\n",
        "                                           threshold=classification_threshold),\n",
        "          ]\n",
        "\n",
        "# Establish the model's topography.\n",
        "my_model = create_model(inputs, learning_rate, METRICS)\n",
        "\n",
        "# To view a PNG of this model's layers, uncomment the call to\n",
        "# `tf.keras.utils.plot_model` below. After running this code cell, click\n",
        "# the file folder on the left, then the `my_classification_model.png` file.\n",
        "# tf.keras.utils.plot_model(my_model, \"my_classification_model.png\")\n",
        "\n",
        "# Train the model on the training set.\n",
        "epochs, hist = train_model(my_model, train_df_norm, epochs,\n",
        "                           label_name, batch_size)\n",
        "\n",
        "# Plot a graph of the metric(s) vs. epochs.\n",
        "list_of_metrics_to_plot = ['accuracy']\n",
        "\n",
        "plot_curve(epochs, hist, list_of_metrics_to_plot)"
      ]
    },
    {
      "cell_type": "markdown",
      "metadata": {
        "id": "FF64TpqkbOpn"
      },
      "source": [
        "Accuracy should gradually improve during training (until it can\n",
        "improve no more)."
      ]
    },
    {
      "cell_type": "markdown",
      "metadata": {
        "id": "1xNqWWos_zyk"
      },
      "source": [
        "## Evaluate the model against the test set\n",
        "\n",
        "At the end of model training, you ended up with a certain accuracy against the *training set*. Invoke the following code cell to determine your model's accuracy against the *test set*.\n",
        "\n",
        "## Evaluar el modelo contra el conjunto de prueba\n",
        "\n",
        "Al final del entrenamiento del modelo, obtuviste una cierta exactitud contra el *conjunto de entrenamiento*. Invoca la siguiente celda de código para determinar la exactitud de tu modelo contra el *conjunto de prueba*."
      ]
    },
    {
      "cell_type": "code",
      "execution_count": 24,
      "metadata": {
        "id": "eJorkMlDmtHf"
      },
      "outputs": [
        {
          "name": "stdout",
          "output_type": "stream",
          "text": [
            "30/30 [==============================] - 0s 886us/step - loss: 0.6516 - accuracy: 0.6913\n"
          ]
        },
        {
          "data": {
            "text/plain": [
              "[0.6515632271766663, 0.6913333535194397]"
            ]
          },
          "execution_count": 24,
          "metadata": {},
          "output_type": "execute_result"
        }
      ],
      "source": [
        "features = {name:np.array(value) for name, value in test_df_norm.items()}\n",
        "label = np.array(features.pop(label_name))\n",
        "\n",
        "my_model.evaluate(x = features, y = label, batch_size=batch_size)"
      ]
    },
    {
      "cell_type": "markdown",
      "metadata": {
        "id": "q7cHkFXalXV5"
      },
      "source": [
        "## Task 2: How accurate is your model really?\n",
        "\n",
        "Is your model valuable?"
      ]
    },
    {
      "cell_type": "code",
      "execution_count": 25,
      "metadata": {
        "id": "rUvCrQkulwjV"
      },
      "outputs": [],
      "source": [
        "#@title Double-click for a possible answer to Task 2.\n",
        "\n",
        "# A perfect model would make 100% accurate predictions.\n",
        "# Our model makes 80% accurate predictions. 80% sounds\n",
        "# good, but note that a model that always guesses\n",
        "# \"median_house_value_is_high is False\" would be 75%\n",
        "# accurate.\n",
        "# Un modelo perfecto haría predicciones con un 100% de precisión.\n",
        "# Nuestro modelo hace predicciones con un 80% de precisión. Un 80%\n",
        "# suena bien, pero ten en cuenta que un modelo que siempre\n",
        "# adivine \"median_house_value_is_high es Falso\" tendría un 75%\n",
        "# de precisión.\n"
      ]
    },
    {
      "cell_type": "markdown",
      "metadata": {
        "id": "C8crSCCVf6gm"
      },
      "source": [
        "## Task 3: Add precision and recall as metrics\n",
        "\n",
        "Relying solely on accuracy, particularly for a class-imbalanced data set (like ours), can be a poor way to judge a classification model.  Modify the code in the following code cell to enable the model to measure not only accuracy but also precision and recall. We have\n",
        "added accuracy and precision; your task is to add recall. See the [TensorFlow Reference](https://www.tensorflow.org/api_docs/python/tf/keras/metrics/Recall) for details.\n",
        "\n",
        "## Tarea 3: Agregar precisión y recall como métricas\n",
        "\n",
        "Depender únicamente de la precisión, especialmente para un conjunto de datos desequilibrado en clases (como el nuestro), puede ser una forma deficiente de evaluar un modelo de clasificación. Modifica el código en la siguiente celda de código para permitir que el modelo mida no solo la precisión, sino también la precisión y el recall. Hemos agregado precisión y exactitud; tu tarea es agregar recall. Consulta la [Referencia de TensorFlow](https://www.tensorflow.org/api_docs/python/tf/keras/metrics/Recall) para obtener detalles."
      ]
    },
    {
      "cell_type": "code",
      "execution_count": 26,
      "metadata": {
        "id": "r-k1MD2XArmO"
      },
      "outputs": [
        {
          "name": "stdout",
          "output_type": "stream",
          "text": [
            "Epoch 1/20\n",
            "170/170 [==============================] - 1s 952us/step - loss: 1.0963 - accuracy: 0.1992 - precision: 0.1289 - recall: 0.3831\n",
            "Epoch 2/20\n",
            "170/170 [==============================] - 0s 923us/step - loss: 0.9706 - accuracy: 0.2044 - precision: 0.1208 - recall: 0.3480\n",
            "Epoch 3/20\n",
            "170/170 [==============================] - 0s 926us/step - loss: 0.8632 - accuracy: 0.2213 - precision: 0.1146 - recall: 0.3146\n",
            "Epoch 4/20\n",
            "170/170 [==============================] - 0s 894us/step - loss: 0.7738 - accuracy: 0.2677 - precision: 0.1060 - recall: 0.2597\n",
            "Epoch 5/20\n",
            "170/170 [==============================] - 0s 848us/step - loss: 0.7021 - accuracy: 0.3774 - precision: 0.0945 - recall: 0.1738\n",
            "Epoch 6/20\n",
            "170/170 [==============================] - 0s 983us/step - loss: 0.6430 - accuracy: 0.5968 - precision: 0.1131 - recall: 0.0897\n",
            "Epoch 7/20\n",
            "170/170 [==============================] - 0s 938us/step - loss: 0.5939 - accuracy: 0.7118 - precision: 0.2268 - recall: 0.0638\n",
            "Epoch 8/20\n",
            "170/170 [==============================] - 0s 883us/step - loss: 0.5527 - accuracy: 0.7353 - precision: 0.3561 - recall: 0.0737\n",
            "Epoch 9/20\n",
            "170/170 [==============================] - 0s 855us/step - loss: 0.5175 - accuracy: 0.7685 - precision: 0.6258 - recall: 0.1827\n",
            "Epoch 10/20\n",
            "170/170 [==============================] - 0s 858us/step - loss: 0.4883 - accuracy: 0.8061 - precision: 0.7409 - recall: 0.3440\n",
            "Epoch 11/20\n",
            "170/170 [==============================] - 0s 874us/step - loss: 0.4641 - accuracy: 0.8218 - precision: 0.7377 - recall: 0.4450\n",
            "Epoch 12/20\n",
            "170/170 [==============================] - 0s 879us/step - loss: 0.4450 - accuracy: 0.8252 - precision: 0.7066 - recall: 0.5138\n",
            "Epoch 13/20\n",
            "170/170 [==============================] - 0s 862us/step - loss: 0.4298 - accuracy: 0.8224 - precision: 0.6791 - recall: 0.5477\n",
            "Epoch 14/20\n",
            "170/170 [==============================] - 0s 884us/step - loss: 0.4183 - accuracy: 0.8181 - precision: 0.6549 - recall: 0.5743\n",
            "Epoch 15/20\n",
            "170/170 [==============================] - 0s 916us/step - loss: 0.4101 - accuracy: 0.8148 - precision: 0.6401 - recall: 0.5905\n",
            "Epoch 16/20\n",
            "170/170 [==============================] - 0s 904us/step - loss: 0.4046 - accuracy: 0.8129 - precision: 0.6320 - recall: 0.6016\n",
            "Epoch 17/20\n",
            "170/170 [==============================] - 0s 882us/step - loss: 0.4010 - accuracy: 0.8102 - precision: 0.6225 - recall: 0.6110\n",
            "Epoch 18/20\n",
            "170/170 [==============================] - 0s 921us/step - loss: 0.3989 - accuracy: 0.8097 - precision: 0.6210 - recall: 0.6115\n",
            "Epoch 19/20\n",
            "170/170 [==============================] - 0s 920us/step - loss: 0.3979 - accuracy: 0.8094 - precision: 0.6195 - recall: 0.6141\n",
            "Epoch 20/20\n",
            "170/170 [==============================] - 0s 933us/step - loss: 0.3972 - accuracy: 0.8089 - precision: 0.6183 - recall: 0.6148\n"
          ]
        },
        {
          "data": {
            "image/png": "[encoded data removed]",
            "text/plain": [
              "<Figure size 640x480 with 1 Axes>"
            ]
          },
          "metadata": {},
          "output_type": "display_data"
        }
      ],
      "source": [
        "# The following variables are the hyperparameters.\n",
        "learning_rate = 0.001\n",
        "epochs = 20\n",
        "batch_size = 100\n",
        "classification_threshold = 0.35\n",
        "label_name = \"median_house_value_is_high\"\n",
        "\n",
        "# Here is the updated definition of METRICS:\n",
        "METRICS = [\n",
        "      tf.keras.metrics.BinaryAccuracy(name='accuracy',\n",
        "                                      threshold=classification_threshold),\n",
        "      tf.keras.metrics.Precision(thresholds=classification_threshold,\n",
        "                                 name='precision'\n",
        "                                 ),\n",
        "      tf.keras.metrics.Recall(thresholds=classification_threshold,\n",
        "                              name=\"recall\"),\n",
        "]\n",
        "\n",
        "# Establish the model's topography.\n",
        "my_model = create_model(inputs, learning_rate, METRICS)\n",
        "\n",
        "# Train the model on the training set.\n",
        "epochs, hist = train_model(my_model, train_df_norm, epochs,\n",
        "                           label_name, batch_size)\n",
        "\n",
        "# Plot metrics vs. epochs\n",
        "list_of_metrics_to_plot = ['accuracy', \"precision\", \"recall\"]\n",
        "plot_curve(epochs, hist, list_of_metrics_to_plot)\n",
        "\n",
        "\n",
        "# The new graphs suggest that precision and recall are\n",
        "# somewhat in conflict. That is, improvements to one of\n",
        "# those metrics may hurt the other metric."
      ]
    },
    {
      "cell_type": "markdown",
      "metadata": {
        "id": "cAsB85iKSXLe"
      },
      "source": [
        "## Task 4: Experiment with the classification threshold (if time permits)\n",
        "\n",
        "Experiment with different values for `classification_threshold` in the code cell within \"Invoke the creating, training, and plotting functions.\"  What value of `classification_threshold` produces the highest accuracy?\n",
        "\n",
        "## Tarea 4: Experimentar con el umbral de clasificación (si el tiempo lo permite)\n",
        "\n",
        "Experimenta con diferentes valores para `classification_threshold` en la celda de código dentro de \"Invoca las funciones de creación, entrenamiento y graficación\". ¿Qué valor de `classification_threshold` produce la mayor precisión?"
      ]
    },
    {
      "cell_type": "code",
      "execution_count": 27,
      "metadata": {
        "cellView": "form",
        "id": "FLPDYI7Sphnj"
      },
      "outputs": [
        {
          "name": "stdout",
          "output_type": "stream",
          "text": [
            "Epoch 1/20\n",
            "170/170 [==============================] - 1s 845us/step - loss: 0.5678 - accuracy: 0.7327 - precision: 0.4762 - recall: 0.6984\n",
            "Epoch 2/20\n",
            "170/170 [==============================] - 0s 794us/step - loss: 0.5140 - accuracy: 0.7693 - precision: 0.5306 - recall: 0.6626\n",
            "Epoch 3/20\n",
            "170/170 [==============================] - 0s 894us/step - loss: 0.4750 - accuracy: 0.7934 - precision: 0.5789 - recall: 0.6348\n",
            "Epoch 4/20\n",
            "170/170 [==============================] - 0s 823us/step - loss: 0.4474 - accuracy: 0.8076 - precision: 0.6171 - recall: 0.6063\n",
            "Epoch 5/20\n",
            "170/170 [==============================] - 0s 908us/step - loss: 0.4283 - accuracy: 0.8177 - precision: 0.6515 - recall: 0.5814\n",
            "Epoch 6/20\n",
            "170/170 [==============================] - 0s 957us/step - loss: 0.4152 - accuracy: 0.8252 - precision: 0.6870 - recall: 0.5514\n",
            "Epoch 7/20\n",
            "170/170 [==============================] - 0s 1ms/step - loss: 0.4066 - accuracy: 0.8308 - precision: 0.7208 - recall: 0.5270\n",
            "Epoch 8/20\n",
            "170/170 [==============================] - 0s 977us/step - loss: 0.4015 - accuracy: 0.8334 - precision: 0.7481 - recall: 0.5020\n",
            "Epoch 9/20\n",
            "170/170 [==============================] - 0s 844us/step - loss: 0.3988 - accuracy: 0.8345 - precision: 0.7665 - recall: 0.4855\n",
            "Epoch 10/20\n",
            "170/170 [==============================] - 0s 973us/step - loss: 0.3976 - accuracy: 0.8357 - precision: 0.7775 - recall: 0.4796\n",
            "Epoch 11/20\n",
            "170/170 [==============================] - 0s 921us/step - loss: 0.3971 - accuracy: 0.8361 - precision: 0.7829 - recall: 0.4756\n",
            "Epoch 12/20\n",
            "170/170 [==============================] - 0s 896us/step - loss: 0.3969 - accuracy: 0.8362 - precision: 0.7855 - recall: 0.4735\n",
            "Epoch 13/20\n",
            "170/170 [==============================] - 0s 845us/step - loss: 0.3967 - accuracy: 0.8359 - precision: 0.7843 - recall: 0.4735\n",
            "Epoch 14/20\n",
            "170/170 [==============================] - 0s 903us/step - loss: 0.3967 - accuracy: 0.8362 - precision: 0.7869 - recall: 0.4721\n",
            "Epoch 15/20\n",
            "170/170 [==============================] - 0s 864us/step - loss: 0.3966 - accuracy: 0.8358 - precision: 0.7857 - recall: 0.4714\n",
            "Epoch 16/20\n",
            "170/170 [==============================] - 0s 879us/step - loss: 0.3966 - accuracy: 0.8359 - precision: 0.7834 - recall: 0.4745\n",
            "Epoch 17/20\n",
            "170/170 [==============================] - 0s 959us/step - loss: 0.3966 - accuracy: 0.8361 - precision: 0.7850 - recall: 0.4737\n",
            "Epoch 18/20\n",
            "170/170 [==============================] - 0s 822us/step - loss: 0.3966 - accuracy: 0.8358 - precision: 0.7837 - recall: 0.4735\n",
            "Epoch 19/20\n",
            "170/170 [==============================] - 0s 928us/step - loss: 0.3966 - accuracy: 0.8361 - precision: 0.7837 - recall: 0.4752\n",
            "Epoch 20/20\n",
            "170/170 [==============================] - 0s 849us/step - loss: 0.3966 - accuracy: 0.8359 - precision: 0.7854 - recall: 0.4723\n"
          ]
        },
        {
          "data": {
            "image/png": "[encoded data removed]",
            "text/plain": [
              "<Figure size 640x480 with 1 Axes>"
            ]
          },
          "metadata": {},
          "output_type": "display_data"
        }
      ],
      "source": [
        "# The following variables are the hyperparameters.\n",
        "learning_rate = 0.001\n",
        "epochs = 20\n",
        "batch_size = 100\n",
        "classification_threshold = 0.52\n",
        "label_name = \"median_house_value_is_high\"\n",
        "\n",
        "# Here is the updated definition of METRICS:\n",
        "METRICS = [\n",
        "      tf.keras.metrics.BinaryAccuracy(name='accuracy',\n",
        "                                      threshold=classification_threshold),\n",
        "      tf.keras.metrics.Precision(thresholds=classification_threshold,\n",
        "                                 name='precision'\n",
        "                                 ),\n",
        "      tf.keras.metrics.Recall(thresholds=classification_threshold,\n",
        "                              name=\"recall\"),\n",
        "]\n",
        "\n",
        "# Establish the model's topography.\n",
        "my_model = create_model(inputs, learning_rate, METRICS)\n",
        "\n",
        "# Train the model on the training set.\n",
        "epochs, hist = train_model(my_model, train_df_norm, epochs,\n",
        "                           label_name, batch_size)\n",
        "\n",
        "# Plot metrics vs. epochs\n",
        "list_of_metrics_to_plot = ['accuracy', \"precision\", \"recall\"]\n",
        "plot_curve(epochs, hist, list_of_metrics_to_plot)\n",
        "\n",
        "# A `classification_threshold` of slightly over 0.5\n",
        "# appears to produce the highest accuracy (about 83%).\n",
        "# Raising the `classification_threshold` to 0.9 drops\n",
        "# accuracy by about 5%.  Lowering the\n",
        "# `classification_threshold` to 0.3 drops accuracy by\n",
        "# about 3%."
      ]
    },
    {
      "cell_type": "markdown",
      "metadata": {
        "id": "XBGRS0Ndduus"
      },
      "source": [
        "## Task 5: Summarize model performance (if time permits)\n",
        "\n",
        "If time permits, add one more metric that attempts to summarize the model's overall performance.\n",
        "\n",
        "\n",
        "## Tarea 5: Resumir el rendimiento del modelo (si el tiempo lo permite)\n",
        "\n",
        "Si el tiempo lo permite, agrega una métrica adicional que intente resumir el rendimiento general del modelo."
      ]
    },
    {
      "cell_type": "code",
      "execution_count": 28,
      "metadata": {
        "cellView": "form",
        "id": "vwNE6syoFvWe"
      },
      "outputs": [
        {
          "name": "stdout",
          "output_type": "stream",
          "text": [
            "Epoch 1/20\n",
            "170/170 [==============================] - 1s 1ms/step - loss: 1.0541 - auc: 0.1950\n",
            "Epoch 2/20\n",
            "170/170 [==============================] - 0s 825us/step - loss: 0.9499 - auc: 0.2026\n",
            "Epoch 3/20\n",
            "170/170 [==============================] - 0s 856us/step - loss: 0.8564 - auc: 0.2114\n",
            "Epoch 4/20\n",
            "170/170 [==============================] - 0s 818us/step - loss: 0.7744 - auc: 0.2241\n",
            "Epoch 5/20\n",
            "170/170 [==============================] - 0s 854us/step - loss: 0.7042 - auc: 0.2401\n",
            "Epoch 6/20\n",
            "170/170 [==============================] - 0s 898us/step - loss: 0.6446 - auc: 0.2776\n",
            "Epoch 7/20\n",
            "170/170 [==============================] - 0s 892us/step - loss: 0.5949 - auc: 0.3723\n",
            "Epoch 8/20\n",
            "170/170 [==============================] - 0s 797us/step - loss: 0.5534 - auc: 0.6286\n",
            "Epoch 9/20\n",
            "170/170 [==============================] - 0s 905us/step - loss: 0.5185 - auc: 0.7781\n",
            "Epoch 10/20\n",
            "170/170 [==============================] - 0s 1ms/step - loss: 0.4890 - auc: 0.8135\n",
            "Epoch 11/20\n",
            "170/170 [==============================] - 0s 858us/step - loss: 0.4648 - auc: 0.8249\n",
            "Epoch 12/20\n",
            "170/170 [==============================] - 0s 839us/step - loss: 0.4452 - auc: 0.8306\n",
            "Epoch 13/20\n",
            "170/170 [==============================] - 0s 990us/step - loss: 0.4301 - auc: 0.8337\n",
            "Epoch 14/20\n",
            "170/170 [==============================] - 0s 803us/step - loss: 0.4188 - auc: 0.8349\n",
            "Epoch 15/20\n",
            "170/170 [==============================] - 0s 859us/step - loss: 0.4102 - auc: 0.8360\n",
            "Epoch 16/20\n",
            "170/170 [==============================] - 0s 867us/step - loss: 0.4046 - auc: 0.8362\n",
            "Epoch 17/20\n",
            "170/170 [==============================] - 0s 911us/step - loss: 0.4010 - auc: 0.8366\n",
            "Epoch 18/20\n",
            "170/170 [==============================] - 0s 842us/step - loss: 0.3989 - auc: 0.8366\n",
            "Epoch 19/20\n",
            "170/170 [==============================] - 0s 802us/step - loss: 0.3978 - auc: 0.8365\n",
            "Epoch 20/20\n",
            "170/170 [==============================] - 0s 873us/step - loss: 0.3972 - auc: 0.8368\n"
          ]
        },
        {
          "data": {
            "image/png": "[encoded data removed]",
            "text/plain": [
              "<Figure size 640x480 with 1 Axes>"
            ]
          },
          "metadata": {},
          "output_type": "display_data"
        }
      ],
      "source": [
        "# Las siguientes variables son los hiperparámetros.\n",
        "tasa_aprendizaje = 0.001\n",
        "epocas = 20\n",
        "tamaño_lote = 100\n",
        "nombre_etiqueta = \"median_house_value_is_high\"\n",
        "\n",
        "# El AUC es una métrica \"resumen\" razonable para\n",
        "# modelos de clasificación.\n",
        "# Aquí está la definición actualizada de METRICS para\n",
        "# medir el AUC:\n",
        "METRICS = [\n",
        "      tf.keras.metrics.AUC(num_thresholds=100, name='auc'),\n",
        "]\n",
        "\n",
        "# Establecer la topografía del modelo.\n",
        "mi_modelo = create_model(inputs, tasa_aprendizaje, METRICS)\n",
        "\n",
        "# Entrenar el modelo en el conjunto de entrenamiento.\n",
        "epocas, hist = train_model(mi_modelo, train_df_norm, epocas,\n",
        "                           nombre_etiqueta, tamaño_lote)\n",
        "\n",
        "# Graficar métricas vs. épocas.\n",
        "lista_de_metricas_a_graficar = ['auc']\n",
        "plot_curve(epocas, hist, lista_de_metricas_a_graficar)"
      ]
    }
  ],
  "metadata": {
    "colab": {
      "name": "Binary Classification.ipynb",
      "private_outputs": true,
      "provenance": []
    },
    "kernelspec": {
      "display_name": "Python 3",
      "name": "python3"
    },
    "language_info": {
      "codemirror_mode": {
        "name": "ipython",
        "version": 3
      },
      "file_extension": ".py",
      "mimetype": "text/x-python",
      "name": "python",
      "nbconvert_exporter": "python",
      "pygments_lexer": "ipython3",
      "version": "3.9.13"
    }
  },
  "nbformat": 4,
  "nbformat_minor": 0
}
