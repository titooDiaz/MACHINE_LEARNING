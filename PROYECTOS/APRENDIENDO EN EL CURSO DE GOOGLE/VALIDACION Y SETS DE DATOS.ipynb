{
  "cells": [
    {
      "cell_type": "markdown",
      "metadata": {
        "id": "4f3CKqFUqL2-"
      },
      "source": [
        "# Validation Sets and Test Sets\n",
        "\n",
        "The previous Colab exercises evaluated the trained model against the training set, which does not provide a strong signal about the quality of your model. In this Colab, you'll experiment with validation sets and test sets.\n",
        "\n",
        "\n",
        "\n",
        "\n"
      ]
    },
    {
      "cell_type": "markdown",
      "metadata": {
        "id": "3spZH_kNkWWX"
      },
      "source": [
        "## Learning objectives\n",
        "\n",
        "After doing this Colab, you'll know how to do the following:\n",
        "\n",
        "  * Split a [training set](https://developers.google.com/machine-learning/glossary/#training_set) into a smaller training set and a [validation set](https://developers.google.com/machine-learning/glossary/#validation_set).\n",
        "  * Analyze deltas between training set and validation set results.\n",
        "  * Test the trained model with a [test set](https://developers.google.com/machine-learning/glossary/#test_set) to determine whether your trained model is [overfitting](https://developers.google.com/machine-learning/glossary/#overfitting).\n",
        "  * Detect and fix a common training problem."
      ]
    },
    {
      "cell_type": "markdown",
      "metadata": {
        "id": "gV82DJO3kWpk"
      },
      "source": [
        "## The dataset\n",
        "\n",
        "As in the previous exercise, this exercise uses the [California Housing dataset](https://developers.google.com/machine-learning/crash-course/california-housing-data-description) to predict the `median_house_value` at the city block level.  Like many \"famous\" datasets, the California Housing Dataset actually consists of two separate datasets, each living in separate .csv files:\n",
        "\n",
        "* The training set is in `california_housing_train.csv`.\n",
        "* The test set is in `california_housing_test.csv`.\n",
        "\n",
        "You'll create the validation set by dividing the downloaded training set into two parts:\n",
        "\n",
        "* a smaller training set  \n",
        "* a validation set"
      ]
    },
    {
      "cell_type": "markdown",
      "metadata": {
        "id": "S8gm6BpqRRuh"
      },
      "source": [
        "## Import relevant modules\n",
        "\n",
        "This first code cell imports the necessary modules and sets a few display options."
      ]
    },
    {
      "cell_type": "code",
      "execution_count": 1,
      "metadata": {
        "cellView": "form",
        "id": "9D8GgUovHbG0"
      },
      "outputs": [
        {
          "name": "stderr",
          "output_type": "stream",
          "text": [
            "C:\\Users\\PERSONAL\\AppData\\Local\\Temp\\ipykernel_9352\\3890651074.py:3: DeprecationWarning: \n",
            "Pyarrow will become a required dependency of pandas in the next major release of pandas (pandas 3.0),\n",
            "(to allow more performant data types, such as the Arrow string type, and better interoperability with other libraries)\n",
            "but was not found to be installed on your system.\n",
            "If this would cause problems for you,\n",
            "please provide us feedback at https://github.com/pandas-dev/pandas/issues/54466\n",
            "        \n",
            "  import pandas as pd\n"
          ]
        },
        {
          "name": "stdout",
          "output_type": "stream",
          "text": [
            "WARNING:tensorflow:From c:\\Users\\PERSONAL\\OneDrive\\Documentos\\PROGRAMACION GITHUB\\MACHINE LEARNING\\env\\lib\\site-packages\\keras\\src\\losses.py:2976: The name tf.losses.sparse_softmax_cross_entropy is deprecated. Please use tf.compat.v1.losses.sparse_softmax_cross_entropy instead.\n",
            "\n"
          ]
        }
      ],
      "source": [
        "#@title Import modules\n",
        "import numpy as np\n",
        "import pandas as pd\n",
        "import tensorflow as tf\n",
        "from matplotlib import pyplot as plt #https://pypi.org/project/matplotlib/\n",
        "\n",
        "pd.options.display.max_rows = 10\n",
        "pd.options.display.float_format = \"{:.1f}\".format"
      ]
    },
    {
      "cell_type": "markdown",
      "metadata": {
        "id": "xjvrrClQeAJu"
      },
      "source": [
        "## Load the datasets from the internet\n",
        "\n",
        "The following code cell loads the separate .csv files and creates the following two pandas DataFrames:\n",
        "\n",
        "* `train_df`, which contains the training set.\n",
        "* `test_df`, which contains the test set.\n",
        "\n"
      ]
    },
    {
      "cell_type": "code",
      "execution_count": 2,
      "metadata": {
        "id": "zUnTc_wfd_o3"
      },
      "outputs": [],
      "source": [
        "train_df = pd.read_csv(\"https://download.mlcc.google.com/mledu-datasets/california_housing_train.csv\")\n",
        "test_df = pd.read_csv(\"https://download.mlcc.google.com/mledu-datasets/california_housing_test.csv\")"
      ]
    },
    {
      "cell_type": "markdown",
      "metadata": {
        "id": "P_KBdj2M_yjM"
      },
      "source": [
        "## Scale the label values\n",
        "\n",
        "The following code cell scales the `median_house_value`.\n",
        "See the previous Colab exercise for details."
      ]
    },
    {
      "cell_type": "code",
      "execution_count": 3,
      "metadata": {
        "id": "3hc7QQhaAFXD"
      },
      "outputs": [],
      "source": [
        "scale_factor = 1000.0\n",
        "\n",
        "# Scale the training set's label.\n",
        "train_df[\"median_house_value\"] /= scale_factor\n",
        "\n",
        "# Scale the test set's label\n",
        "test_df[\"median_house_value\"] /= scale_factor"
      ]
    },
    {
      "cell_type": "markdown",
      "metadata": {
        "id": "FhessIIV8VPc"
      },
      "source": [
        "## Load the functions that build and train a model\n",
        "\n",
        "The following code cell defines two functions:\n",
        "\n",
        "  * `build_model`, which defines the model's topography.\n",
        "  * `train_model`, which will ultimately train the model, outputting not only the loss value for the training set but also the loss value for the validation set.\n",
        "\n",
        "Since you don't need to understand model building code right now, we've hidden this code cell. As always, you must run hidden code cells."
      ]
    },
    {
      "cell_type": "code",
      "execution_count": 4,
      "metadata": {
        "cellView": "form",
        "id": "bvonhK857msj"
      },
      "outputs": [
        {
          "name": "stdout",
          "output_type": "stream",
          "text": [
            "Defined the build_model and train_model functions.\n"
          ]
        }
      ],
      "source": [
        "#@title Define the functions that build and train a model\n",
        "def build_model(my_learning_rate):\n",
        "  \"\"\"Create and compile a simple linear regression model.\"\"\"\n",
        "  # Most simple tf.keras models are sequential.\n",
        "  model = tf.keras.models.Sequential()\n",
        "\n",
        "  # Add one linear layer to the model to yield a simple linear regressor.\n",
        "  model.add(tf.keras.layers.Dense(units=1, input_shape=(1,)))\n",
        "\n",
        "  # Compile the model topography into code that TensorFlow can efficiently\n",
        "  # execute. Configure training to minimize the model's mean squared error.\n",
        "  model.compile(optimizer=tf.keras.optimizers.experimental.RMSprop(learning_rate=my_learning_rate),\n",
        "                loss=\"mean_squared_error\",\n",
        "                metrics=[tf.keras.metrics.RootMeanSquaredError()])\n",
        "\n",
        "  return model\n",
        "\n",
        "\n",
        "def train_model(model, df, feature, label, my_epochs,\n",
        "                my_batch_size=None, my_validation_split=0.1):\n",
        "  \"\"\"Feed a dataset into the model in order to train it.\"\"\"\n",
        "\n",
        "  history = model.fit(x=df[feature],\n",
        "                      y=df[label],\n",
        "                      batch_size=my_batch_size,\n",
        "                      epochs=my_epochs,\n",
        "                      validation_split=my_validation_split)\n",
        "\n",
        "  # Gather the model's trained weight and bias.\n",
        "  trained_weight = model.get_weights()[0]\n",
        "  trained_bias = model.get_weights()[1]\n",
        "\n",
        "  # The list of epochs is stored separately from the\n",
        "  # rest of history.\n",
        "  epochs = history.epoch\n",
        "\n",
        "  # Isolate the root mean squared error for each epoch.\n",
        "  hist = pd.DataFrame(history.history)\n",
        "  rmse = hist[\"root_mean_squared_error\"]\n",
        "\n",
        "  return epochs, rmse, history.history\n",
        "\n",
        "print(\"Defined the build_model and train_model functions.\")"
      ]
    },
    {
      "cell_type": "markdown",
      "metadata": {
        "id": "8gRu4Ri0D8tH"
      },
      "source": [
        "## Define plotting functions\n",
        "\n",
        "The `plot_the_loss_curve` function plots loss vs. epochs for both the training set and the validation set."
      ]
    },
    {
      "cell_type": "code",
      "execution_count": 5,
      "metadata": {
        "cellView": "form",
        "id": "QA7hsqPZDvVM"
      },
      "outputs": [
        {
          "name": "stdout",
          "output_type": "stream",
          "text": [
            "Defined the plot_the_loss_curve function.\n"
          ]
        }
      ],
      "source": [
        "#@title Define the plotting function\n",
        "\n",
        "def plot_the_loss_curve(epochs, mae_training, mae_validation):\n",
        "  \"\"\"Plot a curve of loss vs. epoch.\"\"\"\n",
        "\n",
        "  plt.figure()\n",
        "  plt.xlabel(\"Epoch\")\n",
        "  plt.ylabel(\"Root Mean Squared Error\")\n",
        "\n",
        "  plt.plot(epochs[1:], mae_training[1:], label=\"Training Loss\")\n",
        "  plt.plot(epochs[1:], mae_validation[1:], label=\"Validation Loss\")\n",
        "  plt.legend()\n",
        "\n",
        "  # We're not going to plot the first epoch, since the loss on the first epoch\n",
        "  # is often substantially greater than the loss for other epochs.\n",
        "  merged_mae_lists = mae_training[1:] + mae_validation[1:]\n",
        "  highest_loss = max(merged_mae_lists)\n",
        "  lowest_loss = min(merged_mae_lists)\n",
        "  delta = highest_loss - lowest_loss\n",
        "  print(delta)\n",
        "\n",
        "  top_of_y_axis = highest_loss + (delta * 0.05)\n",
        "  bottom_of_y_axis = lowest_loss - (delta * 0.05)\n",
        "\n",
        "  plt.ylim([bottom_of_y_axis, top_of_y_axis])\n",
        "  plt.show()\n",
        "\n",
        "print(\"Defined the plot_the_loss_curve function.\")"
      ]
    },
    {
      "cell_type": "markdown",
      "metadata": {
        "id": "jipBqEQXlsN8"
      },
      "source": [
        "## Task 1: Experiment with the validation split\n",
        "\n",
        "In the following code cell, you'll see a variable named `validation_split`, which we've initialized at 0.2.  The `validation_split` variable specifies the proportion of the original training set that will serve as the validation set. The original training set contains 17,000 examples. Therefore, a `validation_split` of 0.2 means that:\n",
        "\n",
        "* 17,000 * 0.2 ~= 3,400 examples will become the validation set.\n",
        "* 17,000 * 0.8 ~= 13,600 examples will become the new training set.\n",
        "\n",
        "The following code builds a model, trains it on the training set, and evaluates the built model on both:\n",
        "\n",
        "* The training set.\n",
        "* And the validation set.\n",
        "\n",
        "If the data in the training set is similar to the data in the validation set, then the two loss curves and the final loss values should be almost identical. However, the loss curves and final loss values are **not** almost identical. Hmm, that's odd.  \n",
        "\n",
        "Experiment with two or three different values of `validation_split`.  Do different values of `validation_split` fix the problem?\n"
      ]
    },
    {
      "cell_type": "code",
      "execution_count": 14,
      "metadata": {
        "id": "knP23Taoa00a"
      },
      "outputs": [
        {
          "name": "stdout",
          "output_type": "stream",
          "text": [
            "Epoch 1/30\n",
            "34/34 [==============================] - 1s 6ms/step - loss: 38399.5156 - root_mean_squared_error: 195.9579 - val_loss: 49197.1445 - val_root_mean_squared_error: 221.8043\n",
            "Epoch 2/30\n",
            "34/34 [==============================] - 0s 3ms/step - loss: 33213.4258 - root_mean_squared_error: 182.2455 - val_loss: 43709.8984 - val_root_mean_squared_error: 209.0691\n",
            "Epoch 3/30\n",
            "34/34 [==============================] - 0s 3ms/step - loss: 28688.4746 - root_mean_squared_error: 169.3767 - val_loss: 38621.8906 - val_root_mean_squared_error: 196.5245\n",
            "Epoch 4/30\n",
            "34/34 [==============================] - 0s 3ms/step - loss: 24563.0859 - root_mean_squared_error: 156.7262 - val_loss: 33918.5742 - val_root_mean_squared_error: 184.1700\n",
            "Epoch 5/30\n",
            "34/34 [==============================] - 0s 3ms/step - loss: 20855.2637 - root_mean_squared_error: 144.4135 - val_loss: 29635.9062 - val_root_mean_squared_error: 172.1508\n",
            "Epoch 6/30\n",
            "34/34 [==============================] - 0s 3ms/step - loss: 17540.3457 - root_mean_squared_error: 132.4400 - val_loss: 25722.3438 - val_root_mean_squared_error: 160.3819\n",
            "Epoch 7/30\n",
            "34/34 [==============================] - 0s 4ms/step - loss: 14637.4541 - root_mean_squared_error: 120.9853 - val_loss: 22245.0918 - val_root_mean_squared_error: 149.1479\n",
            "Epoch 8/30\n",
            "34/34 [==============================] - 0s 4ms/step - loss: 12132.2686 - root_mean_squared_error: 110.1466 - val_loss: 19107.6309 - val_root_mean_squared_error: 138.2304\n",
            "Epoch 9/30\n",
            "34/34 [==============================] - 0s 4ms/step - loss: 9980.7695 - root_mean_squared_error: 99.9038 - val_loss: 16375.1113 - val_root_mean_squared_error: 127.9653\n",
            "Epoch 10/30\n",
            "34/34 [==============================] - 0s 4ms/step - loss: 8275.1660 - root_mean_squared_error: 90.9679 - val_loss: 14086.1934 - val_root_mean_squared_error: 118.6853\n",
            "Epoch 11/30\n",
            "34/34 [==============================] - 0s 4ms/step - loss: 6918.3594 - root_mean_squared_error: 83.1767 - val_loss: 12084.7295 - val_root_mean_squared_error: 109.9306\n",
            "Epoch 12/30\n",
            "34/34 [==============================] - 0s 3ms/step - loss: 5945.1602 - root_mean_squared_error: 77.1049 - val_loss: 10563.4600 - val_root_mean_squared_error: 102.7787\n",
            "Epoch 13/30\n",
            "34/34 [==============================] - 0s 4ms/step - loss: 5317.0386 - root_mean_squared_error: 72.9180 - val_loss: 9381.3945 - val_root_mean_squared_error: 96.8576\n",
            "Epoch 14/30\n",
            "34/34 [==============================] - 0s 4ms/step - loss: 5017.0820 - root_mean_squared_error: 70.8314 - val_loss: 8642.6699 - val_root_mean_squared_error: 92.9660\n",
            "Epoch 15/30\n",
            "34/34 [==============================] - 0s 4ms/step - loss: 4935.1294 - root_mean_squared_error: 70.2505 - val_loss: 8414.1924 - val_root_mean_squared_error: 91.7289\n",
            "Epoch 16/30\n",
            "34/34 [==============================] - 0s 4ms/step - loss: 4925.1797 - root_mean_squared_error: 70.1796 - val_loss: 8373.5059 - val_root_mean_squared_error: 91.5069\n",
            "Epoch 17/30\n",
            "34/34 [==============================] - 0s 3ms/step - loss: 4923.4541 - root_mean_squared_error: 70.1673 - val_loss: 8386.9248 - val_root_mean_squared_error: 91.5802\n",
            "Epoch 18/30\n",
            "34/34 [==============================] - 0s 3ms/step - loss: 4920.8052 - root_mean_squared_error: 70.1485 - val_loss: 8366.1816 - val_root_mean_squared_error: 91.4668\n",
            "Epoch 19/30\n",
            "34/34 [==============================] - 0s 3ms/step - loss: 4919.3472 - root_mean_squared_error: 70.1381 - val_loss: 8299.0430 - val_root_mean_squared_error: 91.0991\n",
            "Epoch 20/30\n",
            "34/34 [==============================] - 0s 3ms/step - loss: 4918.8745 - root_mean_squared_error: 70.1347 - val_loss: 8317.7910 - val_root_mean_squared_error: 91.2019\n",
            "Epoch 21/30\n",
            "34/34 [==============================] - 0s 4ms/step - loss: 4914.9761 - root_mean_squared_error: 70.1069 - val_loss: 8430.9541 - val_root_mean_squared_error: 91.8202\n",
            "Epoch 22/30\n",
            "34/34 [==============================] - 0s 4ms/step - loss: 4915.5112 - root_mean_squared_error: 70.1107 - val_loss: 8297.8008 - val_root_mean_squared_error: 91.0923\n",
            "Epoch 23/30\n",
            "34/34 [==============================] - 0s 4ms/step - loss: 4915.4468 - root_mean_squared_error: 70.1102 - val_loss: 8325.3877 - val_root_mean_squared_error: 91.2436\n",
            "Epoch 24/30\n",
            "34/34 [==============================] - 0s 4ms/step - loss: 4915.2290 - root_mean_squared_error: 70.1087 - val_loss: 8387.6719 - val_root_mean_squared_error: 91.5842\n",
            "Epoch 25/30\n",
            "34/34 [==============================] - 0s 3ms/step - loss: 4914.8662 - root_mean_squared_error: 70.1061 - val_loss: 8356.6230 - val_root_mean_squared_error: 91.4146\n",
            "Epoch 26/30\n",
            "34/34 [==============================] - 0s 4ms/step - loss: 4913.3394 - root_mean_squared_error: 70.0952 - val_loss: 8328.2314 - val_root_mean_squared_error: 91.2591\n",
            "Epoch 27/30\n",
            "34/34 [==============================] - 0s 3ms/step - loss: 4912.0898 - root_mean_squared_error: 70.0863 - val_loss: 8337.0098 - val_root_mean_squared_error: 91.3072\n",
            "Epoch 28/30\n",
            "34/34 [==============================] - 0s 4ms/step - loss: 4913.0811 - root_mean_squared_error: 70.0934 - val_loss: 8393.1445 - val_root_mean_squared_error: 91.6141\n",
            "Epoch 29/30\n",
            "34/34 [==============================] - 0s 4ms/step - loss: 4911.8228 - root_mean_squared_error: 70.0844 - val_loss: 8334.1250 - val_root_mean_squared_error: 91.2914\n",
            "Epoch 30/30\n",
            "34/34 [==============================] - 0s 4ms/step - loss: 4911.2979 - root_mean_squared_error: 70.0807 - val_loss: 8300.4043 - val_root_mean_squared_error: 91.1066\n",
            "138.98847198486328\n"
          ]
        },
        {
          "data": {
            "image/png": "[encoded data removed]",
            "text/plain": [
              "<Figure size 640x480 with 1 Axes>"
            ]
          },
          "metadata": {},
          "output_type": "display_data"
        }
      ],
      "source": [
        "# The following variables are the hyperparameters.\n",
        "learning_rate = 0.08\n",
        "epochs = 30\n",
        "batch_size = 100\n",
        "#Estos son hiperparámetros que controlan el proceso de entrenamiento de un modelo de aprendizaje automático. \n",
        "# La tasa de aprendizaje (learning_rate) determina el tamaño del paso durante la optimización,\n",
        "# las épocas (epochs) representan el número de veces que se pasa todo el conjunto de datos hacia adelante y hacia atrás a través de la red neuronal, \n",
        "# y el tamaño del lote (batch_size) es la cantidad de \n",
        "\n",
        "\n",
        "#Esta variable define el porcentaje del conjunto de entrenamiento original que se utilizará como conjunto de validación. \n",
        "# Es decir, el 80% del conjunto de entrenamiento se usará para entrenar el modelo, y el 20% se reservará para validar su rendimiento.\n",
        "validation_split = 0.8\n",
        "\n",
        "# Identify the feature and the label.\n",
        "my_feature = \"median_income\"    # the median income on a specific city block.\n",
        "my_label = \"median_house_value\" # the median house value on a specific city block.\n",
        "# That is, you're going to create a model that predicts house value based\n",
        "# solely on the neighborhood's median income.\n",
        "\n",
        "# Invoke the functions to build and train the model.\n",
        "my_model = build_model(learning_rate)\n",
        "epochs, rmse, history = train_model(my_model, train_df, my_feature,\n",
        "                                    my_label, epochs, batch_size,\n",
        "                                    validation_split)\n",
        "\n",
        "plot_the_loss_curve(epochs, history[\"root_mean_squared_error\"],\n",
        "                    history[\"val_root_mean_squared_error\"])\n",
        "\n",
        "#La idea es observar cómo se comporta la pérdida en ambos conjuntos. \n",
        "# Si la pérdida en el conjunto de validación disminuye a medida que aumentan las épocas, pero luego comienza a aumentar nuevamente, podrías estar experimentando sobreajuste (overfitting). \n",
        "# Si ambas curvas disminuyen y se mantienen bajas, eso es generalmente un buen indicativo de que el modelo está aprendiendo de manera efectiva."
      ]
    },
    {
      "cell_type": "markdown",
      "metadata": {
        "id": "TKa11JK4Pm3f"
      },
      "source": [
        "## Task 2: Determine **why** the loss curves differ\n",
        "\n",
        "No matter how you split the training set and the validation set, the loss curves differ significantly. Evidently, the data in the training set isn't similar enough to the data in the validation set. Counterintuitive? Yes, but this problem is actually pretty common in machine learning.\n",
        "\n",
        "Your task is to determine **why** the loss curves aren't highly similar. As with most issues in machine learning, the problem is rooted in the data itself. To solve this mystery of why the training set and validation set aren't almost identical, write a line or two of [pandas code](https://colab.research.google.com/github/google/eng-edu/blob/main/ml/cc/exercises/pandas_dataframe_ultraquick_tutorial.ipynb?utm_source=validation-colab&utm_medium=colab&utm_campaign=colab-external&utm_content=pandas_tf2-colab&hl=en) in the following code cell.  Here are a couple of hints:\n",
        "\n",
        "  * The previous code cell split the original training set into:\n",
        "    * a reduced training set (the original training set - the validation set)\n",
        "    * the validation set\n",
        "  * By default, the pandas [`head`](https://pandas.pydata.org/pandas-docs/stable/reference/api/pandas.DataFrame.head.html) method outputs the *first* 5 rows of the DataFrame. To see more of the training set, specify the `n` argument to `head` and assign a large positive integer to `n`."
      ]
    },
    {
      "cell_type": "code",
      "execution_count": 16,
      "metadata": {
        "id": "VJQcAZkwJt_p"
      },
      "outputs": [
        {
          "data": {
            "image/png": "[encoded data removed]",
            "text/plain": [
              "<Figure size 1000x600 with 1 Axes>"
            ]
          },
          "metadata": {},
          "output_type": "display_data"
        }
      ],
      "source": [
        "train_df.head()\n",
        "train_df.describe()\n",
        "test_df.describe()\n",
        "\n",
        "import matplotlib.pyplot as plt\n",
        "\n",
        "plt.figure(figsize=(10, 6))\n",
        "plt.hist(train_df['median_income'], bins=30, alpha=0.5, label='Training')\n",
        "plt.hist(test_df['median_income'], bins=30, alpha=0.5, label='Validation')\n",
        "plt.xlabel('Median Income')\n",
        "plt.ylabel('Frequency')\n",
        "plt.legend()\n",
        "plt.show()\n"
      ]
    },
    {
      "cell_type": "code",
      "execution_count": 8,
      "metadata": {
        "cellView": "form",
        "id": "EnNvkFwwK8WY"
      },
      "outputs": [
        {
          "data": {
            "text/html": [
              "<div>\n",
              "<style scoped>\n",
              "    .dataframe tbody tr th:only-of-type {\n",
              "        vertical-align: middle;\n",
              "    }\n",
              "\n",
              "    .dataframe tbody tr th {\n",
              "        vertical-align: top;\n",
              "    }\n",
              "\n",
              "    .dataframe thead th {\n",
              "        text-align: right;\n",
              "    }\n",
              "</style>\n",
              "<table border=\"1\" class=\"dataframe\">\n",
              "  <thead>\n",
              "    <tr style=\"text-align: right;\">\n",
              "      <th></th>\n",
              "      <th>longitude</th>\n",
              "      <th>latitude</th>\n",
              "      <th>housing_median_age</th>\n",
              "      <th>total_rooms</th>\n",
              "      <th>total_bedrooms</th>\n",
              "      <th>population</th>\n",
              "      <th>households</th>\n",
              "      <th>median_income</th>\n",
              "      <th>median_house_value</th>\n",
              "    </tr>\n",
              "  </thead>\n",
              "  <tbody>\n",
              "    <tr>\n",
              "      <th>0</th>\n",
              "      <td>-114.3</td>\n",
              "      <td>34.2</td>\n",
              "      <td>15.0</td>\n",
              "      <td>5612.0</td>\n",
              "      <td>1283.0</td>\n",
              "      <td>1015.0</td>\n",
              "      <td>472.0</td>\n",
              "      <td>1.5</td>\n",
              "      <td>66.9</td>\n",
              "    </tr>\n",
              "    <tr>\n",
              "      <th>1</th>\n",
              "      <td>-114.5</td>\n",
              "      <td>34.4</td>\n",
              "      <td>19.0</td>\n",
              "      <td>7650.0</td>\n",
              "      <td>1901.0</td>\n",
              "      <td>1129.0</td>\n",
              "      <td>463.0</td>\n",
              "      <td>1.8</td>\n",
              "      <td>80.1</td>\n",
              "    </tr>\n",
              "    <tr>\n",
              "      <th>2</th>\n",
              "      <td>-114.6</td>\n",
              "      <td>33.7</td>\n",
              "      <td>17.0</td>\n",
              "      <td>720.0</td>\n",
              "      <td>174.0</td>\n",
              "      <td>333.0</td>\n",
              "      <td>117.0</td>\n",
              "      <td>1.7</td>\n",
              "      <td>85.7</td>\n",
              "    </tr>\n",
              "    <tr>\n",
              "      <th>3</th>\n",
              "      <td>-114.6</td>\n",
              "      <td>33.6</td>\n",
              "      <td>14.0</td>\n",
              "      <td>1501.0</td>\n",
              "      <td>337.0</td>\n",
              "      <td>515.0</td>\n",
              "      <td>226.0</td>\n",
              "      <td>3.2</td>\n",
              "      <td>73.4</td>\n",
              "    </tr>\n",
              "    <tr>\n",
              "      <th>4</th>\n",
              "      <td>-114.6</td>\n",
              "      <td>33.6</td>\n",
              "      <td>20.0</td>\n",
              "      <td>1454.0</td>\n",
              "      <td>326.0</td>\n",
              "      <td>624.0</td>\n",
              "      <td>262.0</td>\n",
              "      <td>1.9</td>\n",
              "      <td>65.5</td>\n",
              "    </tr>\n",
              "    <tr>\n",
              "      <th>...</th>\n",
              "      <td>...</td>\n",
              "      <td>...</td>\n",
              "      <td>...</td>\n",
              "      <td>...</td>\n",
              "      <td>...</td>\n",
              "      <td>...</td>\n",
              "      <td>...</td>\n",
              "      <td>...</td>\n",
              "      <td>...</td>\n",
              "    </tr>\n",
              "    <tr>\n",
              "      <th>995</th>\n",
              "      <td>-117.1</td>\n",
              "      <td>32.5</td>\n",
              "      <td>8.0</td>\n",
              "      <td>6533.0</td>\n",
              "      <td>1217.0</td>\n",
              "      <td>4797.0</td>\n",
              "      <td>1177.0</td>\n",
              "      <td>4.0</td>\n",
              "      <td>144.4</td>\n",
              "    </tr>\n",
              "    <tr>\n",
              "      <th>996</th>\n",
              "      <td>-117.1</td>\n",
              "      <td>34.6</td>\n",
              "      <td>6.0</td>\n",
              "      <td>5110.0</td>\n",
              "      <td>1044.0</td>\n",
              "      <td>1938.0</td>\n",
              "      <td>724.0</td>\n",
              "      <td>3.2</td>\n",
              "      <td>112.8</td>\n",
              "    </tr>\n",
              "    <tr>\n",
              "      <th>997</th>\n",
              "      <td>-117.1</td>\n",
              "      <td>34.2</td>\n",
              "      <td>22.0</td>\n",
              "      <td>4397.0</td>\n",
              "      <td>931.0</td>\n",
              "      <td>1145.0</td>\n",
              "      <td>445.0</td>\n",
              "      <td>4.5</td>\n",
              "      <td>108.4</td>\n",
              "    </tr>\n",
              "    <tr>\n",
              "      <th>998</th>\n",
              "      <td>-117.1</td>\n",
              "      <td>34.0</td>\n",
              "      <td>24.0</td>\n",
              "      <td>4144.0</td>\n",
              "      <td>826.0</td>\n",
              "      <td>2127.0</td>\n",
              "      <td>772.0</td>\n",
              "      <td>2.5</td>\n",
              "      <td>96.0</td>\n",
              "    </tr>\n",
              "    <tr>\n",
              "      <th>999</th>\n",
              "      <td>-117.1</td>\n",
              "      <td>33.6</td>\n",
              "      <td>6.0</td>\n",
              "      <td>1868.0</td>\n",
              "      <td>289.0</td>\n",
              "      <td>750.0</td>\n",
              "      <td>247.0</td>\n",
              "      <td>4.4</td>\n",
              "      <td>307.6</td>\n",
              "    </tr>\n",
              "  </tbody>\n",
              "</table>\n",
              "<p>1000 rows × 9 columns</p>\n",
              "</div>"
            ],
            "text/plain": [
              "     longitude  latitude  housing_median_age  total_rooms  total_bedrooms  \\\n",
              "0       -114.3      34.2                15.0       5612.0          1283.0   \n",
              "1       -114.5      34.4                19.0       7650.0          1901.0   \n",
              "2       -114.6      33.7                17.0        720.0           174.0   \n",
              "3       -114.6      33.6                14.0       1501.0           337.0   \n",
              "4       -114.6      33.6                20.0       1454.0           326.0   \n",
              "..         ...       ...                 ...          ...             ...   \n",
              "995     -117.1      32.5                 8.0       6533.0          1217.0   \n",
              "996     -117.1      34.6                 6.0       5110.0          1044.0   \n",
              "997     -117.1      34.2                22.0       4397.0           931.0   \n",
              "998     -117.1      34.0                24.0       4144.0           826.0   \n",
              "999     -117.1      33.6                 6.0       1868.0           289.0   \n",
              "\n",
              "     population  households  median_income  median_house_value  \n",
              "0        1015.0       472.0            1.5                66.9  \n",
              "1        1129.0       463.0            1.8                80.1  \n",
              "2         333.0       117.0            1.7                85.7  \n",
              "3         515.0       226.0            3.2                73.4  \n",
              "4         624.0       262.0            1.9                65.5  \n",
              "..          ...         ...            ...                 ...  \n",
              "995      4797.0      1177.0            4.0               144.4  \n",
              "996      1938.0       724.0            3.2               112.8  \n",
              "997      1145.0       445.0            4.5               108.4  \n",
              "998      2127.0       772.0            2.5                96.0  \n",
              "999       750.0       247.0            4.4               307.6  \n",
              "\n",
              "[1000 rows x 9 columns]"
            ]
          },
          "execution_count": 8,
          "metadata": {},
          "output_type": "execute_result"
        }
      ],
      "source": [
        "#@title Double-click for a possible solution to Task 2.\n",
        "\n",
        "# Examine examples 0 through 4 and examples 995 through 999\n",
        "# of the training set\n",
        "train_df.head(n=1000)\n",
        "\n",
        "# The original training set is sorted by longitude.\n",
        "# Apparently, longitude influences the relationship of\n",
        "# total_rooms to median_house_value."
      ]
    },
    {
      "cell_type": "markdown",
      "metadata": {
        "id": "rw4xI1ZEckI8"
      },
      "source": [
        "## Task 3. Fix the problem\n",
        "\n",
        "To fix the problem, shuffle the examples in the training set before splitting the examples into a training set and validation set. To do so, take the following steps:\n",
        "\n",
        "1. Shuffle the data in the training set by adding the following line anywhere before you call `train_model` (in the code cell associated with Task 1):\n",
        "\n",
        "```\n",
        "  shuffled_train_df = train_df.reindex(np.random.permutation(train_df.index))\n",
        "```                                    \n",
        "\n",
        "2. Pass `shuffled_train_df` (instead of `train_df`) as the second argument to `train_model` (in the code call associated with Task 1) so that the call becomes as follows:\n",
        "\n",
        "```\n",
        "  epochs, rmse, history = train_model(my_model, shuffled_train_df, my_feature,\n",
        "                                      my_label, epochs, batch_size,\n",
        "                                      validation_split)\n",
        "```"
      ]
    },
    {
      "cell_type": "code",
      "execution_count": 9,
      "metadata": {
        "cellView": "form",
        "id": "ncODhpv0h-LG"
      },
      "outputs": [
        {
          "name": "stdout",
          "output_type": "stream",
          "text": [
            "Epoch 1/70\n",
            "136/136 [==============================] - 0s 2ms/step - loss: 45579.8164 - root_mean_squared_error: 213.4943 - val_loss: 36905.8672 - val_root_mean_squared_error: 192.1090\n",
            "Epoch 2/70\n",
            "136/136 [==============================] - 0s 948us/step - loss: 26877.2461 - root_mean_squared_error: 163.9428 - val_loss: 20812.4336 - val_root_mean_squared_error: 144.2652\n",
            "Epoch 3/70\n",
            "136/136 [==============================] - 0s 919us/step - loss: 14479.9043 - root_mean_squared_error: 120.3325 - val_loss: 11190.6504 - val_root_mean_squared_error: 105.7859\n",
            "Epoch 4/70\n",
            "136/136 [==============================] - 0s 1ms/step - loss: 8240.8623 - root_mean_squared_error: 90.7792 - val_loss: 7717.1699 - val_root_mean_squared_error: 87.8474\n",
            "Epoch 5/70\n",
            "136/136 [==============================] - 0s 942us/step - loss: 6886.6025 - root_mean_squared_error: 82.9856 - val_loss: 7603.3252 - val_root_mean_squared_error: 87.1970\n",
            "Epoch 6/70\n",
            "136/136 [==============================] - 0s 1ms/step - loss: 6865.8096 - root_mean_squared_error: 82.8602 - val_loss: 7604.5283 - val_root_mean_squared_error: 87.2039\n",
            "Epoch 7/70\n",
            "136/136 [==============================] - 0s 1ms/step - loss: 6866.9204 - root_mean_squared_error: 82.8669 - val_loss: 7603.0952 - val_root_mean_squared_error: 87.1957\n",
            "Epoch 8/70\n",
            "136/136 [==============================] - 0s 992us/step - loss: 6866.9941 - root_mean_squared_error: 82.8673 - val_loss: 7603.4932 - val_root_mean_squared_error: 87.1980\n",
            "Epoch 9/70\n",
            "136/136 [==============================] - 0s 1ms/step - loss: 6867.4360 - root_mean_squared_error: 82.8700 - val_loss: 7603.3657 - val_root_mean_squared_error: 87.1973\n",
            "Epoch 10/70\n",
            "136/136 [==============================] - 0s 988us/step - loss: 6863.3276 - root_mean_squared_error: 82.8452 - val_loss: 7611.8584 - val_root_mean_squared_error: 87.2460\n",
            "Epoch 11/70\n",
            "136/136 [==============================] - 0s 913us/step - loss: 6868.3760 - root_mean_squared_error: 82.8757 - val_loss: 7603.4121 - val_root_mean_squared_error: 87.1975\n",
            "Epoch 12/70\n",
            "136/136 [==============================] - 0s 1ms/step - loss: 6867.4043 - root_mean_squared_error: 82.8698 - val_loss: 7605.4746 - val_root_mean_squared_error: 87.2094\n",
            "Epoch 13/70\n",
            "136/136 [==============================] - 0s 986us/step - loss: 6867.1528 - root_mean_squared_error: 82.8683 - val_loss: 7605.0400 - val_root_mean_squared_error: 87.2069\n",
            "Epoch 14/70\n",
            "136/136 [==============================] - 0s 1ms/step - loss: 6867.4219 - root_mean_squared_error: 82.8699 - val_loss: 7603.5063 - val_root_mean_squared_error: 87.1981\n",
            "Epoch 15/70\n",
            "136/136 [==============================] - 0s 932us/step - loss: 6866.5288 - root_mean_squared_error: 82.8645 - val_loss: 7605.8994 - val_root_mean_squared_error: 87.2118\n",
            "Epoch 16/70\n",
            "136/136 [==============================] - 0s 970us/step - loss: 6868.2666 - root_mean_squared_error: 82.8750 - val_loss: 7603.5835 - val_root_mean_squared_error: 87.1985\n",
            "Epoch 17/70\n",
            "136/136 [==============================] - 0s 940us/step - loss: 6867.7334 - root_mean_squared_error: 82.8718 - val_loss: 7604.7549 - val_root_mean_squared_error: 87.2052\n",
            "Epoch 18/70\n",
            "136/136 [==============================] - 0s 1ms/step - loss: 6865.9351 - root_mean_squared_error: 82.8609 - val_loss: 7605.9731 - val_root_mean_squared_error: 87.2122\n",
            "Epoch 19/70\n",
            "136/136 [==============================] - 0s 973us/step - loss: 6867.7764 - root_mean_squared_error: 82.8720 - val_loss: 7604.7319 - val_root_mean_squared_error: 87.2051\n",
            "Epoch 20/70\n",
            "136/136 [==============================] - 0s 917us/step - loss: 6867.1875 - root_mean_squared_error: 82.8685 - val_loss: 7604.8364 - val_root_mean_squared_error: 87.2057\n",
            "Epoch 21/70\n",
            "136/136 [==============================] - 0s 1ms/step - loss: 6868.7412 - root_mean_squared_error: 82.8779 - val_loss: 7603.5747 - val_root_mean_squared_error: 87.1985\n",
            "Epoch 22/70\n",
            "136/136 [==============================] - 0s 936us/step - loss: 6867.6377 - root_mean_squared_error: 82.8712 - val_loss: 7603.2920 - val_root_mean_squared_error: 87.1969\n",
            "Epoch 23/70\n",
            "136/136 [==============================] - 0s 962us/step - loss: 6867.8057 - root_mean_squared_error: 82.8722 - val_loss: 7603.3506 - val_root_mean_squared_error: 87.1972\n",
            "Epoch 24/70\n",
            "136/136 [==============================] - 0s 928us/step - loss: 6868.3115 - root_mean_squared_error: 82.8753 - val_loss: 7603.3423 - val_root_mean_squared_error: 87.1972\n",
            "Epoch 25/70\n",
            "136/136 [==============================] - 0s 970us/step - loss: 6866.5527 - root_mean_squared_error: 82.8647 - val_loss: 7604.7856 - val_root_mean_squared_error: 87.2054\n",
            "Epoch 26/70\n",
            "136/136 [==============================] - 0s 946us/step - loss: 6867.2729 - root_mean_squared_error: 82.8690 - val_loss: 7604.0649 - val_root_mean_squared_error: 87.2013\n",
            "Epoch 27/70\n",
            "136/136 [==============================] - 0s 995us/step - loss: 6865.8657 - root_mean_squared_error: 82.8605 - val_loss: 7612.7856 - val_root_mean_squared_error: 87.2513\n",
            "Epoch 28/70\n",
            "136/136 [==============================] - 0s 933us/step - loss: 6866.8745 - root_mean_squared_error: 82.8666 - val_loss: 7603.6748 - val_root_mean_squared_error: 87.1991\n",
            "Epoch 29/70\n",
            "136/136 [==============================] - 0s 1ms/step - loss: 6867.4233 - root_mean_squared_error: 82.8699 - val_loss: 7605.0376 - val_root_mean_squared_error: 87.2069\n",
            "Epoch 30/70\n",
            "136/136 [==============================] - 0s 944us/step - loss: 6867.7231 - root_mean_squared_error: 82.8717 - val_loss: 7603.9512 - val_root_mean_squared_error: 87.2006\n",
            "Epoch 31/70\n",
            "136/136 [==============================] - 0s 993us/step - loss: 6866.3096 - root_mean_squared_error: 82.8632 - val_loss: 7608.7246 - val_root_mean_squared_error: 87.2280\n",
            "Epoch 32/70\n",
            "136/136 [==============================] - 0s 974us/step - loss: 6864.8994 - root_mean_squared_error: 82.8547 - val_loss: 7607.9624 - val_root_mean_squared_error: 87.2236\n",
            "Epoch 33/70\n",
            "136/136 [==============================] - 0s 957us/step - loss: 6867.9600 - root_mean_squared_error: 82.8732 - val_loss: 7603.7998 - val_root_mean_squared_error: 87.1998\n",
            "Epoch 34/70\n",
            "136/136 [==============================] - 0s 1ms/step - loss: 6866.6851 - root_mean_squared_error: 82.8655 - val_loss: 7606.5728 - val_root_mean_squared_error: 87.2157\n",
            "Epoch 35/70\n",
            "136/136 [==============================] - 0s 941us/step - loss: 6867.7593 - root_mean_squared_error: 82.8719 - val_loss: 7603.4751 - val_root_mean_squared_error: 87.1979\n",
            "Epoch 36/70\n",
            "136/136 [==============================] - 0s 1ms/step - loss: 6866.3604 - root_mean_squared_error: 82.8635 - val_loss: 7610.7837 - val_root_mean_squared_error: 87.2398\n",
            "Epoch 37/70\n",
            "136/136 [==============================] - 0s 979us/step - loss: 6868.0010 - root_mean_squared_error: 82.8734 - val_loss: 7605.7202 - val_root_mean_squared_error: 87.2108\n",
            "Epoch 38/70\n",
            "136/136 [==============================] - 0s 1ms/step - loss: 6867.0898 - root_mean_squared_error: 82.8679 - val_loss: 7604.1235 - val_root_mean_squared_error: 87.2016\n",
            "Epoch 39/70\n",
            "136/136 [==============================] - 0s 1ms/step - loss: 6866.6948 - root_mean_squared_error: 82.8655 - val_loss: 7603.4932 - val_root_mean_squared_error: 87.1980\n",
            "Epoch 40/70\n",
            "136/136 [==============================] - 0s 1ms/step - loss: 6866.3711 - root_mean_squared_error: 82.8636 - val_loss: 7605.8125 - val_root_mean_squared_error: 87.2113\n",
            "Epoch 41/70\n",
            "136/136 [==============================] - 0s 1ms/step - loss: 6867.9624 - root_mean_squared_error: 82.8732 - val_loss: 7603.6611 - val_root_mean_squared_error: 87.1990\n",
            "Epoch 42/70\n",
            "136/136 [==============================] - 0s 1ms/step - loss: 6866.5986 - root_mean_squared_error: 82.8649 - val_loss: 7604.2734 - val_root_mean_squared_error: 87.2025\n",
            "Epoch 43/70\n",
            "136/136 [==============================] - 0s 1ms/step - loss: 6866.3647 - root_mean_squared_error: 82.8635 - val_loss: 7603.7578 - val_root_mean_squared_error: 87.1995\n",
            "Epoch 44/70\n",
            "136/136 [==============================] - 0s 1ms/step - loss: 6867.6870 - root_mean_squared_error: 82.8715 - val_loss: 7604.3877 - val_root_mean_squared_error: 87.2031\n",
            "Epoch 45/70\n",
            "136/136 [==============================] - 0s 1ms/step - loss: 6867.6426 - root_mean_squared_error: 82.8712 - val_loss: 7603.6357 - val_root_mean_squared_error: 87.1988\n",
            "Epoch 46/70\n",
            "136/136 [==============================] - 0s 1ms/step - loss: 6866.1836 - root_mean_squared_error: 82.8624 - val_loss: 7605.2964 - val_root_mean_squared_error: 87.2084\n",
            "Epoch 47/70\n",
            "136/136 [==============================] - 0s 986us/step - loss: 6866.8101 - root_mean_squared_error: 82.8662 - val_loss: 7604.1284 - val_root_mean_squared_error: 87.2017\n",
            "Epoch 48/70\n",
            "136/136 [==============================] - 0s 960us/step - loss: 6867.6875 - root_mean_squared_error: 82.8715 - val_loss: 7603.7993 - val_root_mean_squared_error: 87.1998\n",
            "Epoch 49/70\n",
            "136/136 [==============================] - 0s 917us/step - loss: 6867.2041 - root_mean_squared_error: 82.8686 - val_loss: 7604.3286 - val_root_mean_squared_error: 87.2028\n",
            "Epoch 50/70\n",
            "136/136 [==============================] - 0s 940us/step - loss: 6866.3735 - root_mean_squared_error: 82.8636 - val_loss: 7611.0430 - val_root_mean_squared_error: 87.2413\n",
            "Epoch 51/70\n",
            "136/136 [==============================] - 0s 930us/step - loss: 6868.0986 - root_mean_squared_error: 82.8740 - val_loss: 7603.8833 - val_root_mean_squared_error: 87.2002\n",
            "Epoch 52/70\n",
            "136/136 [==============================] - 0s 931us/step - loss: 6867.8955 - root_mean_squared_error: 82.8728 - val_loss: 7604.3247 - val_root_mean_squared_error: 87.2028\n",
            "Epoch 53/70\n",
            "136/136 [==============================] - 0s 974us/step - loss: 6866.3110 - root_mean_squared_error: 82.8632 - val_loss: 7604.3184 - val_root_mean_squared_error: 87.2027\n",
            "Epoch 54/70\n",
            "136/136 [==============================] - 0s 945us/step - loss: 6865.3438 - root_mean_squared_error: 82.8574 - val_loss: 7604.8906 - val_root_mean_squared_error: 87.2060\n",
            "Epoch 55/70\n",
            "136/136 [==============================] - 0s 915us/step - loss: 6867.3394 - root_mean_squared_error: 82.8694 - val_loss: 7607.1562 - val_root_mean_squared_error: 87.2190\n",
            "Epoch 56/70\n",
            "136/136 [==============================] - 0s 971us/step - loss: 6868.3833 - root_mean_squared_error: 82.8757 - val_loss: 7603.4766 - val_root_mean_squared_error: 87.1979\n",
            "Epoch 57/70\n",
            "136/136 [==============================] - 0s 940us/step - loss: 6866.9419 - root_mean_squared_error: 82.8670 - val_loss: 7603.4644 - val_root_mean_squared_error: 87.1978\n",
            "Epoch 58/70\n",
            "136/136 [==============================] - 0s 909us/step - loss: 6865.2305 - root_mean_squared_error: 82.8567 - val_loss: 7613.6987 - val_root_mean_squared_error: 87.2565\n",
            "Epoch 59/70\n",
            "136/136 [==============================] - 0s 934us/step - loss: 6867.4033 - root_mean_squared_error: 82.8698 - val_loss: 7604.2969 - val_root_mean_squared_error: 87.2026\n",
            "Epoch 60/70\n",
            "136/136 [==============================] - 0s 920us/step - loss: 6868.1406 - root_mean_squared_error: 82.8742 - val_loss: 7604.3076 - val_root_mean_squared_error: 87.2027\n",
            "Epoch 61/70\n",
            "136/136 [==============================] - 0s 934us/step - loss: 6866.9414 - root_mean_squared_error: 82.8670 - val_loss: 7603.5601 - val_root_mean_squared_error: 87.1984\n",
            "Epoch 62/70\n",
            "136/136 [==============================] - 0s 972us/step - loss: 6866.9692 - root_mean_squared_error: 82.8672 - val_loss: 7604.2866 - val_root_mean_squared_error: 87.2026\n",
            "Epoch 63/70\n",
            "136/136 [==============================] - 0s 970us/step - loss: 6866.7979 - root_mean_squared_error: 82.8661 - val_loss: 7604.0195 - val_root_mean_squared_error: 87.2010\n",
            "Epoch 64/70\n",
            "136/136 [==============================] - 0s 947us/step - loss: 6864.9790 - root_mean_squared_error: 82.8552 - val_loss: 7614.6519 - val_root_mean_squared_error: 87.2620\n",
            "Epoch 65/70\n",
            "136/136 [==============================] - 0s 1ms/step - loss: 6866.3604 - root_mean_squared_error: 82.8635 - val_loss: 7608.4111 - val_root_mean_squared_error: 87.2262\n",
            "Epoch 66/70\n",
            "136/136 [==============================] - 0s 929us/step - loss: 6866.8901 - root_mean_squared_error: 82.8667 - val_loss: 7605.2329 - val_root_mean_squared_error: 87.2080\n",
            "Epoch 67/70\n",
            "136/136 [==============================] - 0s 930us/step - loss: 6867.7881 - root_mean_squared_error: 82.8721 - val_loss: 7604.3271 - val_root_mean_squared_error: 87.2028\n",
            "Epoch 68/70\n",
            "136/136 [==============================] - 0s 1ms/step - loss: 6868.2896 - root_mean_squared_error: 82.8751 - val_loss: 7605.1641 - val_root_mean_squared_error: 87.2076\n",
            "Epoch 69/70\n",
            "136/136 [==============================] - 0s 932us/step - loss: 6868.5747 - root_mean_squared_error: 82.8769 - val_loss: 7604.0586 - val_root_mean_squared_error: 87.2013\n",
            "Epoch 70/70\n",
            "136/136 [==============================] - 0s 916us/step - loss: 6866.8940 - root_mean_squared_error: 82.8667 - val_loss: 7603.6948 - val_root_mean_squared_error: 87.1992\n",
            "81.09761047363281\n"
          ]
        },
        {
          "data": {
            "image/png": "[encoded data removed]",
            "text/plain": [
              "<Figure size 640x480 with 1 Axes>"
            ]
          },
          "metadata": {},
          "output_type": "display_data"
        }
      ],
      "source": [
        "#@title Double-click to view the complete implementation.\n",
        "\n",
        "# The following variables are the hyperparameters.\n",
        "learning_rate = 0.08\n",
        "epochs = 70\n",
        "batch_size = 100\n",
        "\n",
        "# Split the original training set into a reduced training set and a\n",
        "# validation set.\n",
        "validation_split = 0.2\n",
        "\n",
        "# Identify the feature and the label.\n",
        "my_feature = \"median_income\"    # the median income on a specific city block.\n",
        "my_label = \"median_house_value\" # the median house value on a specific city block.\n",
        "# That is, you're going to create a model that predicts house value based\n",
        "# solely on the neighborhood's median income.\n",
        "\n",
        "# Shuffle the examples.\n",
        "shuffled_train_df = train_df.reindex(np.random.permutation(train_df.index))\n",
        "\n",
        "# Invoke the functions to build and train the model. Train on the shuffled\n",
        "# training set.\n",
        "my_model = build_model(learning_rate)\n",
        "epochs, rmse, history = train_model(my_model, shuffled_train_df, my_feature,\n",
        "                                    my_label, epochs, batch_size,\n",
        "                                    validation_split)\n",
        "\n",
        "plot_the_loss_curve(epochs, history[\"root_mean_squared_error\"],\n",
        "                    history[\"val_root_mean_squared_error\"])"
      ]
    },
    {
      "cell_type": "markdown",
      "metadata": {
        "id": "tKN239_miW8C"
      },
      "source": [
        "Experiment with `validation_split` to answer the following questions:\n",
        "\n",
        "* With the training set shuffled, is the final loss for the training set closer to the final loss for the validation set?  \n",
        "* At what range of values of `validation_split` do the final loss values for the training set and validation set diverge meaningfully?  Why?"
      ]
    },
    {
      "cell_type": "code",
      "execution_count": 10,
      "metadata": {
        "cellView": "form",
        "id": "-UAJ3Q86iz31"
      },
      "outputs": [],
      "source": [
        "#@title Double-click for the answers to the questions\n",
        "\n",
        "# Yes, after shuffling the original training set,\n",
        "# the final loss for the training set and the\n",
        "# validation set become much closer.\n",
        "\n",
        "# If validation_split < 0.15,\n",
        "# the final loss values for the training set and\n",
        "# validation set diverge meaningfully.  Apparently,\n",
        "# the validation set no longer contains enough examples."
      ]
    },
    {
      "cell_type": "markdown",
      "metadata": {
        "id": "1PP-O8TOZOeo"
      },
      "source": [
        "## Task 4: Use the Test Dataset to Evaluate Your Model's Performance\n",
        "\n",
        "The test set usually acts as the ultimate judge of a model's quality. The test set can serve as an impartial judge because its examples haven't been used in training the model. Run the following code cell to evaluate the model with the test set:"
      ]
    },
    {
      "cell_type": "code",
      "execution_count": 11,
      "metadata": {
        "id": "nd_Sw2cygOip"
      },
      "outputs": [
        {
          "name": "stdout",
          "output_type": "stream",
          "text": [
            "30/30 [==============================] - 0s 773us/step - loss: 7012.9741 - root_mean_squared_error: 83.7435\n"
          ]
        }
      ],
      "source": [
        "x_test = test_df[my_feature]\n",
        "y_test = test_df[my_label]\n",
        "\n",
        "results = my_model.evaluate(x_test, y_test, batch_size=batch_size)"
      ]
    },
    {
      "cell_type": "markdown",
      "metadata": {
        "id": "qoyQKvsjmV_A"
      },
      "source": [
        "Compare the root mean squared error of the model when evaluated on each of the three datasets:\n",
        "\n",
        "* training set: look for `root_mean_squared_error` in the final training epoch.\n",
        "* validation set: look for `val_root_mean_squared_error` in the final training epoch.\n",
        "* test set: run the preceding code cell and examine the `root_mean_squared_error`.\n",
        "\n",
        "Ideally, the root mean squared error of all three sets should be similar. Are they?"
      ]
    },
    {
      "cell_type": "code",
      "execution_count": 12,
      "metadata": {
        "cellView": "form",
        "id": "FxXtp-aVdIgJ"
      },
      "outputs": [],
      "source": [
        "#@title Double-click for an answer\n",
        "\n",
        "# In our experiments, yes, the rmse values\n",
        "# were similar enough."
      ]
    }
  ],
  "metadata": {
    "colab": {
      "name": "Validation and Test Sets.ipynb",
      "private_outputs": true,
      "provenance": []
    },
    "kernelspec": {
      "display_name": "Python 3",
      "name": "python3"
    },
    "language_info": {
      "codemirror_mode": {
        "name": "ipython",
        "version": 3
      },
      "file_extension": ".py",
      "mimetype": "text/x-python",
      "name": "python",
      "nbconvert_exporter": "python",
      "pygments_lexer": "ipython3",
      "version": "3.9.13"
    }
  },
  "nbformat": 4,
  "nbformat_minor": 0
}
