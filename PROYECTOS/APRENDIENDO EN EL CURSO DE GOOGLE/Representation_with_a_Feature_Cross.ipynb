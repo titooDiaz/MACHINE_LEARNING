{
  "cells": [
    {
      "cell_type": "markdown",
      "metadata": {
        "id": "T4r2z30vJSbA"
      },
      "source": [
        "# Colabs\n",
        "\n",
        "Machine Learning Crash Course uses Colaboratories (Colabs) for all programming exercises. Colab is Google's implementation of [Jupyter Notebook](https://jupyter.org/). For more information about Colabs and how to use them, go to [Welcome to Colaboratory](https://research.google.com/colaboratory)."
      ]
    },
    {
      "cell_type": "markdown",
      "metadata": {
        "id": "TL5y5fY9Jy_x"
      },
      "source": [
        "# Representation with a Feature Cross\n",
        "\n",
        "In this exercise, you'll experiment with different ways to represent features."
      ]
    },
    {
      "cell_type": "markdown",
      "metadata": {
        "id": "RXWoPIezkzgI"
      },
      "source": [
        "## Learning Objectives:\n",
        "\n",
        "After doing this Colab, you'll know how to:\n",
        "\n",
        "  * Use TensorFlow [preprocessing layers](https://www.tensorflow.org/guide/keras/preprocessing_layers) to represent features in different ways.\n",
        "  * Represent features as [bins](https://developers.google.com/machine-learning/glossary/#bucketing).\n",
        "  * Cross bins to create a [feature cross](https://developers.google.com/machine-learning/glossary/#feature_cross)."
      ]
    },
    {
      "cell_type": "markdown",
      "metadata": {
        "id": "lH_g3Hsfkzzb"
      },
      "source": [
        "## The Dataset\n",
        "  \n",
        "Like several of the previous Colabs, this exercise uses the [California Housing Dataset](https://developers.google.com/machine-learning/crash-course/california-housing-data-description)."
      ]
    },
    {
      "cell_type": "markdown",
      "metadata": {
        "id": "5iuw6-JOGf7I"
      },
      "source": [
        "## Call the import statements\n",
        "\n",
        "The following code imports the necessary code to run the code in the rest of this Colaboratory."
      ]
    },
    {
      "cell_type": "code",
      "execution_count": 62,
      "metadata": {
        "id": "9n9_cTveKmse"
      },
      "outputs": [
        {
          "name": "stdout",
          "output_type": "stream",
          "text": [
            "Imported the modules.\n"
          ]
        }
      ],
      "source": [
        "#@title Load the imports\n",
        "\n",
        "import numpy as np\n",
        "import pandas as pd\n",
        "import tensorflow as tf\n",
        "from tensorflow.keras import layers\n",
        "\n",
        "from matplotlib import pyplot as plt\n",
        "\n",
        "# The following lines adjust the granularity of reporting.\n",
        "pd.options.display.max_rows = 10\n",
        "pd.options.display.float_format = \"{:.1f}\".format\n",
        "\n",
        "tf.keras.backend.set_floatx('float32')\n",
        "\n",
        "print(\"Imported the modules.\")"
      ]
    },
    {
      "cell_type": "markdown",
      "metadata": {
        "id": "X_TaJhU4KcuY"
      },
      "source": [
        "## Load, scale, and shuffle the examples\n",
        "\n",
        "The following code cell loads the separate .csv files and creates the following two pandas DataFrames:\n",
        "\n",
        "* `train_df`, which contains the training set\n",
        "* `test_df`, which contains the test set\n",
        "\n",
        "The code cell then scales the `median_house_value` to a more human-friendly range and then shuffles the examples.\n",
        "\n",
        "## Cargar, escalar y barajar los ejemplos\n",
        "\n",
        "La siguiente celda de código carga los archivos .csv por separado y crea los siguientes dos DataFrames de pandas:\n",
        "\n",
        "* `train_df`, que contiene el conjunto de entrenamiento.\n",
        "* `test_df`, que contiene el conjunto de prueba.\n",
        "\n",
        "Luego, la celda de código escala el `median_house_value` a un rango más amigable para los humanos y luego baraja los ejemplos."
      ]
    },
    {
      "cell_type": "code",
      "execution_count": 63,
      "metadata": {
        "id": "JZlvdpyYKx7V"
      },
      "outputs": [],
      "source": [
        "# Load the dataset #set de datos\n",
        "train_df = pd.read_csv(\"https://download.mlcc.google.com/mledu-datasets/california_housing_train.csv\")\n",
        "test_df = pd.read_csv(\"https://download.mlcc.google.com/mledu-datasets/california_housing_test.csv\")\n",
        "\n",
        "# Scale the labels\n",
        "scale_factor = 1000.0 #escalamos los datos en 1000, es decir seran m,il veces mas peque;os\n",
        "# Scale the training set's label.\n",
        "train_df[\"median_house_value\"] /= scale_factor\n",
        "\n",
        "# Scale the test set's label\n",
        "test_df[\"median_house_value\"] /= scale_factor\n",
        "\n",
        "# Shuffle the examples\n",
        "train_df = train_df.reindex(np.random.permutation(train_df.index))"
      ]
    },
    {
      "cell_type": "markdown",
      "metadata": {
        "id": "8kir8UTUXSV8"
      },
      "source": [
        "## Represent latitude and longitude as floating-point values\n",
        "\n",
        "Previous Colabs trained on only a single feature or a single synthetic feature. By contrast, this exercise trains on two features using **Input layers**.\n",
        "\n",
        "A neighborhood's location is typically the most important feature in determining a house's value. The California Housing dataset provides two features, `latitude` and `longitude` that identify each neighborhood's location.\n",
        "\n",
        "The following code cell defines two [`tf.keras.Input`](https://keras.io/api/layers/core_layers/input/) layers, one to represent `latitude` and another one to represent `longitude`, both as floating-point values.\n",
        "\n",
        "This code cell specifies the features that you'll ultimately train the model on and how each of those features will be represented.\n",
        "\n",
        "## Representar la latitud y longitud como valores de punto flotante\n",
        "\n",
        "Los Colabs anteriores se entrenaron solo con una característica o con una característica sintética única. En cambio, este ejercicio se entrena con dos características utilizando **capas de entrada** (**Input layers**).\n",
        "\n",
        "La ubicación de un vecindario suele ser la característica más importante para determinar el valor de una casa. El conjunto de datos de viviendas de California proporciona dos características, `latitude` y `longitude`, que identifican la ubicación de cada vecindario.\n",
        "\n",
        "La siguiente celda de código define dos capas [`tf.keras.Input`](https://keras.io/api/layers/core_layers/input/), una para representar `latitude` y otra para representar `longitude`, ambas como valores de punto flotante.\n",
        "\n",
        "Esta celda de código especifica las características con las que entrenarás finalmente el modelo y cómo se representará cada una de esas características.\n"
      ]
    },
    {
      "cell_type": "code",
      "execution_count": 64,
      "metadata": {
        "id": "3tmmZIDw4JEC"
      },
      "outputs": [],
      "source": [
        "# Keras Input tensors of float values.\n",
        "inputs = {\n",
        "    'latitude':\n",
        "        tf.keras.layers.Input(shape=(1,), dtype=tf.float32,\n",
        "                              name='latitude'),\n",
        "    'longitude':\n",
        "        tf.keras.layers.Input(shape=(1,), dtype=tf.float32,\n",
        "                              name='longitude')\n",
        "}"
      ]
    },
    {
      "cell_type": "markdown",
      "metadata": {
        "id": "3014ezH3C7jT"
      },
      "source": [
        "## Define functions that create and train a model, and a plotting function\n",
        "\n",
        "The following code defines three functions:\n",
        "\n",
        "  * `create_model`, which tells TensorFlow to build a linear regression model based on the inputs and outputs provided.\n",
        "  * `train_model`, which will ultimately train the model from training set examples.\n",
        "  * `plot_the_loss_curve`, which generates a loss curve.\n",
        "\n",
        "## Define funciones que crean y entrenan un modelo, y una función de visualización\n",
        "\n",
        "El siguiente código define tres funciones:\n",
        "\n",
        "  * `create_model`, que indica a TensorFlow que construya un modelo de regresión lineal basado en las entradas y salidas proporcionadas.\n",
        "  * `train_model`, que entrenará finalmente el modelo con ejemplos del conjunto de entrenamiento.\n",
        "  * `plot_the_loss_curve`, que genera una curva de pérdida."
      ]
    },
    {
      "cell_type": "code",
      "execution_count": 65,
      "metadata": {
        "id": "pedD5GhlDC-y"
      },
      "outputs": [
        {
          "name": "stdout",
          "output_type": "stream",
          "text": [
            "Defined the create_model, train_model, and plot_the_loss_curve functions.\n"
          ]
        }
      ],
      "source": [
        "#@title Define functions to create and train a model, and a plotting function\n",
        "def create_model(my_inputs, my_outputs, my_learning_rate):\n",
        "\n",
        "  model = tf.keras.Model(inputs=my_inputs, outputs=my_outputs)\n",
        "\n",
        "  # Construct the layers into a model that TensorFlow can execute.\n",
        "  model.compile(optimizer=tf.keras.optimizers.experimental.RMSprop(\n",
        "      learning_rate=my_learning_rate),\n",
        "      loss=\"mean_squared_error\",\n",
        "      metrics=[tf.keras.metrics.RootMeanSquaredError()])\n",
        "\n",
        "  return model\n",
        "\n",
        "\n",
        "def train_model(model, dataset, epochs, batch_size, label_name):\n",
        "  \"\"\"Feed a dataset into the model in order to train it.\"\"\"\n",
        "\n",
        "  features = {name:np.array(value) for name, value in dataset.items()}\n",
        "  label = np.array(features.pop(label_name))\n",
        "  history = model.fit(x=features, y=label, batch_size=batch_size,\n",
        "                      epochs=epochs, shuffle=True)\n",
        "\n",
        "  # The list of epochs is stored separately from the rest of history.\n",
        "  epochs = history.epoch\n",
        "\n",
        "  # Isolate the mean absolute error for each epoch.\n",
        "  hist = pd.DataFrame(history.history)\n",
        "  rmse = hist[\"root_mean_squared_error\"]\n",
        "\n",
        "  return epochs, rmse\n",
        "\n",
        "\n",
        "def plot_the_loss_curve(epochs, rmse):\n",
        "  \"\"\"Plot a curve of loss vs. epoch.\"\"\"\n",
        "\n",
        "  plt.figure()\n",
        "  plt.xlabel(\"Epoch\")\n",
        "  plt.ylabel(\"Root Mean Squared Error\")\n",
        "\n",
        "  plt.plot(epochs, rmse, label=\"Loss\")\n",
        "  plt.legend()\n",
        "  plt.ylim([rmse.min()*0.94, rmse.max()* 1.05])\n",
        "  plt.show()\n",
        "\n",
        "print(\"Defined the create_model, train_model, and plot_the_loss_curve functions.\")"
      ]
    },
    {
      "cell_type": "markdown",
      "metadata": {
        "id": "D-IXYVfvM4gD"
      },
      "source": [
        "## Train the model with floating-point representations\n",
        "\n",
        "The following code cell calls the functions you just created to train, plot, and evaluate a model.\n",
        "\n",
        "## Entrenar el modelo con representaciones de punto flotante\n",
        "\n",
        "La siguiente celda de código llama a las funciones que acabas de crear para entrenar, visualizar y evaluar un modelo."
      ]
    },
    {
      "cell_type": "code",
      "execution_count": 66,
      "metadata": {
        "cellView": "both",
        "id": "nj3v5EKQFY8s"
      },
      "outputs": [
        {
          "name": "stdout",
          "output_type": "stream",
          "text": [
            "Epoch 1/30\n"
          ]
        },
        {
          "name": "stderr",
          "output_type": "stream",
          "text": [
            "c:\\Users\\PERSONAL\\OneDrive\\Documentos\\PROGRAMACION GITHUB\\MACHINE LEARNING\\env\\lib\\site-packages\\keras\\src\\engine\\functional.py:642: UserWarning: Input dict contained keys ['housing_median_age', 'total_rooms', 'total_bedrooms', 'population', 'households', 'median_income'] which did not match any model input. They will be ignored by the model.\n",
            "  inputs = self._flatten_to_reference_inputs(inputs)\n"
          ]
        },
        {
          "name": "stdout",
          "output_type": "stream",
          "text": [
            "170/170 [==============================] - 0s 750us/step - loss: 14498.4521 - root_mean_squared_error: 120.4095\n",
            "Epoch 2/30\n",
            "170/170 [==============================] - 0s 868us/step - loss: 13440.6885 - root_mean_squared_error: 115.9340\n",
            "Epoch 3/30\n",
            "170/170 [==============================] - 0s 768us/step - loss: 13391.8027 - root_mean_squared_error: 115.7230\n",
            "Epoch 4/30\n",
            "170/170 [==============================] - 0s 863us/step - loss: 13358.1182 - root_mean_squared_error: 115.5773\n",
            "Epoch 5/30\n",
            "170/170 [==============================] - 0s 787us/step - loss: 13299.1260 - root_mean_squared_error: 115.3218\n",
            "Epoch 6/30\n",
            "170/170 [==============================] - 0s 837us/step - loss: 13276.0635 - root_mean_squared_error: 115.2218\n",
            "Epoch 7/30\n",
            "170/170 [==============================] - 0s 1ms/step - loss: 13239.3721 - root_mean_squared_error: 115.0625\n",
            "Epoch 8/30\n",
            "170/170 [==============================] - 0s 772us/step - loss: 13205.0264 - root_mean_squared_error: 114.9131\n",
            "Epoch 9/30\n",
            "170/170 [==============================] - 0s 863us/step - loss: 13178.4893 - root_mean_squared_error: 114.7976\n",
            "Epoch 10/30\n",
            "170/170 [==============================] - 0s 741us/step - loss: 13152.4561 - root_mean_squared_error: 114.6842\n",
            "Epoch 11/30\n",
            "170/170 [==============================] - 0s 782us/step - loss: 13112.1621 - root_mean_squared_error: 114.5083\n",
            "Epoch 12/30\n",
            "170/170 [==============================] - 0s 842us/step - loss: 13103.3779 - root_mean_squared_error: 114.4700\n",
            "Epoch 13/30\n",
            "170/170 [==============================] - 0s 742us/step - loss: 13058.3164 - root_mean_squared_error: 114.2730\n",
            "Epoch 14/30\n",
            "170/170 [==============================] - 0s 814us/step - loss: 13044.9316 - root_mean_squared_error: 114.2144\n",
            "Epoch 15/30\n",
            "170/170 [==============================] - 0s 717us/step - loss: 13021.8564 - root_mean_squared_error: 114.1133\n",
            "Epoch 16/30\n",
            "170/170 [==============================] - 0s 877us/step - loss: 13001.5137 - root_mean_squared_error: 114.0242\n",
            "Epoch 17/30\n",
            "170/170 [==============================] - 0s 763us/step - loss: 12985.5234 - root_mean_squared_error: 113.9540\n",
            "Epoch 18/30\n",
            "170/170 [==============================] - 0s 830us/step - loss: 12971.3770 - root_mean_squared_error: 113.8920\n",
            "Epoch 19/30\n",
            "170/170 [==============================] - 0s 849us/step - loss: 12940.0215 - root_mean_squared_error: 113.7542\n",
            "Epoch 20/30\n",
            "170/170 [==============================] - 0s 1ms/step - loss: 12940.7578 - root_mean_squared_error: 113.7574\n",
            "Epoch 21/30\n",
            "170/170 [==============================] - 0s 1ms/step - loss: 12910.5283 - root_mean_squared_error: 113.6245\n",
            "Epoch 22/30\n",
            "170/170 [==============================] - 0s 1ms/step - loss: 12913.5420 - root_mean_squared_error: 113.6378\n",
            "Epoch 23/30\n",
            "170/170 [==============================] - 0s 773us/step - loss: 12895.9648 - root_mean_squared_error: 113.5604\n",
            "Epoch 24/30\n",
            "170/170 [==============================] - 0s 862us/step - loss: 12875.3691 - root_mean_squared_error: 113.4697\n",
            "Epoch 25/30\n",
            "170/170 [==============================] - 0s 858us/step - loss: 12865.9131 - root_mean_squared_error: 113.4280\n",
            "Epoch 26/30\n",
            "170/170 [==============================] - 0s 874us/step - loss: 12876.1416 - root_mean_squared_error: 113.4731\n",
            "Epoch 27/30\n",
            "170/170 [==============================] - 0s 893us/step - loss: 12852.1357 - root_mean_squared_error: 113.3673\n",
            "Epoch 28/30\n",
            "170/170 [==============================] - 0s 892us/step - loss: 12845.6855 - root_mean_squared_error: 113.3388\n",
            "Epoch 29/30\n",
            "170/170 [==============================] - 0s 703us/step - loss: 12855.3193 - root_mean_squared_error: 113.3813\n",
            "Epoch 30/30\n",
            "170/170 [==============================] - 0s 740us/step - loss: 12816.6455 - root_mean_squared_error: 113.2106\n",
            "Model: \"model_19\"\n",
            "__________________________________________________________________________________________________\n",
            " Layer (type)                Output Shape                 Param #   Connected to                  \n",
            "==================================================================================================\n",
            " latitude (InputLayer)       [(None, 1)]                  0         []                            \n",
            "                                                                                                  \n",
            " longitude (InputLayer)      [(None, 1)]                  0         []                            \n",
            "                                                                                                  \n",
            " concatenate_10 (Concatenat  (None, 2)                    0         ['latitude[0][0]',            \n",
            " e)                                                                  'longitude[0][0]']           \n",
            "                                                                                                  \n",
            " dense_layer (Dense)         (None, 1)                    3         ['concatenate_10[0][0]']      \n",
            "                                                                                                  \n",
            "==================================================================================================\n",
            "Total params: 3 (12.00 Byte)\n",
            "Trainable params: 3 (12.00 Byte)\n",
            "Non-trainable params: 0 (0.00 Byte)\n",
            "__________________________________________________________________________________________________\n"
          ]
        },
        {
          "data": {
            "image/png": "[encoded data removed]",
            "text/plain": [
              "<Figure size 640x480 with 1 Axes>"
            ]
          },
          "metadata": {},
          "output_type": "display_data"
        },
        {
          "name": "stdout",
          "output_type": "stream",
          "text": [
            "\n",
            ": Evaluate the new model against the test set:\n",
            "30/30 [==============================] - 0s 766us/step - loss: 12164.0264 - root_mean_squared_error: 110.2906\n"
          ]
        },
        {
          "data": {
            "text/plain": [
              "[12164.0263671875, 110.29064178466797]"
            ]
          },
          "execution_count": 66,
          "metadata": {},
          "output_type": "execute_result"
        }
      ],
      "source": [
        "# The following variables are the hyperparameters.\n",
        "learning_rate = 0.05\n",
        "epochs = 30\n",
        "batch_size = 100\n",
        "label_name = 'median_house_value'\n",
        "\n",
        "# The two Input layers are concatenated so they can be passed as a single\n",
        "# tensor to a Dense layer.\n",
        "preprocessing_layer = tf.keras.layers.Concatenate()(inputs.values())\n",
        "\n",
        "dense_output = layers.Dense(units=1, name='dense_layer')(preprocessing_layer)\n",
        "\n",
        "outputs = {\n",
        "  'dense_output': dense_output\n",
        "}\n",
        "\n",
        "# Create and compile the model's topography.\n",
        "my_model = create_model(inputs, outputs, learning_rate)\n",
        "\n",
        "# To view a PNG of this model's layers, uncomment the call to\n",
        "# `tf.keras.utils.plot_model` below. After running this code cell, click\n",
        "# the file folder on the left, then the `my_model.png` file.\n",
        "# tf.keras.utils.plot_model(my_model, \"my_model.png\", show_shapes=True)\n",
        "\n",
        "# Train the model on the training set.\n",
        "epochs, rmse = train_model(my_model, train_df, epochs, batch_size, label_name)\n",
        "\n",
        "# Print out the model summary.\n",
        "my_model.summary(expand_nested=True)\n",
        "\n",
        "plot_the_loss_curve(epochs, rmse)\n",
        "\n",
        "print(\"\\n: Evaluate the new model against the test set:\")\n",
        "test_features = {name:np.array(value) for name, value in test_df.items()}\n",
        "test_label = np.array(test_features.pop(label_name))\n",
        "my_model.evaluate(x=test_features, y=test_label, batch_size=batch_size)"
      ]
    },
    {
      "cell_type": "markdown",
      "metadata": {
        "id": "dbyWNS6T2fIT"
      },
      "source": [
        "## Task 1: Why aren't floating-point values a good way to represent latitude and longitude?\n",
        "\n",
        "Are floating-point values a good way to represent `latitude` and `longitude`?\n",
        "\n",
        "## Tarea 1: ¿Por qué los valores de punto flotante no son una buena manera de representar la latitud y longitud?\n",
        "\n",
        "¿Son los valores de punto flotante una buena manera de representar `latitude` y `longitude`?"
      ]
    },
    {
      "cell_type": "code",
      "execution_count": 67,
      "metadata": {
        "cellView": "form",
        "id": "VJLDCu5M2hXX"
      },
      "outputs": [],
      "source": [
        "# No. Representing latitude and longitude as\n",
        "# floating-point values does not have much\n",
        "# predictive power. For example, neighborhoods at\n",
        "# latitude 35 are not 36/35 more valuable\n",
        "# (or 35/36 less valuable) than houses at\n",
        "# latitude 36.\n",
        "\n",
        "# Representing `latitude` and `longitude` as\n",
        "# floating-point values provides almost no\n",
        "# predictive power. We're only using the raw values\n",
        "# to establish a baseline for future experiments\n",
        "# with better representations.\n",
        "\n",
        "# No. Representar la latitud y longitud como valores de punto flotante no tiene mucha capacidad predictiva. \n",
        "# Por ejemplo, los vecindarios en la latitud 35 no son 36/35 más valiosos (o 35/36 menos valiosos) que las casas en la latitud 36.\n",
        "\n",
        "# Representar `latitude` y `longitude` como valores de punto flotante proporciona casi ninguna capacidad predictiva. \n",
        "# Solo estamos utilizando los valores sin procesar para establecer un punto de referencia para futuros experimentos con representaciones más efectivas."
      ]
    },
    {
      "cell_type": "markdown",
      "metadata": {
        "id": "Na8TPoPYx-0k"
      },
      "source": [
        "## Represent latitude and longitude in buckets\n",
        "\n",
        "The following code cell represents latitude and longitude in buckets (bins). Each bin represents all the neighborhoods within a single degree. For example,\n",
        "neighborhoods at latitude 35.4 and 35.8 are in the same bucket, but neighborhoods in latitude 35.4 and 36.2 are in different buckets.\n",
        "\n",
        "The model will learn a separate weight for each bucket. For example, the model will learn one weight for all the neighborhoods in the \"35\" bin, a different weight for neighborhoods in the \"36\" bin, and so on. This representation will create approximately 20 buckets:\n",
        "\n",
        "  * 10 buckets for `latitude`.\n",
        "  * 10 buckets for `longitude`.\n",
        "\n",
        "\n",
        "## Representar la latitud y longitud en intervalos\n",
        "\n",
        "La siguiente celda de código representa la latitud y longitud en intervalos (buckets o contenedores). Cada contenedor representa todos los vecindarios dentro de un solo grado. Por ejemplo, los vecindarios en la latitud 35.4 y 35.8 están en el mismo contenedor, pero los vecindarios en la latitud 35.4 y 36.2 están en contenedores diferentes.\n",
        "\n",
        "El modelo aprenderá un peso separado para cada contenedor. Por ejemplo, el modelo aprenderá un peso para todos los vecindarios en el contenedor \"35\", un peso diferente para los vecindarios en el contenedor \"36\", y así sucesivamente. Esta representación creará aproximadamente 20 contenedores:\n",
        "\n",
        "  * 10 contenedores para `latitude`.\n",
        "  * 10 contenedores para `longitude`."
      ]
    },
    {
      "cell_type": "code",
      "execution_count": 68,
      "metadata": {
        "id": "WLTUFiaUyIpx"
      },
      "outputs": [
        {
          "name": "stdout",
          "output_type": "stream",
          "text": [
            "latitude boundaries: [32.0, 33.0, 34.0, 35.0, 36.0, 37.0, 38.0, 39.0, 40.0]\n",
            "longitude boundaries: [-124.0, -123.0, -122.0, -121.0, -120.0, -119.0, -118.0, -117.0, -116.0, -115.0]\n"
          ]
        }
      ],
      "source": [
        "resolution_in_degrees = 1.0 #Configuración de Resolución:\n",
        "#Esta variable establece la resolución para discretizar los valores de latitud y longitud. Representa el tamaño de los intervalos o \"buckets\".\n",
        "\n",
        "# Create a list of numbers representing the bucket boundaries for latitude.\n",
        "latitude_boundaries = list(np.arange(int(min(train_df['latitude'])),\n",
        "                                     int(max(train_df['latitude'])),\n",
        "                                     resolution_in_degrees))\n",
        "print(\"latitude boundaries: \" + str(latitude_boundaries))\n",
        "#Esta línea genera una lista de límites de latitud basada en los valores mínimos y máximos de latitud en los datos de entrenamiento (train_df). \n",
        "# Utiliza NumPy para crear un array de valores con la resolución especificada, y luego lo convierte en una lista.\n",
        "\n",
        "# Create a Discretization layer to separate the latitude data into buckets.\n",
        "latitude = tf.keras.layers.Discretization(\n",
        "    bin_boundaries=latitude_boundaries,\n",
        "    name='discretization_latitude')(inputs.get('latitude'))\n",
        "\n",
        "# Number of categories is the length of latitude_boundaries plus one.\n",
        "latitude = tf.keras.layers.CategoryEncoding(\n",
        "    num_tokens=len(latitude_boundaries) + 1,\n",
        "    output_mode='one_hot',\n",
        "    name='category_encoding_latitude')(latitude)\n",
        "\n",
        "# Create a list of numbers representing the bucket boundaries for longitude.\n",
        "longitude_boundaries = list(np.arange(int(min(train_df['longitude'])),\n",
        "                                      int(max(train_df['longitude'])),\n",
        "                                      resolution_in_degrees))\n",
        "\n",
        "print(\"longitude boundaries: \" + str(longitude_boundaries))\n",
        "\n",
        "# Create a Discretization layer to separate the longitude data into buckets.\n",
        "longitude = tf.keras.layers.Discretization(\n",
        "    bin_boundaries=longitude_boundaries,\n",
        "    name='discretization_longitude')(inputs.get('longitude'))\n",
        "\n",
        "# Number of categories is the length of longitude_boundaries plus one.\n",
        "longitude = tf.keras.layers.CategoryEncoding(\n",
        "    num_tokens=len(longitude_boundaries) + 1,\n",
        "    output_mode='one_hot',\n",
        "    name='category_encoding_longitude')(longitude)\n",
        "\n",
        "# Concatenate latitude and longitude into a single tensor as input for the Dense layer.\n",
        "concatenate_layer = tf.keras.layers.Concatenate()([latitude, longitude])\n",
        "\n",
        "dense_output = layers.Dense(units=1, name='dense_layer')(concatenate_layer)\n",
        "\n",
        "# Define an output dictionary we'll send to the model constructor.\n",
        "outputs = {\n",
        "  'dense_output': dense_output\n",
        "}"
      ]
    },
    {
      "cell_type": "markdown",
      "metadata": {
        "id": "aZsFzoPQ4pFm"
      },
      "source": [
        "## Train the model with bucket representations\n",
        "\n",
        "Run the following code cell to train the model with bucket representations rather than floating-point representations:\n",
        "\n",
        "## Entrenar el modelo con representaciones por intervalos\n",
        "\n",
        "Ejecuta la siguiente celda de código para entrenar el modelo con representaciones por intervalos en lugar de representaciones de punto flotante:"
      ]
    },
    {
      "cell_type": "code",
      "execution_count": 69,
      "metadata": {
        "id": "UnDrghxBzLvD"
      },
      "outputs": [
        {
          "name": "stdout",
          "output_type": "stream",
          "text": [
            "Epoch 1/35\n",
            "170/170 [==============================] - 0s 799us/step - loss: 52121.5547 - root_mean_squared_error: 228.3015\n",
            "Epoch 2/35\n",
            "170/170 [==============================] - 0s 874us/step - loss: 44726.1875 - root_mean_squared_error: 211.4857\n",
            "Epoch 3/35\n",
            "170/170 [==============================] - 0s 713us/step - loss: 38119.4727 - root_mean_squared_error: 195.2421\n",
            "Epoch 4/35\n",
            "170/170 [==============================] - 0s 786us/step - loss: 32297.0625 - root_mean_squared_error: 179.7138\n",
            "Epoch 5/35\n",
            "170/170 [==============================] - 0s 714us/step - loss: 27279.1836 - root_mean_squared_error: 165.1641\n",
            "Epoch 6/35\n",
            "170/170 [==============================] - 0s 893us/step - loss: 23019.0391 - root_mean_squared_error: 151.7203\n",
            "Epoch 7/35\n",
            "170/170 [==============================] - 0s 876us/step - loss: 19523.5488 - root_mean_squared_error: 139.7267\n",
            "Epoch 8/35\n",
            "170/170 [==============================] - 0s 775us/step - loss: 16691.0957 - root_mean_squared_error: 129.1940\n",
            "Epoch 9/35\n",
            "170/170 [==============================] - 0s 851us/step - loss: 14541.7539 - root_mean_squared_error: 120.5892\n",
            "Epoch 10/35\n",
            "170/170 [==============================] - 0s 774us/step - loss: 12979.2627 - root_mean_squared_error: 113.9266\n",
            "Epoch 11/35\n",
            "170/170 [==============================] - 0s 822us/step - loss: 11931.5195 - root_mean_squared_error: 109.2315\n",
            "Epoch 12/35\n",
            "170/170 [==============================] - 0s 758us/step - loss: 11326.7988 - root_mean_squared_error: 106.4274\n",
            "Epoch 13/35\n",
            "170/170 [==============================] - 0s 889us/step - loss: 10985.9629 - root_mean_squared_error: 104.8139\n",
            "Epoch 14/35\n",
            "170/170 [==============================] - 0s 824us/step - loss: 10797.1396 - root_mean_squared_error: 103.9093\n",
            "Epoch 15/35\n",
            "170/170 [==============================] - 0s 873us/step - loss: 10675.9639 - root_mean_squared_error: 103.3246\n",
            "Epoch 16/35\n",
            "170/170 [==============================] - 0s 959us/step - loss: 10599.9385 - root_mean_squared_error: 102.9560\n",
            "Epoch 17/35\n",
            "170/170 [==============================] - 0s 809us/step - loss: 10550.5322 - root_mean_squared_error: 102.7158\n",
            "Epoch 18/35\n",
            "170/170 [==============================] - 0s 942us/step - loss: 10518.3877 - root_mean_squared_error: 102.5592\n",
            "Epoch 19/35\n",
            "170/170 [==============================] - 0s 830us/step - loss: 10494.2773 - root_mean_squared_error: 102.4416\n",
            "Epoch 20/35\n",
            "170/170 [==============================] - 0s 790us/step - loss: 10475.6465 - root_mean_squared_error: 102.3506\n",
            "Epoch 21/35\n",
            "170/170 [==============================] - 0s 960us/step - loss: 10461.0898 - root_mean_squared_error: 102.2795\n",
            "Epoch 22/35\n",
            "170/170 [==============================] - 0s 810us/step - loss: 10448.6104 - root_mean_squared_error: 102.2184\n",
            "Epoch 23/35\n",
            "170/170 [==============================] - 0s 859us/step - loss: 10436.8965 - root_mean_squared_error: 102.1611\n",
            "Epoch 24/35\n",
            "170/170 [==============================] - 0s 1ms/step - loss: 10426.1104 - root_mean_squared_error: 102.1083\n",
            "Epoch 25/35\n",
            "170/170 [==============================] - 0s 843us/step - loss: 10415.7129 - root_mean_squared_error: 102.0574\n",
            "Epoch 26/35\n",
            "170/170 [==============================] - 0s 865us/step - loss: 10406.7363 - root_mean_squared_error: 102.0134\n",
            "Epoch 27/35\n",
            "170/170 [==============================] - 0s 924us/step - loss: 10397.8975 - root_mean_squared_error: 101.9701\n",
            "Epoch 28/35\n",
            "170/170 [==============================] - 0s 795us/step - loss: 10389.2012 - root_mean_squared_error: 101.9274\n",
            "Epoch 29/35\n",
            "170/170 [==============================] - 0s 986us/step - loss: 10380.9990 - root_mean_squared_error: 101.8872\n",
            "Epoch 30/35\n",
            "170/170 [==============================] - 0s 805us/step - loss: 10373.4004 - root_mean_squared_error: 101.8499\n",
            "Epoch 31/35\n",
            "170/170 [==============================] - 0s 885us/step - loss: 10366.0137 - root_mean_squared_error: 101.8136\n",
            "Epoch 32/35\n",
            "170/170 [==============================] - 0s 842us/step - loss: 10359.3770 - root_mean_squared_error: 101.7810\n",
            "Epoch 33/35\n",
            "170/170 [==============================] - 0s 783us/step - loss: 10352.2852 - root_mean_squared_error: 101.7462\n",
            "Epoch 34/35\n",
            "170/170 [==============================] - 0s 842us/step - loss: 10345.6875 - root_mean_squared_error: 101.7138\n",
            "Epoch 35/35\n",
            "170/170 [==============================] - 0s 791us/step - loss: 10338.9482 - root_mean_squared_error: 101.6806\n",
            "Model: \"model_20\"\n",
            "__________________________________________________________________________________________________\n",
            " Layer (type)                Output Shape                 Param #   Connected to                  \n",
            "==================================================================================================\n",
            " latitude (InputLayer)       [(None, 1)]                  0         []                            \n",
            "                                                                                                  \n",
            " longitude (InputLayer)      [(None, 1)]                  0         []                            \n",
            "                                                                                                  \n",
            " discretization_latitude (D  (None, 1)                    0         ['latitude[0][0]']            \n",
            " iscretization)                                                                                   \n",
            "                                                                                                  \n",
            " discretization_longitude (  (None, 1)                    0         ['longitude[0][0]']           \n",
            " Discretization)                                                                                  \n",
            "                                                                                                  \n",
            " category_encoding_latitude  (None, 10)                   0         ['discretization_latitude[0][0\n",
            "  (CategoryEncoding)                                                ]']                           \n",
            "                                                                                                  \n",
            " category_encoding_longitud  (None, 11)                   0         ['discretization_longitude[0][\n",
            " e (CategoryEncoding)                                               0]']                          \n",
            "                                                                                                  \n",
            " concatenate_11 (Concatenat  (None, 21)                   0         ['category_encoding_latitude[0\n",
            " e)                                                                 ][0]',                        \n",
            "                                                                     'category_encoding_longitude[\n",
            "                                                                    0][0]']                       \n",
            "                                                                                                  \n",
            " dense_layer (Dense)         (None, 1)                    22        ['concatenate_11[0][0]']      \n",
            "                                                                                                  \n",
            "==================================================================================================\n",
            "Total params: 22 (88.00 Byte)\n",
            "Trainable params: 22 (88.00 Byte)\n",
            "Non-trainable params: 0 (0.00 Byte)\n",
            "__________________________________________________________________________________________________\n"
          ]
        },
        {
          "data": {
            "image/png": "[encoded data removed]",
            "text/plain": [
              "<Figure size 640x480 with 1 Axes>"
            ]
          },
          "metadata": {},
          "output_type": "display_data"
        },
        {
          "name": "stdout",
          "output_type": "stream",
          "text": [
            "\n",
            ": Evaluate the new model against the test set:\n",
            "30/30 [==============================] - 0s 1ms/step - loss: 10197.4824 - root_mean_squared_error: 100.9826\n"
          ]
        },
        {
          "data": {
            "text/plain": [
              "[10197.482421875, 100.98259735107422]"
            ]
          },
          "execution_count": 69,
          "metadata": {},
          "output_type": "execute_result"
        }
      ],
      "source": [
        "# The following variables are the hyperparameters.\n",
        "learning_rate = 0.04\n",
        "epochs = 35\n",
        "\n",
        "# Build the model.\n",
        "my_model = create_model(inputs, outputs, learning_rate)\n",
        "\n",
        "# Train the model on the training set.\n",
        "epochs, rmse = train_model(my_model, train_df, epochs, batch_size, label_name)\n",
        "\n",
        "# Print out the model summary.\n",
        "my_model.summary(expand_nested=True)\n",
        "\n",
        "plot_the_loss_curve(epochs, rmse)\n",
        "\n",
        "print(\"\\n: Evaluate the new model against the test set:\")\n",
        "my_model.evaluate(x=test_features, y=test_label, batch_size=batch_size)"
      ]
    },
    {
      "cell_type": "markdown",
      "metadata": {
        "id": "Wb-bIKsN5M48"
      },
      "source": [
        "## Task 2: Did buckets outperform floating-point representations?\n",
        "\n",
        "Compare the model's `root_mean_squared_error` values for the two representations (floating-point vs. buckets)?  Which model produced lower losses?\n",
        "\n",
        "## Tarea 2: ¿Superaron los buckets a las representaciones de punto flotante?\n",
        "\n",
        "Compara los valores de `root_mean_squared_error` del modelo para las dos representaciones (punto flotante frente a buckets). ¿Qué modelo produjo pérdidas más bajas?"
      ]
    },
    {
      "cell_type": "code",
      "execution_count": 70,
      "metadata": {
        "cellView": "form",
        "id": "6sUlX1335UCb"
      },
      "outputs": [],
      "source": [
        "\n",
        "# Bucket representation outperformed\n",
        "# floating-point representations.\n",
        "# However, you can still do far better.\n",
        "\n",
        "# La representación mediante buckets superó\n",
        "# a las representaciones de punto flotante.\n",
        "# Sin embargo, aún se puede mejorar significativamente."
      ]
    },
    {
      "cell_type": "markdown",
      "metadata": {
        "id": "ab6-bhUvxbTL"
      },
      "source": [
        "## Task 3: What is a better way to represent location?\n",
        "\n",
        "Buckets are a big improvement over floating-point values. Can you identify an even better way to identify location with `latitude` and `longitude`?\n",
        "\n",
        "\n",
        "## Tarea 3: ¿Cuál es una forma mejor de representar la ubicación?\n",
        "\n",
        "Los buckets representan una mejora significativa sobre los valores de punto flotante. ¿Puedes identificar una forma aún mejor de representar la ubicación con `latitud` y `longitud`?"
      ]
    },
    {
      "cell_type": "code",
      "execution_count": 71,
      "metadata": {
        "cellView": "form",
        "id": "5no5X0OFCwf7"
      },
      "outputs": [],
      "source": [
        "# Representing location as a feature cross should\n",
        "# produce better results.\n",
        "\n",
        "# In Task 2, you represented latitude in\n",
        "# one-dimensional buckets and longitude in\n",
        "# another series of one-dimensional buckets.\n",
        "# Real-world locations, however, exist in\n",
        "# two dimensions. Therefore, you should\n",
        "# represent location as a two-dimensional feature\n",
        "# cross. That is, you'll cross the 10 or so latitude\n",
        "# buckets with the 10 or so longitude buckets to\n",
        "# create a grid of 100 cells.\n",
        "\n",
        "# The model will learn separate weights for each\n",
        "# of the cells.\n",
        "\n",
        "\n",
        "# Representar la ubicación como un cruce de características debería\n",
        "# producir mejores resultados.\n",
        "\n",
        "# En la Tarea 2, representaste la latitud en\n",
        "# buckets unidimensionales y la longitud en\n",
        "# otra serie de buckets unidimensionales.\n",
        "# Sin embargo, las ubicaciones del mundo real existen en\n",
        "# dos dimensiones. Por lo tanto, deberías\n",
        "# representar la ubicación como un cruce de características bidimensional.\n",
        "# Es decir, cruzarás los 10 o más buckets de latitud con los\n",
        "# 10 o más buckets de longitud para crear una cuadrícula de 100 celdas.\n",
        "\n",
        "# El modelo aprenderá pesos separados para cada\n",
        "# de las celdas."
      ]
    },
    {
      "cell_type": "markdown",
      "metadata": {
        "id": "T1ulCDiyGB6g"
      },
      "source": [
        "## Represent location as a feature cross\n",
        "\n",
        "The following code cell represents location as a feature cross. That is, the following code cell first creates buckets and then crosses the latitude and longitude features using a `HashedCrossing` layer.\n",
        "\n"
      ]
    },
    {
      "cell_type": "code",
      "execution_count": 72,
      "metadata": {
        "cellView": "both",
        "id": "HunsuEzqn21s"
      },
      "outputs": [],
      "source": [
        "resolution_in_degrees = 0.4 # ajutamos este valor\n",
        "#probando vemos que ajsutando el 0.4 es la mejor opcion!\n",
        "\n",
        "# Create a list of numbers representing the bucket boundaries for latitude.\n",
        "latitude_boundaries = list(np.arange(int(min(train_df['latitude'])),\n",
        "                                     int(max(train_df['latitude'])),\n",
        "                                     resolution_in_degrees))\n",
        "\n",
        "# Create a Discretization layer to separate the latitude data into buckets.\n",
        "latitude = tf.keras.layers.Discretization(\n",
        "    bin_boundaries=latitude_boundaries,\n",
        "    name='discretization_latitude')(inputs.get('latitude'))\n",
        "\n",
        "# Create a list of numbers representing the bucket boundaries for longitude.\n",
        "longitude_boundaries = list(np.arange(int(min(train_df['longitude'])),\n",
        "                                      int(max(train_df['longitude'])),\n",
        "                                      resolution_in_degrees))\n",
        "\n",
        "# Create a Discretization layer to separate the longitude data into buckets.\n",
        "longitude = tf.keras.layers.Discretization(\n",
        "    bin_boundaries=longitude_boundaries,\n",
        "    name='discretization_longitude')(inputs.get('longitude'))\n",
        "\n",
        "# Cross the latitude and longitude features into a single one-hot vector.\n",
        "feature_cross = tf.keras.layers.HashedCrossing(\n",
        "    num_bins=len(latitude_boundaries) * len(longitude_boundaries),\n",
        "    output_mode='one_hot',\n",
        "    name='cross_latitude_longitude')([latitude, longitude])\n",
        "\n",
        "dense_output = layers.Dense(units=1, name='dense_layer')(feature_cross)\n",
        "\n",
        "# Define an output dictionary we'll send to the model constructor.\n",
        "outputs = {\n",
        "  'dense_output': dense_output\n",
        "}"
      ]
    },
    {
      "cell_type": "markdown",
      "metadata": {
        "id": "akRgNnnH3VXJ"
      },
      "source": [
        "Invoke the following code cell to test your solution for Task 3. Please ignore the warning messages.\n",
        "Invoca la siguiente celda de código para probar tu solución para la Tarea 3. Por favor, ignora los mensajes de advertencia."
      ]
    },
    {
      "cell_type": "code",
      "execution_count": 73,
      "metadata": {
        "id": "qn2PRDBEr5ni"
      },
      "outputs": [
        {
          "name": "stdout",
          "output_type": "stream",
          "text": [
            "Epoch 1/35\n",
            "170/170 [==============================] - 0s 932us/step - loss: 53722.4844 - root_mean_squared_error: 231.7811\n",
            "Epoch 2/35\n",
            "170/170 [==============================] - 0s 945us/step - loss: 48967.0938 - root_mean_squared_error: 221.2851\n",
            "Epoch 3/35\n",
            "170/170 [==============================] - 0s 856us/step - loss: 44510.7461 - root_mean_squared_error: 210.9757\n",
            "Epoch 4/35\n",
            "170/170 [==============================] - 0s 952us/step - loss: 40368.7695 - root_mean_squared_error: 200.9198\n",
            "Epoch 5/35\n",
            "170/170 [==============================] - 0s 939us/step - loss: 36502.5234 - root_mean_squared_error: 191.0563\n",
            "Epoch 6/35\n",
            "170/170 [==============================] - 0s 920us/step - loss: 32924.8555 - root_mean_squared_error: 181.4521\n",
            "Epoch 7/35\n",
            "170/170 [==============================] - 0s 944us/step - loss: 29660.2148 - root_mean_squared_error: 172.2214\n",
            "Epoch 8/35\n",
            "170/170 [==============================] - 0s 847us/step - loss: 26694.0117 - root_mean_squared_error: 163.3830\n",
            "Epoch 9/35\n",
            "170/170 [==============================] - 0s 956us/step - loss: 23971.9375 - root_mean_squared_error: 154.8287\n",
            "Epoch 10/35\n",
            "170/170 [==============================] - 0s 1ms/step - loss: 21552.5508 - root_mean_squared_error: 146.8079\n",
            "Epoch 11/35\n",
            "170/170 [==============================] - 0s 986us/step - loss: 19385.6230 - root_mean_squared_error: 139.2323\n",
            "Epoch 12/35\n",
            "170/170 [==============================] - 0s 916us/step - loss: 17482.6191 - root_mean_squared_error: 132.2219\n",
            "Epoch 13/35\n",
            "170/170 [==============================] - 0s 991us/step - loss: 15810.0391 - root_mean_squared_error: 125.7380\n",
            "Epoch 14/35\n",
            "170/170 [==============================] - 0s 1ms/step - loss: 14379.5273 - root_mean_squared_error: 119.9147\n",
            "Epoch 15/35\n",
            "170/170 [==============================] - 0s 894us/step - loss: 13181.9824 - root_mean_squared_error: 114.8128\n",
            "Epoch 16/35\n",
            "170/170 [==============================] - 0s 975us/step - loss: 12174.8623 - root_mean_squared_error: 110.3398\n",
            "Epoch 17/35\n",
            "170/170 [==============================] - 0s 1ms/step - loss: 11356.7246 - root_mean_squared_error: 106.5679\n",
            "Epoch 18/35\n",
            "170/170 [==============================] - 0s 893us/step - loss: 10715.8604 - root_mean_squared_error: 103.5174\n",
            "Epoch 19/35\n",
            "170/170 [==============================] - 0s 1ms/step - loss: 10205.3984 - root_mean_squared_error: 101.0218\n",
            "Epoch 20/35\n",
            "170/170 [==============================] - 0s 972us/step - loss: 9809.5576 - root_mean_squared_error: 99.0432\n",
            "Epoch 21/35\n",
            "170/170 [==============================] - 0s 984us/step - loss: 9506.0762 - root_mean_squared_error: 97.4991\n",
            "Epoch 22/35\n",
            "170/170 [==============================] - 0s 871us/step - loss: 9263.4619 - root_mean_squared_error: 96.2469\n",
            "Epoch 23/35\n",
            "170/170 [==============================] - 0s 938us/step - loss: 9052.0010 - root_mean_squared_error: 95.1420\n",
            "Epoch 24/35\n",
            "170/170 [==============================] - 0s 964us/step - loss: 8869.4443 - root_mean_squared_error: 94.1777\n",
            "Epoch 25/35\n",
            "170/170 [==============================] - 0s 983us/step - loss: 8707.4600 - root_mean_squared_error: 93.3138\n",
            "Epoch 26/35\n",
            "170/170 [==============================] - 0s 934us/step - loss: 8562.1533 - root_mean_squared_error: 92.5319\n",
            "Epoch 27/35\n",
            "170/170 [==============================] - 0s 918us/step - loss: 8430.2119 - root_mean_squared_error: 91.8162\n",
            "Epoch 28/35\n",
            "170/170 [==============================] - 0s 930us/step - loss: 8313.6191 - root_mean_squared_error: 91.1790\n",
            "Epoch 29/35\n",
            "170/170 [==============================] - 0s 880us/step - loss: 8211.4688 - root_mean_squared_error: 90.6172\n",
            "Epoch 30/35\n",
            "170/170 [==============================] - 0s 940us/step - loss: 8118.6758 - root_mean_squared_error: 90.1037\n",
            "Epoch 31/35\n",
            "170/170 [==============================] - 0s 948us/step - loss: 8037.6753 - root_mean_squared_error: 89.6531\n",
            "Epoch 32/35\n",
            "170/170 [==============================] - 0s 957us/step - loss: 7964.3979 - root_mean_squared_error: 89.2435\n",
            "Epoch 33/35\n",
            "170/170 [==============================] - 0s 891us/step - loss: 7899.3555 - root_mean_squared_error: 88.8783\n",
            "Epoch 34/35\n",
            "170/170 [==============================] - 0s 882us/step - loss: 7842.8794 - root_mean_squared_error: 88.5600\n",
            "Epoch 35/35\n",
            "170/170 [==============================] - 0s 948us/step - loss: 7793.1553 - root_mean_squared_error: 88.2788\n",
            "Model: \"model_21\"\n",
            "__________________________________________________________________________________________________\n",
            " Layer (type)                Output Shape                 Param #   Connected to                  \n",
            "==================================================================================================\n",
            " latitude (InputLayer)       [(None, 1)]                  0         []                            \n",
            "                                                                                                  \n",
            " longitude (InputLayer)      [(None, 1)]                  0         []                            \n",
            "                                                                                                  \n",
            " discretization_latitude (D  (None, 1)                    0         ['latitude[0][0]']            \n",
            " iscretization)                                                                                   \n",
            "                                                                                                  \n",
            " discretization_longitude (  (None, 1)                    0         ['longitude[0][0]']           \n",
            " Discretization)                                                                                  \n",
            "                                                                                                  \n",
            " cross_latitude_longitude (  (None, 575)                  0         ['discretization_latitude[0][0\n",
            " HashedCrossing)                                                    ]',                           \n",
            "                                                                     'discretization_longitude[0][\n",
            "                                                                    0]']                          \n",
            "                                                                                                  \n",
            " dense_layer (Dense)         (None, 1)                    576       ['cross_latitude_longitude[0][\n",
            "                                                                    0]']                          \n",
            "                                                                                                  \n",
            "==================================================================================================\n",
            "Total params: 576 (2.25 KB)\n",
            "Trainable params: 576 (2.25 KB)\n",
            "Non-trainable params: 0 (0.00 Byte)\n",
            "__________________________________________________________________________________________________\n"
          ]
        },
        {
          "data": {
            "image/png": "[encoded data removed]",
            "text/plain": [
              "<Figure size 640x480 with 1 Axes>"
            ]
          },
          "metadata": {},
          "output_type": "display_data"
        },
        {
          "name": "stdout",
          "output_type": "stream",
          "text": [
            "\n",
            ": Evaluate the new model against the test set:\n",
            "30/30 [==============================] - 0s 970us/step - loss: 7855.3521 - root_mean_squared_error: 88.6304\n"
          ]
        },
        {
          "data": {
            "text/plain": [
              "[7855.35205078125, 88.63042449951172]"
            ]
          },
          "execution_count": 73,
          "metadata": {},
          "output_type": "execute_result"
        }
      ],
      "source": [
        "# The following variables are the hyperparameters.\n",
        "learning_rate = 0.04\n",
        "epochs = 35\n",
        "\n",
        "# Build the model, this time passing in the feature_cross_feature_layer:\n",
        "my_model = create_model(inputs, outputs, learning_rate)\n",
        "\n",
        "# Train the model on the training set.\n",
        "epochs, rmse = train_model(my_model, train_df, epochs, batch_size, label_name)\n",
        "\n",
        "# Print out the model summary.\n",
        "my_model.summary(expand_nested=True)\n",
        "\n",
        "plot_the_loss_curve(epochs, rmse)\n",
        "\n",
        "print(\"\\n: Evaluate the new model against the test set:\")\n",
        "my_model.evaluate(x=test_features, y=test_label, batch_size=batch_size)"
      ]
    },
    {
      "cell_type": "markdown",
      "metadata": {
        "id": "bCT-l1GaWNQE"
      },
      "source": [
        "## Task 4: Did the feature cross outperform buckets?\n",
        "\n",
        "Compare the model's `root_mean_squared_error` values for the two representations (buckets vs. feature cross)?  Which model produced\n",
        "lower losses?\n",
        "\n",
        "\n",
        "## Tarea 4: ¿Superó el cruce de características a los buckets?\n",
        "\n",
        "Compara los valores de `root_mean_squared_error` del modelo para las dos representaciones (buckets frente a cruce de características). ¿Qué modelo produjo pérdidas más bajas?"
      ]
    },
    {
      "cell_type": "code",
      "execution_count": 74,
      "metadata": {
        "cellView": "form",
        "id": "HUzdWDcs5rCi"
      },
      "outputs": [],
      "source": [
        "# Yes, representing these features as a feature\n",
        "# cross produced much lower loss values than\n",
        "# representing these features as buckets\n",
        "\n",
        "# Sí, representar estas características como un cruce de características produjo valores de pérdida mucho más bajos que representar estas características como buckets."
      ]
    },
    {
      "cell_type": "markdown",
      "metadata": {
        "id": "J9Iw3ljfXqSQ"
      },
      "source": [
        "## Task 5: Adjust the resolution of the feature cross\n",
        "\n",
        "Return to the code cell in the \"Represent location as a feature cross\" section. Notice that `resolution_in_degrees` is set to 1.0. Therefore, each cell represents an area of 1.0 degree of latitude by 1.0 degree of longitude, which corresponds to a cell of 110 km by 90 km.  This resolution defines a rather large neighborhood.\n",
        "\n",
        "Experiment with `resolution_in_degrees` to answer the following questions:\n",
        "\n",
        "  1. What value of `resolution_in_degrees` produces the best results (lowest loss value)?\n",
        "  2. Why does loss increase when the value of `resolution_in_degrees` drops below a certain value?\n",
        "\n",
        "Finally, answer the following question:\n",
        "\n",
        "  3. What feature (that does not exist in the California Housing Dataset) would\n",
        "     be a better proxy for location than latitude X longitude.\n",
        "\n",
        "\n",
        "## Tarea 5: Ajusta la resolución del cruce de características\n",
        "\n",
        "Regresa a la celda de código en la sección \"Representar la ubicación como un cruce de características\". Observa que `resolution_in_degrees` está establecido en 1.0. Por lo tanto, cada celda representa un área de 1.0 grado de latitud por 1.0 grado de longitud, lo que corresponde a una celda de 110 km por 90 km. Esta resolución define un vecindario bastante grande.\n",
        "\n",
        "Experimenta con `resolution_in_degrees` para responder las siguientes preguntas:\n",
        "\n",
        "  1. ¿Qué valor de `resolution_in_degrees` produce los mejores resultados (valor de pérdida más bajo)?\n",
        "  2. ¿Por qué la pérdida aumenta cuando el valor de `resolution_in_degrees` baja por debajo de cierto valor?\n",
        "\n",
        "Finalmente, responde a la siguiente pregunta:\n",
        "\n",
        "  3. ¿Qué característica (que no existe en el conjunto de datos de viviendas de California) sería un mejor proxy para la ubicación que latitud x longitud?"
      ]
    },
    {
      "cell_type": "code",
      "execution_count": 75,
      "metadata": {
        "cellView": "form",
        "id": "71WWwlhx4h0X"
      },
      "outputs": [],
      "source": [
        "#1. A resolution of ~0.4 degree provides the best\n",
        "#   results.\n",
        "\n",
        "#2. Below ~0.4 degree, loss increases because the\n",
        "#   dataset does not contain enough examples in\n",
        "#   each cell to accurately predict prices for\n",
        "#   those cells.\n",
        "\n",
        "#3. Postal code would be a far better feature\n",
        "#   than latitude X longitude, assuming that\n",
        "#   the dataset contained sufficient examples\n",
        "#   in each postal code.\n",
        "\n",
        "\n",
        "#1. Una resolución de aproximadamente 0.4 grados proporciona los mejores resultados.\n",
        "\n",
        "#2. Por debajo de ~0.4 grados, la pérdida aumenta porque el conjunto de datos no contiene suficientes ejemplos en cada celda para predecir con precisión los precios para esas celdas.\n",
        "\n",
        "#3. El código postal sería una característica mucho mejor que la latitud x longitud, siempre y cuando el conjunto de datos contenga suficientes ejemplos en cada código postal."
      ]
    }
  ],
  "metadata": {
    "colab": {
      "name": "Representation with a Feature Cross.ipynb",
      "private_outputs": true,
      "provenance": []
    },
    "kernelspec": {
      "display_name": "Python 3",
      "name": "python3"
    },
    "language_info": {
      "codemirror_mode": {
        "name": "ipython",
        "version": 3
      },
      "file_extension": ".py",
      "mimetype": "text/x-python",
      "name": "python",
      "nbconvert_exporter": "python",
      "pygments_lexer": "ipython3",
      "version": "3.9.13"
    }
  },
  "nbformat": 4,
  "nbformat_minor": 0
}
