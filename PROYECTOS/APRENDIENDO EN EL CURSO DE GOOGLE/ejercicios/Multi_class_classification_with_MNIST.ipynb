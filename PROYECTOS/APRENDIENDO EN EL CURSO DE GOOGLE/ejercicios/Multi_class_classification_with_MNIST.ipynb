{
  "cells": [
    {
      "cell_type": "markdown",
      "metadata": {
        "id": "T4r2z30vJSbA"
      },
      "source": [
        "# Colabs\n",
        "\n",
        "Machine Learning Crash Course uses Colaboratories (Colabs) for all programming exercises. Colab is Google's implementation of [Jupyter Notebook](https://jupyter.org/). For more information about Colabs and how to use them, go to [Welcome to Colaboratory](https://research.google.com/colaboratory)."
      ]
    },
    {
      "cell_type": "markdown",
      "metadata": {
        "id": "TL5y5fY9Jy_x"
      },
      "source": [
        "# Multi-Class Classification\n",
        "\n",
        "This Colab explores multi-class classification problems through the classic MNIST dataset.\n",
        "\n",
        "# Clasificación Multi-Clase\n",
        "\n",
        "Este Colab explora problemas de clasificación multi-clase a través del clásico conjunto de datos MNIST."
      ]
    },
    {
      "cell_type": "markdown",
      "metadata": {
        "id": "XuKlphuImFSN"
      },
      "source": [
        "## Learning Objectives:\n",
        "\n",
        "After doing this Colab, you'll know how to do the following:\n",
        "\n",
        "  * Understand the classic MNIST problem.\n",
        "  * Create a deep neural network that performs multi-class classification.\n",
        "  * Tune the deep neural network.\n",
        "\n",
        "This exercise introduces image classification with machine learning.\n",
        "\n",
        "## Objetivos de Aprendizaje:\n",
        "\n",
        "Después de realizar este Colab, sabrás cómo hacer lo siguiente:\n",
        "\n",
        "  * Comprender el problema clásico de MNIST.\n",
        "  * Crear una red neuronal profunda que realice clasificación multi-clase.\n",
        "  * Ajustar la red neuronal profunda.\n",
        "\n",
        "Este ejercicio introduce la clasificación de imágenes con aprendizaje automático."
      ]
    },
    {
      "cell_type": "markdown",
      "metadata": {
        "id": "cxj8yVh4mFl5"
      },
      "source": [
        "## The Dataset\n",
        "  \n",
        "This MNIST dataset contains a lot of examples:\n",
        "\n",
        "* The MNIST training set contains 60,000 examples.\n",
        "* The MNIST test set contains 10,000 examples.\n",
        "\n",
        "Each example contains a pixel map showing how a person wrote a digit. For example, the following images shows how a person wrote the digit `1` and how that digit might be represented in a 14x14 pixel map (after the input data is normalized).\n",
        "\n",
        "![Two images. The first image shows a somewhat fuzzy digit one. The second image shows a 14x14 floating-point array in which most of the cells contain 0 but a few cells contain values between 0.0 and 1.0. The pattern of nonzero values corresponds to the image of the fuzzy digit in the first image.](https://www.tensorflow.org/images/MNIST-Matrix.png)\n",
        "\n",
        "Each example in the MNIST dataset consists of:\n",
        "\n",
        "* A label specified by a [rater](https://developers.google.com/machine-learning/glossary/#rater).  Each label must be an integer from 0 to 9.  For example, in the preceding image, the rater would almost certainly assign the label `1` to the example.\n",
        "* A 28x28 pixel map, where each pixel is an integer between 0 and 255. The pixel values are on a gray scale in which 0 represents white, 255 represents black, and values between 0 and 255 represent various shades of gray.  \n",
        "\n",
        "This is a multi-class classification problem with 10 output classes, one for each digit.\n",
        "\n",
        "\n",
        "\n",
        "## El Conjunto de Datos\n",
        "\n",
        "Este conjunto de datos MNIST contiene una gran cantidad de ejemplos:\n",
        "\n",
        "* El conjunto de entrenamiento de MNIST contiene 60,000 ejemplos.\n",
        "* El conjunto de prueba de MNIST contiene 10,000 ejemplos.\n",
        "\n",
        "Cada ejemplo contiene un mapa de píxeles que muestra cómo una persona escribió un dígito. Por ejemplo, las siguientes imágenes muestran cómo una persona escribió el dígito `1` y cómo ese dígito podría representarse en un mapa de píxeles de 14x14 (después de que los datos de entrada se normalizan).\n",
        "\n",
        "![Dos imágenes. La primera imagen muestra un dígito uno algo borroso. La segunda imagen muestra una matriz de punto flotante de 14x14 en la que la mayoría de las celdas contienen 0 pero algunas celdas contienen valores entre 0.0 y 1.0. El patrón de valores no nulos corresponde a la imagen del dígito borroso en la primera imagen.](https://www.tensorflow.org/images/MNIST-Matrix.png)\n",
        "\n",
        "Cada ejemplo en el conjunto de datos MNIST consta de:\n",
        "\n",
        "* Una etiqueta especificada por un [evaluador](https://developers.google.com/machine-learning/glossary/#rater). Cada etiqueta debe ser un entero del 0 al 9. Por ejemplo, en la imagen anterior, el evaluador asignaría casi con seguridad la etiqueta `1` al ejemplo.\n",
        "* Un mapa de píxeles de 28x28, donde cada píxel es un entero entre 0 y 255. Los valores de los píxeles están en una escala de grises en la que 0 representa blanco, 255 representa negro y los valores entre 0 y 255 representan varios tonos de gris.\n",
        "\n",
        "Este es un problema de clasificación multi-clase con 10 clases de salida, una para cada dígito."
      ]
    },
    {
      "cell_type": "markdown",
      "metadata": {
        "id": "xchnxAsaKKqO"
      },
      "source": [
        "## Import relevant modules\n",
        "\n",
        "The following hidden code cell imports the necessary code to run the code in the rest of this Colaboratory.\n",
        "\n",
        "## Importar módulos relevantes\n",
        "\n",
        "La siguiente celda de código oculta importa el código necesario para ejecutar el resto de este Colaboratory."
      ]
    },
    {
      "cell_type": "code",
      "execution_count": 1,
      "metadata": {
        "cellView": "form",
        "id": "9n9_cTveKmse"
      },
      "outputs": [
        {
          "name": "stderr",
          "output_type": "stream",
          "text": [
            "C:\\Users\\PERSONAL\\AppData\\Local\\Temp\\ipykernel_3424\\3005702027.py:3: DeprecationWarning: \n",
            "Pyarrow will become a required dependency of pandas in the next major release of pandas (pandas 3.0),\n",
            "(to allow more performant data types, such as the Arrow string type, and better interoperability with other libraries)\n",
            "but was not found to be installed on your system.\n",
            "If this would cause problems for you,\n",
            "please provide us feedback at https://github.com/pandas-dev/pandas/issues/54466\n",
            "        \n",
            "  import pandas as pd\n"
          ]
        },
        {
          "name": "stdout",
          "output_type": "stream",
          "text": [
            "WARNING:tensorflow:From c:\\Users\\PERSONAL\\OneDrive\\Documentos\\PROGRAMACION GITHUB\\MACHINE LEARNING\\env\\lib\\site-packages\\keras\\src\\losses.py:2976: The name tf.losses.sparse_softmax_cross_entropy is deprecated. Please use tf.compat.v1.losses.sparse_softmax_cross_entropy instead.\n",
            "\n"
          ]
        }
      ],
      "source": [
        "#@title Import relevant modules\n",
        "import numpy as np\n",
        "import pandas as pd\n",
        "import tensorflow as tf\n",
        "from tensorflow.keras import layers\n",
        "from matplotlib import pyplot as plt\n",
        "\n",
        "# The following lines adjust the granularity of reporting.\n",
        "pd.options.display.max_rows = 10\n",
        "pd.options.display.float_format = \"{:.1f}\".format\n",
        "\n",
        "# The following line improves formatting when ouputting NumPy arrays.\n",
        "np.set_printoptions(linewidth = 200)"
      ]
    },
    {
      "cell_type": "markdown",
      "metadata": {
        "id": "X_TaJhU4KcuY"
      },
      "source": [
        "## Load the dataset\n",
        "\n",
        "`tf.keras` provides a set of convenience functions for loading well-known datasets. Each of these convenience functions does the following:\n",
        "\n",
        "* Loads both the training set and the test set.\n",
        "* Separates each set into features and labels.\n",
        "\n",
        "The relevant convenience function for MNIST is called `mnist.load_data()`:\n",
        "\n",
        "\n",
        "## Cargar el conjunto de datos\n",
        "\n",
        "`tf.keras` proporciona un conjunto de funciones de conveniencia para cargar conjuntos de datos bien conocidos. Cada una de estas funciones de conveniencia realiza las siguientes acciones:\n",
        "\n",
        "* Carga tanto el conjunto de entrenamiento como el conjunto de prueba.\n",
        "* Separa cada conjunto en características y etiquetas.\n",
        "\n",
        "La función de conveniencia relevante para MNIST se llama `mnist.load_data()`:"
      ]
    },
    {
      "cell_type": "code",
      "execution_count": 2,
      "metadata": {
        "id": "JZlvdpyYKx7V"
      },
      "outputs": [
        {
          "name": "stdout",
          "output_type": "stream",
          "text": [
            "Downloading data from https://storage.googleapis.com/tensorflow/tf-keras-datasets/mnist.npz\n",
            "11490434/11490434 [==============================] - 1s 0us/step\n"
          ]
        }
      ],
      "source": [
        "(x_train, y_train),(x_test, y_test) = tf.keras.datasets.mnist.load_data()\n"
      ]
    },
    {
      "cell_type": "markdown",
      "metadata": {
        "id": "SfQkr3hxJGXU"
      },
      "source": [
        "Notice that `mnist.load_data()` returned four separate values:\n",
        "\n",
        "* `x_train` contains the training set's features.\n",
        "* `y_train` contains the training set's labels.\n",
        "* `x_test` contains the test set's features.\n",
        "* `y_test` contains the test set's labels.\n",
        "\n",
        "**Note:** The MNIST .csv training set is already shuffled.\n",
        "\n",
        "\n",
        "Observa que `mnist.load_data()` devolvió cuatro valores separados:\n",
        "\n",
        "* `x_train` contiene las características del conjunto de entrenamiento.\n",
        "* `y_train` contiene las etiquetas del conjunto de entrenamiento.\n",
        "* `x_test` contiene las características del conjunto de prueba.\n",
        "* `y_test` contiene las etiquetas del conjunto de prueba.\n",
        "\n",
        "**Nota:** El conjunto de entrenamiento de MNIST en formato .csv ya está mezclado."
      ]
    },
    {
      "cell_type": "markdown",
      "metadata": {
        "id": "71vsSUM7pdmu"
      },
      "source": [
        "## View the dataset\n",
        "\n",
        "The .csv file for the California Housing Dataset contains column names (for example, `latitude`, `longitude`, `population`). By contrast, the .csv file for MNIST does not contain column names. Instead of column names, you use ordinal numbers to access different subsets of the MNIST dataset. In fact, it is probably best to think of `x_train` and `x_test` as two-dimensional NumPy arrays:  \n",
        "\n",
        "\n",
        "## Ver el conjunto de datos\n",
        "\n",
        "El archivo .csv para el conjunto de datos de viviendas de California contiene nombres de columnas (por ejemplo, `latitude`, `longitude`, `population`). En cambio, el archivo .csv para MNIST no contiene nombres de columnas. En lugar de nombres de columnas, utilizas números ordinales para acceder a diferentes subconjuntos del conjunto de datos de MNIST. De hecho, probablemente sea mejor pensar en `x_train` y `x_test` como matrices NumPy bidimensionales:"
      ]
    },
    {
      "cell_type": "code",
      "execution_count": 3,
      "metadata": {
        "id": "IoOhpjkeCL8Q"
      },
      "outputs": [
        {
          "data": {
            "text/plain": [
              "array([[  0,   0,   0,   0,   0,   0,   0,   0,   0,   0,   0,   0,   0,   0,   0,   0,   0,   0,   0,   0,   0,   0,   0,   0,   0,   0,   0,   0],\n",
              "       [  0,   0,   0,   0,   0,   0,   0,   0,   0,   0,   0,   0,   0,   0,   0,   0,   0,   0,   0,   0,   0,   0,   0,   0,   0,   0,   0,   0],\n",
              "       [  0,   0,   0,   0,   0,   0,   0,   0,   0,   0,   0,   0,   0,   0,   0,   0,   0,   0,   0,   0,   0,   0,   0,   0,   0,   0,   0,   0],\n",
              "       [  0,   0,   0,   0,   0,   0,   0,   0,   0,   0,   0,   0,   0,   0,   0,   0,   0,   0,   0,   0,   0,   0,   0,   0,   0,   0,   0,   0],\n",
              "       [  0,   0,   0,   0,   0,   0,   0,   0,   0,   0,   0,   0,   0,   0,   0,   0,   0,   0,   0,   0,   0,   0,   0,   0,   0,   0,   0,   0],\n",
              "       [  0,   0,   0,   0,   0,   0,   0,   0,   0,   0,   0,   0,   0,   0,   0,   0,   0,   0,   0,   0,   0,   0,   0,   0,   0,   0,   0,   0],\n",
              "       [  0,   0,   0,   0,   0,   0,   0,   0, 127, 100, 156, 239, 224, 177, 213, 159,  70,  13,   0,   0,   0,   0,   0,   0,   0,   0,   0,   0],\n",
              "       [  0,   0,   0,   0,   0,   0,   0, 110, 250, 254, 254, 254, 254, 254, 254, 254, 254, 184,  10,   0,   0,   0,   0,   0,   0,   0,   0,   0],\n",
              "       [  0,   0,   0,   0,   0,   0,   0, 216, 254, 254, 254, 254, 254, 254, 254, 254, 254, 251,  54,   0,   0,   0,   0,   0,   0,   0,   0,   0],\n",
              "       [  0,   0,   0,   0,   0,   0,   0,   3, 131, 197,  68, 137, 101,  83,  41,  70, 221, 254, 108,   0,   0,   0,   0,   0,   0,   0,   0,   0],\n",
              "       [  0,   0,   0,   0,   0,   0,   0,   0,   0,   0,   0,   0,   0,   0,   0,   0,  58, 254, 216,  11,   0,   0,   0,   0,   0,   0,   0,   0],\n",
              "       [  0,   0,   0,   0,   0,   0,   0,   0,   0,   0,   0,   0,   0,   0,   0,   0, 110, 254, 254,  24,   0,   0,   0,   0,   0,   0,   0,   0],\n",
              "       [  0,   0,   0,   0,   0,   0,   0,   0,   0,   0,   0,   0,   0,   0,   4,  83, 247, 254, 192,  10,   0,   0,   0,   0,   0,   0,   0,   0],\n",
              "       [  0,   0,   0,   0,   0,   0,   0,   0,   0,   0,   0,   0,   0,  37, 124, 254, 254, 250,  47,   0,   0,   0,   0,   0,   0,   0,   0,   0],\n",
              "       [  0,   0,   0,   0,   0,   0,   0,   0,   0,   0,   0, 113, 178, 250, 254, 254, 254, 252, 178, 128,  50,   0,   0,   0,   0,   0,   0,   0],\n",
              "       [  0,   0,   0,   0,   0,   0,   0,   0,   0,   0,  69, 252, 254, 254, 254, 254, 254, 254, 254, 254, 153,   0,   0,   0,   0,   0,   0,   0],\n",
              "       [  0,   0,   0,   0,   0,   0,   0,   0,   0,   0, 141, 252, 254, 241, 241, 254, 247, 252, 254, 254, 153,   0,   0,   0,   0,   0,   0,   0],\n",
              "       [  0,   0,   0,   0,   0,   0,   0,   0,   0,   0,   0,  68,  82,   5,   5,  82,  37,  65, 167, 254, 190,   0,   0,   0,   0,   0,   0,   0],\n",
              "       [  0,   0,   0,   0,   0,   0,   0,   0,   0,   0,   0,   0,   0,   0,   0,   0,   0,   0, 162, 254, 153,   0,   0,   0,   0,   0,   0,   0],\n",
              "       [  0,   0,   0,   0,   0,   0,   0,   0,   0,   0,   0,   0,   0,   0,   0,   0,   0,   1, 172, 253,  75,   0,   0,   0,   0,   0,   0,   0],\n",
              "       [  0,   0,   0,   0,   0,   0,   0,   0,   0,   0,   0,   0,   0,   0,   0,   0,   0, 102, 254, 152,   0,   0,   0,   0,   0,   0,   0,   0],\n",
              "       [  0,   0,   0,   0,   0,   0,   0,   0,   0,   0,   0,   0,   0,   0,   0,   0,  38, 230, 216,  20,   0,   0,   0,   0,   0,   0,   0,   0],\n",
              "       [  0,   0,   0,   0,   0,   0,   0,   0,   0,   0,   0,   0,   0,   0,   1,  71, 222, 254, 142,   0,   0,   0,   0,   0,   0,   0,   0,   0],\n",
              "       [  0,   0,   0,   0,   0,   0,   0,   0,   0,   0,   0,   0,   0,   0,  66, 254, 254, 157,   0,   0,   0,   0,   0,   0,   0,   0,   0,   0],\n",
              "       [  0,   0,   0,   0,   0,   0,   0,   0,   4,  34,  34,  78, 161, 226, 249, 254, 154,   6,   0,   0,   0,   0,   0,   0,   0,   0,   0,   0],\n",
              "       [  0,   0,   0,   0,   0,   0,   0,  96, 184, 254, 254, 254, 254, 254, 249,  93,   5,   0,   0,   0,   0,   0,   0,   0,   0,   0,   0,   0],\n",
              "       [  0,   0,   0,   0,   0,   0,   0,   0,   0,   0,   0,   0,   0,   0,   0,   0,   0,   0,   0,   0,   0,   0,   0,   0,   0,   0,   0,   0],\n",
              "       [  0,   0,   0,   0,   0,   0,   0,   0,   0,   0,   0,   0,   0,   0,   0,   0,   0,   0,   0,   0,   0,   0,   0,   0,   0,   0,   0,   0]], dtype=uint8)"
            ]
          },
          "execution_count": 3,
          "metadata": {},
          "output_type": "execute_result"
        }
      ],
      "source": [
        "# Output example #2917 of the training set.\n",
        "x_train[2917]"
      ]
    },
    {
      "cell_type": "markdown",
      "metadata": {
        "id": "LNJrJKUwvZMR"
      },
      "source": [
        "Alternatively, you can call `matplotlib.pyplot.imshow` to interpret the preceding numeric array as an image."
      ]
    },
    {
      "cell_type": "code",
      "execution_count": 4,
      "metadata": {
        "id": "siRC8a1hJvmq"
      },
      "outputs": [
        {
          "data": {
            "text/plain": [
              "<matplotlib.image.AxesImage at 0x204d6d42c70>"
            ]
          },
          "execution_count": 4,
          "metadata": {},
          "output_type": "execute_result"
        },
        {
          "data": {
            "image/png": "[encoded data removed]",
            "text/plain": [
              "<Figure size 640x480 with 1 Axes>"
            ]
          },
          "metadata": {},
          "output_type": "display_data"
        }
      ],
      "source": [
        "# Use false colors to visualize the array.\n",
        "plt.imshow(x_train[2917])"
      ]
    },
    {
      "cell_type": "code",
      "execution_count": 5,
      "metadata": {
        "id": "V-he9IcihDxb"
      },
      "outputs": [
        {
          "data": {
            "text/plain": [
              "array([  0,   0,   0,   0,   0,   0,   0,   0,   0,   0,   0,   0,   0,   0,   0,   0,  58, 254, 216,  11,   0,   0,   0,   0,   0,   0,   0,   0], dtype=uint8)"
            ]
          },
          "execution_count": 5,
          "metadata": {},
          "output_type": "execute_result"
        }
      ],
      "source": [
        "# Output row #10 of example #2917.\n",
        "x_train[2917][10]"
      ]
    },
    {
      "cell_type": "code",
      "execution_count": 6,
      "metadata": {
        "id": "DUEWipalhQ8J"
      },
      "outputs": [
        {
          "data": {
            "text/plain": [
              "0"
            ]
          },
          "execution_count": 6,
          "metadata": {},
          "output_type": "execute_result"
        }
      ],
      "source": [
        "# Output pixel #16 of row #10 of example #2900.\n",
        "x_train[2900][10][16]"
      ]
    },
    {
      "cell_type": "markdown",
      "metadata": {
        "id": "8ldP-5z1B2vL"
      },
      "source": [
        "## Task 1: Normalize feature values\n",
        "\n",
        "Complete the following code cell to map each feature value from its current representation (an integer between 0 and 255) to a floating-point value between 0 and 1.0. Store the floating-point values in `x_train_normalized` and `x_test_normalized`.\n",
        "\n",
        "## Tarea 1: Normalizar los valores de las características\n",
        "\n",
        "Completa la siguiente celda de código para mapear cada valor de característica desde su representación actual (un entero entre 0 y 255) a un valor de punto flotante entre 0 y 1.0. Almacena los valores de punto flotante en `x_train_normalized` y `x_test_normalized`."
      ]
    },
    {
      "cell_type": "code",
      "execution_count": 7,
      "metadata": {
        "cellView": "form",
        "id": "g8HC-TDgB1D1"
      },
      "outputs": [
        {
          "name": "stdout",
          "output_type": "stream",
          "text": [
            "[0.         0.         0.         0.         0.         0.         0.         0.55294118 1.         0.66666667 0.11372549 0.         0.         0.         0.         0.         0.         0.\n",
            " 0.         0.         0.         0.         0.         0.         0.         0.         0.         0.        ]\n"
          ]
        }
      ],
      "source": [
        "x_train_normalized = x_train / 255.0\n",
        "x_test_normalized = x_test / 255.0\n",
        "print(x_train_normalized[2900][10]) # Output a normalized row"
      ]
    },
    {
      "cell_type": "markdown",
      "metadata": {
        "id": "ZBWRF6CStuNA"
      },
      "source": [
        "## Define a plotting function\n",
        "\n",
        "The following function plots an accuracy curve:\n",
        "\n",
        "## Define una función de trazado\n",
        "\n",
        "La siguiente función traza una curva de precisión:"
      ]
    },
    {
      "cell_type": "code",
      "execution_count": 8,
      "metadata": {
        "cellView": "form",
        "id": "QF0BFRXTOeR3"
      },
      "outputs": [
        {
          "name": "stdout",
          "output_type": "stream",
          "text": [
            "Loaded the plot_curve function.\n"
          ]
        }
      ],
      "source": [
        "def plot_curve(epochs, hist, list_of_metrics):\n",
        "  \"\"\"Plot a curve of one or more classification metrics vs. epoch.\"\"\"\n",
        "  # list_of_metrics should be one of the names shown in:\n",
        "  # https://www.tensorflow.org/tutorials/structured_data/imbalanced_data#define_the_model_and_metrics\n",
        "\n",
        "  plt.figure()\n",
        "  plt.xlabel(\"Epoch\")\n",
        "  plt.ylabel(\"Value\")\n",
        "\n",
        "  for m in list_of_metrics:\n",
        "    x = hist[m]\n",
        "    plt.plot(epochs[1:], x[1:], label=m)\n",
        "\n",
        "  plt.legend()\n",
        "\n",
        "print(\"Loaded the plot_curve function.\")"
      ]
    },
    {
      "cell_type": "markdown",
      "metadata": {
        "id": "3014ezH3C7jT"
      },
      "source": [
        "## Create a deep neural net model\n",
        "\n",
        "The `create_model` function defines the topography of the deep neural net, specifying the following:\n",
        "\n",
        "* The number of [layers](https://developers.google.com/machine-learning/glossary/#layer) in the deep neural net.\n",
        "* The number of [nodes](https://developers.google.com/machine-learning/glossary/#node) in each layer.\n",
        "* Any [regularization](https://developers.google.com/machine-learning/glossary/#regularization) layers.\n",
        "\n",
        "The `create_model` function also defines the [activation function](https://developers.google.com/machine-learning/glossary/#activation_function) of each layer.  The activation function of the output layer is [softmax](https://developers.google.com/machine-learning/glossary/#softmax), which will yield 10 different outputs for each example. Each of the 10 outputs provides the probability that the input example is a certain digit.\n",
        "\n",
        "**Note:** Unlike several of the recent Colabs, this exercise does not define feature columns or a feature layer.  Instead, the model will train on the NumPy array.\n",
        "\n",
        "## Crea un modelo de red neuronal profunda\n",
        "\n",
        "La función `create_model` define la topografía de la red neuronal profunda, especificando lo siguiente:\n",
        "\n",
        "* El número de [capas](https://developers.google.com/machine-learning/glossary/#layer) en la red neuronal profunda.\n",
        "* El número de [nodos](https://developers.google.com/machine-learning/glossary/#node) en cada capa.\n",
        "* Cualquier capa de [regularización](https://developers.google.com/machine-learning/glossary/#regularization).\n",
        "\n",
        "La función `create_model` también define la [función de activación](https://developers.google.com/machine-learning/glossary/#activation_function) de cada capa. La función de activación de la capa de salida es [softmax](https://developers.google.com/machine-learning/glossary/#softmax), que dará como resultado 10 salidas diferentes para cada ejemplo. Cada una de las 10 salidas proporciona la probabilidad de que el ejemplo de entrada sea un cierto dígito.\n",
        "\n",
        "**Nota:** A diferencia de varios de los Colabs recientes, este ejercicio no define columnas de características ni una capa de características. En su lugar, el modelo se entrenará en la matriz NumPy."
      ]
    },
    {
      "cell_type": "code",
      "execution_count": 9,
      "metadata": {
        "cellView": "both",
        "id": "pedD5GhlDC-y"
      },
      "outputs": [],
      "source": [
        "def create_model(my_learning_rate):\n",
        "  \"\"\"Create and compile a deep neural net.\"\"\"\n",
        "\n",
        "  # All models in this course are sequential.\n",
        "  model = tf.keras.models.Sequential()\n",
        "\n",
        "  # The features are stored in a two-dimensional 28X28 array.\n",
        "  # Flatten that two-dimensional array into a one-dimensional\n",
        "  # 784-element array.\n",
        "  model.add(tf.keras.layers.Flatten(input_shape=(28, 28)))\n",
        "\n",
        "  # Define the first hidden layer.\n",
        "  model.add(tf.keras.layers.Dense(units=32, activation='relu'))\n",
        "\n",
        "  # Define a dropout regularization layer.\n",
        "  model.add(tf.keras.layers.Dropout(rate=0.2))\n",
        "\n",
        "  # Define the output layer. The units parameter is set to 10 because\n",
        "  # the model must choose among 10 possible output values (representing\n",
        "  # the digits from 0 to 9, inclusive).\n",
        "  #\n",
        "  # Don't change this layer.\n",
        "  model.add(tf.keras.layers.Dense(units=10, activation='softmax'))\n",
        "\n",
        "  # Construct the layers into a model that TensorFlow can execute.\n",
        "  # Notice that the loss function for multi-class classification\n",
        "  # is different than the loss function for binary classification.\n",
        "  model.compile(optimizer=tf.keras.optimizers.Adam(learning_rate=my_learning_rate),\n",
        "                loss=\"sparse_categorical_crossentropy\",\n",
        "                metrics=['accuracy'])\n",
        "\n",
        "  return model\n",
        "\n",
        "\n",
        "def train_model(model, train_features, train_label, epochs,\n",
        "                batch_size=None, validation_split=0.1):\n",
        "  \"\"\"Train the model by feeding it data.\"\"\"\n",
        "\n",
        "  history = model.fit(x=train_features, y=train_label, batch_size=batch_size,\n",
        "                      epochs=epochs, shuffle=True,\n",
        "                      validation_split=validation_split)\n",
        "\n",
        "  # To track the progression of training, gather a snapshot\n",
        "  # of the model's metrics at each epoch.\n",
        "  epochs = history.epoch\n",
        "  hist = pd.DataFrame(history.history)\n",
        "\n",
        "  return epochs, hist"
      ]
    },
    {
      "cell_type": "markdown",
      "metadata": {
        "id": "D-IXYVfvM4gD"
      },
      "source": [
        "## Invoke the previous functions\n",
        "\n",
        "Run the following code cell to invoke the preceding functions and actually train the model on the training set.\n",
        "\n",
        "**Note:** Due to several factors (for example, more examples and a more complex neural network) training MNIST might take longer than training the California Housing Dataset.\n",
        "\n",
        "## Invoca las funciones anteriores\n",
        "\n",
        "Ejecuta la siguiente celda de código para invocar las funciones anteriores y entrenar el modelo en el conjunto de entrenamiento.\n",
        "\n",
        "**Nota:** Debido a varios factores (por ejemplo, más ejemplos y una red neuronal más compleja), el entrenamiento de MNIST puede llevar más tiempo que el entrenamiento del conjunto de datos de viviendas de California."
      ]
    },
    {
      "cell_type": "code",
      "execution_count": 10,
      "metadata": {
        "cellView": "both",
        "id": "nj3v5EKQFY8s"
      },
      "outputs": [
        {
          "name": "stdout",
          "output_type": "stream",
          "text": [
            "WARNING:tensorflow:From c:\\Users\\PERSONAL\\OneDrive\\Documentos\\PROGRAMACION GITHUB\\MACHINE LEARNING\\env\\lib\\site-packages\\keras\\src\\backend.py:873: The name tf.get_default_graph is deprecated. Please use tf.compat.v1.get_default_graph instead.\n",
            "\n",
            "Epoch 1/50\n",
            "WARNING:tensorflow:From c:\\Users\\PERSONAL\\OneDrive\\Documentos\\PROGRAMACION GITHUB\\MACHINE LEARNING\\env\\lib\\site-packages\\keras\\src\\utils\\tf_utils.py:492: The name tf.ragged.RaggedTensorValue is deprecated. Please use tf.compat.v1.ragged.RaggedTensorValue instead.\n",
            "\n",
            "WARNING:tensorflow:From c:\\Users\\PERSONAL\\OneDrive\\Documentos\\PROGRAMACION GITHUB\\MACHINE LEARNING\\env\\lib\\site-packages\\keras\\src\\engine\\base_layer_utils.py:384: The name tf.executing_eagerly_outside_functions is deprecated. Please use tf.compat.v1.executing_eagerly_outside_functions instead.\n",
            "\n",
            "12/12 [==============================] - 1s 42ms/step - loss: 1.6663 - accuracy: 0.4803 - val_loss: 0.9008 - val_accuracy: 0.7946\n",
            "Epoch 2/50\n",
            "12/12 [==============================] - 0s 14ms/step - loss: 0.8489 - accuracy: 0.7426 - val_loss: 0.5166 - val_accuracy: 0.8667\n",
            "Epoch 3/50\n",
            "12/12 [==============================] - 0s 16ms/step - loss: 0.6158 - accuracy: 0.8132 - val_loss: 0.4119 - val_accuracy: 0.8895\n",
            "Epoch 4/50\n",
            "12/12 [==============================] - 0s 15ms/step - loss: 0.5106 - accuracy: 0.8473 - val_loss: 0.3545 - val_accuracy: 0.9027\n",
            "Epoch 5/50\n",
            "12/12 [==============================] - 0s 16ms/step - loss: 0.4546 - accuracy: 0.8651 - val_loss: 0.3221 - val_accuracy: 0.9117\n",
            "Epoch 6/50\n",
            "12/12 [==============================] - 0s 15ms/step - loss: 0.4202 - accuracy: 0.8755 - val_loss: 0.2983 - val_accuracy: 0.9185\n",
            "Epoch 7/50\n",
            "12/12 [==============================] - 0s 16ms/step - loss: 0.3888 - accuracy: 0.8865 - val_loss: 0.2787 - val_accuracy: 0.9223\n",
            "Epoch 8/50\n",
            "12/12 [==============================] - 0s 14ms/step - loss: 0.3686 - accuracy: 0.8913 - val_loss: 0.2646 - val_accuracy: 0.9278\n",
            "Epoch 9/50\n",
            "12/12 [==============================] - 0s 16ms/step - loss: 0.3530 - accuracy: 0.8950 - val_loss: 0.2527 - val_accuracy: 0.9299\n",
            "Epoch 10/50\n",
            "12/12 [==============================] - 0s 15ms/step - loss: 0.3363 - accuracy: 0.9018 - val_loss: 0.2416 - val_accuracy: 0.9323\n",
            "Epoch 11/50\n",
            "12/12 [==============================] - 0s 16ms/step - loss: 0.3255 - accuracy: 0.9043 - val_loss: 0.2327 - val_accuracy: 0.9337\n",
            "Epoch 12/50\n",
            "12/12 [==============================] - 0s 15ms/step - loss: 0.3140 - accuracy: 0.9077 - val_loss: 0.2249 - val_accuracy: 0.9367\n",
            "Epoch 13/50\n",
            "12/12 [==============================] - 0s 15ms/step - loss: 0.3040 - accuracy: 0.9096 - val_loss: 0.2170 - val_accuracy: 0.9381\n",
            "Epoch 14/50\n",
            "12/12 [==============================] - 0s 17ms/step - loss: 0.2949 - accuracy: 0.9135 - val_loss: 0.2114 - val_accuracy: 0.9403\n",
            "Epoch 15/50\n",
            "12/12 [==============================] - 0s 16ms/step - loss: 0.2870 - accuracy: 0.9159 - val_loss: 0.2054 - val_accuracy: 0.9418\n",
            "Epoch 16/50\n",
            "12/12 [==============================] - 0s 15ms/step - loss: 0.2788 - accuracy: 0.9174 - val_loss: 0.2019 - val_accuracy: 0.9426\n",
            "Epoch 17/50\n",
            "12/12 [==============================] - 0s 16ms/step - loss: 0.2725 - accuracy: 0.9202 - val_loss: 0.1963 - val_accuracy: 0.9448\n",
            "Epoch 18/50\n",
            "12/12 [==============================] - 0s 16ms/step - loss: 0.2682 - accuracy: 0.9209 - val_loss: 0.1929 - val_accuracy: 0.9446\n",
            "Epoch 19/50\n",
            "12/12 [==============================] - 0s 16ms/step - loss: 0.2634 - accuracy: 0.9224 - val_loss: 0.1889 - val_accuracy: 0.9466\n",
            "Epoch 20/50\n",
            "12/12 [==============================] - 0s 16ms/step - loss: 0.2577 - accuracy: 0.9237 - val_loss: 0.1853 - val_accuracy: 0.9487\n",
            "Epoch 21/50\n",
            "12/12 [==============================] - 0s 16ms/step - loss: 0.2522 - accuracy: 0.9253 - val_loss: 0.1813 - val_accuracy: 0.9491\n",
            "Epoch 22/50\n",
            "12/12 [==============================] - 0s 16ms/step - loss: 0.2483 - accuracy: 0.9265 - val_loss: 0.1788 - val_accuracy: 0.9495\n",
            "Epoch 23/50\n",
            "12/12 [==============================] - 0s 16ms/step - loss: 0.2416 - accuracy: 0.9281 - val_loss: 0.1767 - val_accuracy: 0.9498\n",
            "Epoch 24/50\n",
            "12/12 [==============================] - 0s 15ms/step - loss: 0.2397 - accuracy: 0.9287 - val_loss: 0.1734 - val_accuracy: 0.9515\n",
            "Epoch 25/50\n",
            "12/12 [==============================] - 0s 17ms/step - loss: 0.2342 - accuracy: 0.9301 - val_loss: 0.1708 - val_accuracy: 0.9520\n",
            "Epoch 26/50\n",
            "12/12 [==============================] - 0s 15ms/step - loss: 0.2278 - accuracy: 0.9315 - val_loss: 0.1687 - val_accuracy: 0.9522\n",
            "Epoch 27/50\n",
            "12/12 [==============================] - 0s 17ms/step - loss: 0.2256 - accuracy: 0.9330 - val_loss: 0.1670 - val_accuracy: 0.9530\n",
            "Epoch 28/50\n",
            "12/12 [==============================] - 0s 15ms/step - loss: 0.2231 - accuracy: 0.9332 - val_loss: 0.1650 - val_accuracy: 0.9530\n",
            "Epoch 29/50\n",
            "12/12 [==============================] - 0s 16ms/step - loss: 0.2199 - accuracy: 0.9339 - val_loss: 0.1626 - val_accuracy: 0.9544\n",
            "Epoch 30/50\n",
            "12/12 [==============================] - 0s 16ms/step - loss: 0.2183 - accuracy: 0.9349 - val_loss: 0.1618 - val_accuracy: 0.9534\n",
            "Epoch 31/50\n",
            "12/12 [==============================] - 0s 17ms/step - loss: 0.2131 - accuracy: 0.9371 - val_loss: 0.1602 - val_accuracy: 0.9550\n",
            "Epoch 32/50\n",
            "12/12 [==============================] - 0s 16ms/step - loss: 0.2126 - accuracy: 0.9362 - val_loss: 0.1584 - val_accuracy: 0.9553\n",
            "Epoch 33/50\n",
            "12/12 [==============================] - 0s 16ms/step - loss: 0.2097 - accuracy: 0.9377 - val_loss: 0.1570 - val_accuracy: 0.9554\n",
            "Epoch 34/50\n",
            "12/12 [==============================] - 0s 16ms/step - loss: 0.2071 - accuracy: 0.9362 - val_loss: 0.1554 - val_accuracy: 0.9557\n",
            "Epoch 35/50\n",
            "12/12 [==============================] - 0s 15ms/step - loss: 0.2063 - accuracy: 0.9374 - val_loss: 0.1543 - val_accuracy: 0.9568\n",
            "Epoch 36/50\n",
            "12/12 [==============================] - 0s 15ms/step - loss: 0.2026 - accuracy: 0.9389 - val_loss: 0.1529 - val_accuracy: 0.9563\n",
            "Epoch 37/50\n",
            "12/12 [==============================] - 0s 19ms/step - loss: 0.2026 - accuracy: 0.9395 - val_loss: 0.1520 - val_accuracy: 0.9568\n",
            "Epoch 38/50\n",
            "12/12 [==============================] - 0s 17ms/step - loss: 0.1946 - accuracy: 0.9430 - val_loss: 0.1497 - val_accuracy: 0.9571\n",
            "Epoch 39/50\n",
            "12/12 [==============================] - 0s 18ms/step - loss: 0.1954 - accuracy: 0.9408 - val_loss: 0.1497 - val_accuracy: 0.9570\n",
            "Epoch 40/50\n",
            "12/12 [==============================] - 0s 17ms/step - loss: 0.1927 - accuracy: 0.9427 - val_loss: 0.1488 - val_accuracy: 0.9570\n",
            "Epoch 41/50\n",
            "12/12 [==============================] - 0s 18ms/step - loss: 0.1899 - accuracy: 0.9423 - val_loss: 0.1464 - val_accuracy: 0.9579\n",
            "Epoch 42/50\n",
            "12/12 [==============================] - 0s 19ms/step - loss: 0.1918 - accuracy: 0.9421 - val_loss: 0.1463 - val_accuracy: 0.9582\n",
            "Epoch 43/50\n",
            "12/12 [==============================] - 0s 19ms/step - loss: 0.1882 - accuracy: 0.9428 - val_loss: 0.1453 - val_accuracy: 0.9579\n",
            "Epoch 44/50\n",
            "12/12 [==============================] - 0s 20ms/step - loss: 0.1891 - accuracy: 0.9426 - val_loss: 0.1458 - val_accuracy: 0.9583\n",
            "Epoch 45/50\n",
            "12/12 [==============================] - 0s 18ms/step - loss: 0.1835 - accuracy: 0.9436 - val_loss: 0.1438 - val_accuracy: 0.9580\n",
            "Epoch 46/50\n",
            "12/12 [==============================] - 0s 19ms/step - loss: 0.1835 - accuracy: 0.9436 - val_loss: 0.1426 - val_accuracy: 0.9586\n",
            "Epoch 47/50\n",
            "12/12 [==============================] - 0s 22ms/step - loss: 0.1830 - accuracy: 0.9444 - val_loss: 0.1416 - val_accuracy: 0.9592\n",
            "Epoch 48/50\n",
            "12/12 [==============================] - 0s 19ms/step - loss: 0.1810 - accuracy: 0.9447 - val_loss: 0.1411 - val_accuracy: 0.9591\n",
            "Epoch 49/50\n",
            "12/12 [==============================] - 0s 17ms/step - loss: 0.1774 - accuracy: 0.9451 - val_loss: 0.1400 - val_accuracy: 0.9592\n",
            "Epoch 50/50\n",
            "12/12 [==============================] - 0s 9ms/step - loss: 0.1786 - accuracy: 0.9456 - val_loss: 0.1391 - val_accuracy: 0.9598\n",
            "\n",
            " Evaluate the new model against the test set:\n",
            "3/3 [==============================] - 0s 5ms/step - loss: 0.1375 - accuracy: 0.9587\n"
          ]
        },
        {
          "data": {
            "text/plain": [
              "[0.13752348721027374, 0.9587000012397766]"
            ]
          },
          "execution_count": 10,
          "metadata": {},
          "output_type": "execute_result"
        },
        {
          "data": {
            "image/png": "[encoded data removed]",
            "text/plain": [
              "<Figure size 640x480 with 1 Axes>"
            ]
          },
          "metadata": {},
          "output_type": "display_data"
        }
      ],
      "source": [
        "# The following variables are the hyperparameters.\n",
        "learning_rate = 0.003\n",
        "epochs = 50\n",
        "batch_size = 4000\n",
        "validation_split = 0.2\n",
        "\n",
        "# Establish the model's topography.\n",
        "my_model = create_model(learning_rate)\n",
        "\n",
        "# Train the model on the normalized training set.\n",
        "epochs, hist = train_model(my_model, x_train_normalized, y_train,\n",
        "                           epochs, batch_size, validation_split)\n",
        "\n",
        "# Plot a graph of the metric vs. epochs.\n",
        "list_of_metrics_to_plot = ['accuracy']\n",
        "plot_curve(epochs, hist, list_of_metrics_to_plot)\n",
        "\n",
        "# Evaluate against the test set.\n",
        "print(\"\\n Evaluate the new model against the test set:\")\n",
        "my_model.evaluate(x=x_test_normalized, y=y_test, batch_size=batch_size)"
      ]
    },
    {
      "cell_type": "markdown",
      "metadata": {
        "id": "Y5IKmk7D49_n"
      },
      "source": [
        "## Task 2: Optimize the model\n",
        "\n",
        "Experiment with the following:\n",
        "\n",
        "* number of hidden layers\n",
        "* number of nodes in each layer\n",
        "* dropout regularization rate\n",
        "\n",
        "What trends did you discover?  Can you reach at least 98% accuracy against the test set?\n",
        "\n",
        "\n",
        "## Tarea 2: Optimizar el modelo\n",
        "\n",
        "Experimenta con lo siguiente:\n",
        "\n",
        "* número de capas ocultas\n",
        "* número de nodos en cada capa\n",
        "* tasa de regularización dropout\n",
        "\n",
        "¿Qué tendencias descubriste? ¿Puedes alcanzar al menos un 98% de precisión en el conjunto de prueba?"
      ]
    },
    {
      "cell_type": "code",
      "execution_count": 11,
      "metadata": {
        "cellView": "form",
        "id": "wYG5qXpP5a9n"
      },
      "outputs": [],
      "source": [
        "# It would take much too long to experiment\n",
        "# fully with topography and dropout regularization\n",
        "# rate. In the real world, you would\n",
        "# also experiment with learning rate, batch size,\n",
        "# and number of epochs.  Since you only have a\n",
        "# few minutes, searching for trends can be helpful.\n",
        "# Here is what we discovered:\n",
        "#   * Adding more nodes (at least until 256 nodes)\n",
        "#     to the first hidden layer improved accuracy.\n",
        "#   * Adding a second hidden layer generally\n",
        "#     improved accuracy.\n",
        "#   * When the model contains a lot of nodes,\n",
        "#     the model overfits unless the dropout rate\n",
        "#     is at least 0.5.\n",
        "\n",
        "# We reached 98% test accuracy with the\n",
        "# following configuration:\n",
        "#   * One hidden layer of 256 nodes; no second\n",
        "#     hidden layer.\n",
        "#   * dropout regularization rate of 0.4\n",
        "\n",
        "# We reached 98.2% test accuracy with the\n",
        "# following configuration:\n",
        "#   * First hidden layer of 256 nodes;\n",
        "#     second hidden layer of 128 nodes.\n",
        "#   * dropout regularization rate of 0.2\n",
        "\n",
        "\n",
        "#####################################################\n",
        "\n",
        "# Experimentar completamente con la topografía y la tasa de regularización dropout llevaría demasiado tiempo. En el mundo real, también experimentarías con la tasa de aprendizaje, el tamaño del lote y el número de épocas. Dado que solo tienes unos minutos, buscar tendencias puede ser útil. Esto es lo que descubrimos:\n",
        "\n",
        "# * Agregar más nodos (al menos hasta 256 nodos) a la primera capa oculta mejoró la precisión.\n",
        "# * Agregar una segunda capa oculta generalmente mejoró la precisión.\n",
        "# * Cuando el modelo tiene muchos nodos, tiende a sobreajustarse a menos que la tasa de dropout sea al menos 0.5.\n",
        "\n",
        "# Alcanzamos una precisión del 98% en el conjunto de prueba con la siguiente configuración:\n",
        "# * Una capa oculta de 256 nodos; sin segunda capa oculta.\n",
        "# * Tasa de regularización dropout de 0.4\n",
        "\n",
        "# Alcanzamos una precisión del 98.2% en el conjunto de prueba con la siguiente configuración:\n",
        "# * Primera capa oculta de 256 nodos; segunda capa oculta de 128 nodos.\n",
        "# * Tasa de regularización dropout de 0.2\n"
      ]
    }
  ],
  "metadata": {
    "colab": {
      "name": "Multi-class classification with MNIST.ipynb",
      "private_outputs": true,
      "provenance": []
    },
    "kernelspec": {
      "display_name": "Python 3",
      "name": "python3"
    },
    "language_info": {
      "codemirror_mode": {
        "name": "ipython",
        "version": 3
      },
      "file_extension": ".py",
      "mimetype": "text/x-python",
      "name": "python",
      "nbconvert_exporter": "python",
      "pygments_lexer": "ipython3",
      "version": "3.9.13"
    }
  },
  "nbformat": 4,
  "nbformat_minor": 0
}
