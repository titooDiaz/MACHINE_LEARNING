{
  "cells": [
    {
      "cell_type": "markdown",
      "metadata": {
        "id": "4f3CKqFUqL2-"
      },
      "source": [
        "# Validation Sets and Test Sets\n",
        "\n",
        "The previous Colab exercises evaluated the trained model against the training set, which does not provide a strong signal about the quality of your model. In this Colab, you'll experiment with validation sets and test sets.\n",
        "\n",
        "\n",
        "\n",
        "\n"
      ]
    },
    {
      "cell_type": "markdown",
      "metadata": {
        "id": "3spZH_kNkWWX"
      },
      "source": [
        "## Learning objectives\n",
        "\n",
        "After doing this Colab, you'll know how to do the following:\n",
        "\n",
        "  * Split a [training set](https://developers.google.com/machine-learning/glossary/#training_set) into a smaller training set and a [validation set](https://developers.google.com/machine-learning/glossary/#validation_set).\n",
        "  * Analyze deltas between training set and validation set results.\n",
        "  * Test the trained model with a [test set](https://developers.google.com/machine-learning/glossary/#test_set) to determine whether your trained model is [overfitting](https://developers.google.com/machine-learning/glossary/#overfitting).\n",
        "  * Detect and fix a common training problem."
      ]
    },
    {
      "cell_type": "markdown",
      "metadata": {
        "id": "gV82DJO3kWpk"
      },
      "source": [
        "## The dataset\n",
        "\n",
        "As in the previous exercise, this exercise uses the [California Housing dataset](https://developers.google.com/machine-learning/crash-course/california-housing-data-description) to predict the `median_house_value` at the city block level.  Like many \"famous\" datasets, the California Housing Dataset actually consists of two separate datasets, each living in separate .csv files:\n",
        "\n",
        "* The training set is in `california_housing_train.csv`.\n",
        "* The test set is in `california_housing_test.csv`.\n",
        "\n",
        "You'll create the validation set by dividing the downloaded training set into two parts:\n",
        "\n",
        "* a smaller training set  \n",
        "* a validation set"
      ]
    },
    {
      "cell_type": "markdown",
      "metadata": {
        "id": "S8gm6BpqRRuh"
      },
      "source": [
        "## Import relevant modules\n",
        "\n",
        "This first code cell imports the necessary modules and sets a few display options."
      ]
    },
    {
      "cell_type": "code",
      "execution_count": 16,
      "metadata": {
        "cellView": "form",
        "id": "9D8GgUovHbG0"
      },
      "outputs": [],
      "source": [
        "#@title Import modules\n",
        "import numpy as np\n",
        "import pandas as pd\n",
        "import tensorflow as tf\n",
        "from matplotlib import pyplot as plt #https://pypi.org/project/matplotlib/\n",
        "\n",
        "pd.options.display.max_rows = 10\n",
        "pd.options.display.float_format = \"{:.1f}\".format"
      ]
    },
    {
      "cell_type": "markdown",
      "metadata": {
        "id": "xjvrrClQeAJu"
      },
      "source": [
        "## Load the datasets from the internet\n",
        "\n",
        "The following code cell loads the separate .csv files and creates the following two pandas DataFrames:\n",
        "\n",
        "* `train_df`, which contains the training set.\n",
        "* `test_df`, which contains the test set.\n",
        "\n"
      ]
    },
    {
      "cell_type": "code",
      "execution_count": 17,
      "metadata": {
        "id": "zUnTc_wfd_o3"
      },
      "outputs": [],
      "source": [
        "train_df = pd.read_csv(\"https://download.mlcc.google.com/mledu-datasets/california_housing_train.csv\")\n",
        "test_df = pd.read_csv(\"https://download.mlcc.google.com/mledu-datasets/california_housing_test.csv\")"
      ]
    },
    {
      "cell_type": "markdown",
      "metadata": {
        "id": "P_KBdj2M_yjM"
      },
      "source": [
        "## Scale the label values\n",
        "\n",
        "The following code cell scales the `median_house_value`.\n",
        "See the previous Colab exercise for details."
      ]
    },
    {
      "cell_type": "code",
      "execution_count": 18,
      "metadata": {
        "id": "3hc7QQhaAFXD"
      },
      "outputs": [],
      "source": [
        "scale_factor = 1000.0\n",
        "\n",
        "# Scale the training set's label.\n",
        "train_df[\"median_house_value\"] /= scale_factor\n",
        "\n",
        "# Scale the test set's label\n",
        "test_df[\"median_house_value\"] /= scale_factor"
      ]
    },
    {
      "cell_type": "markdown",
      "metadata": {
        "id": "FhessIIV8VPc"
      },
      "source": [
        "## Load the functions that build and train a model\n",
        "\n",
        "The following code cell defines two functions:\n",
        "\n",
        "  * `build_model`, which defines the model's topography.\n",
        "  * `train_model`, which will ultimately train the model, outputting not only the loss value for the training set but also the loss value for the validation set.\n",
        "\n",
        "Since you don't need to understand model building code right now, we've hidden this code cell. As always, you must run hidden code cells."
      ]
    },
    {
      "cell_type": "code",
      "execution_count": 19,
      "metadata": {
        "cellView": "form",
        "id": "bvonhK857msj"
      },
      "outputs": [
        {
          "name": "stdout",
          "output_type": "stream",
          "text": [
            "Defined the build_model and train_model functions.\n"
          ]
        }
      ],
      "source": [
        "#@title Define the functions that build and train a model\n",
        "def build_model(my_learning_rate):\n",
        "  \"\"\"Create and compile a simple linear regression model.\"\"\"\n",
        "  # Most simple tf.keras models are sequential.\n",
        "  model = tf.keras.models.Sequential()\n",
        "\n",
        "  # Add one linear layer to the model to yield a simple linear regressor.\n",
        "  model.add(tf.keras.layers.Dense(units=1, input_shape=(1,)))\n",
        "\n",
        "  # Compile the model topography into code that TensorFlow can efficiently\n",
        "  # execute. Configure training to minimize the model's mean squared error.\n",
        "  model.compile(optimizer=tf.keras.optimizers.experimental.RMSprop(learning_rate=my_learning_rate),\n",
        "                loss=\"mean_squared_error\",\n",
        "                metrics=[tf.keras.metrics.RootMeanSquaredError()])\n",
        "\n",
        "  return model\n",
        "\n",
        "\n",
        "def train_model(model, df, feature, label, my_epochs,\n",
        "                my_batch_size=None, my_validation_split=0.1):\n",
        "  \"\"\"Feed a dataset into the model in order to train it.\"\"\"\n",
        "\n",
        "  history = model.fit(x=df[feature],\n",
        "                      y=df[label],\n",
        "                      batch_size=my_batch_size,\n",
        "                      epochs=my_epochs,\n",
        "                      validation_split=my_validation_split)\n",
        "\n",
        "  # Gather the model's trained weight and bias.\n",
        "  trained_weight = model.get_weights()[0]\n",
        "  trained_bias = model.get_weights()[1]\n",
        "\n",
        "  # The list of epochs is stored separately from the\n",
        "  # rest of history.\n",
        "  epochs = history.epoch\n",
        "\n",
        "  # Isolate the root mean squared error for each epoch.\n",
        "  hist = pd.DataFrame(history.history)\n",
        "  rmse = hist[\"root_mean_squared_error\"]\n",
        "\n",
        "  return epochs, rmse, history.history\n",
        "\n",
        "print(\"Defined the build_model and train_model functions.\")"
      ]
    },
    {
      "cell_type": "markdown",
      "metadata": {
        "id": "8gRu4Ri0D8tH"
      },
      "source": [
        "## Define plotting functions\n",
        "\n",
        "The `plot_the_loss_curve` function plots loss vs. epochs for both the training set and the validation set."
      ]
    },
    {
      "cell_type": "code",
      "execution_count": 20,
      "metadata": {
        "cellView": "form",
        "id": "QA7hsqPZDvVM"
      },
      "outputs": [
        {
          "name": "stdout",
          "output_type": "stream",
          "text": [
            "Defined the plot_the_loss_curve function.\n"
          ]
        }
      ],
      "source": [
        "#@title Define the plotting function\n",
        "\n",
        "def plot_the_loss_curve(epochs, mae_training, mae_validation):\n",
        "  \"\"\"Plot a curve of loss vs. epoch.\"\"\"\n",
        "\n",
        "  plt.figure()\n",
        "  plt.xlabel(\"Epoch\")\n",
        "  plt.ylabel(\"Root Mean Squared Error\")\n",
        "\n",
        "  plt.plot(epochs[1:], mae_training[1:], label=\"Training Loss\")\n",
        "  plt.plot(epochs[1:], mae_validation[1:], label=\"Validation Loss\")\n",
        "  plt.legend()\n",
        "\n",
        "  # We're not going to plot the first epoch, since the loss on the first epoch\n",
        "  # is often substantially greater than the loss for other epochs.\n",
        "  merged_mae_lists = mae_training[1:] + mae_validation[1:]\n",
        "  highest_loss = max(merged_mae_lists)\n",
        "  lowest_loss = min(merged_mae_lists)\n",
        "  delta = highest_loss - lowest_loss\n",
        "  print(delta)\n",
        "\n",
        "  top_of_y_axis = highest_loss + (delta * 0.05)\n",
        "  bottom_of_y_axis = lowest_loss - (delta * 0.05)\n",
        "\n",
        "  plt.ylim([bottom_of_y_axis, top_of_y_axis])\n",
        "  plt.show()\n",
        "\n",
        "print(\"Defined the plot_the_loss_curve function.\")"
      ]
    },
    {
      "cell_type": "markdown",
      "metadata": {
        "id": "jipBqEQXlsN8"
      },
      "source": [
        "## Task 1: Experiment with the validation split\n",
        "\n",
        "In the following code cell, you'll see a variable named `validation_split`, which we've initialized at 0.2.  The `validation_split` variable specifies the proportion of the original training set that will serve as the validation set. The original training set contains 17,000 examples. Therefore, a `validation_split` of 0.2 means that:\n",
        "\n",
        "* 17,000 * 0.2 ~= 3,400 examples will become the validation set.\n",
        "* 17,000 * 0.8 ~= 13,600 examples will become the new training set.\n",
        "\n",
        "The following code builds a model, trains it on the training set, and evaluates the built model on both:\n",
        "\n",
        "* The training set.\n",
        "* And the validation set.\n",
        "\n",
        "If the data in the training set is similar to the data in the validation set, then the two loss curves and the final loss values should be almost identical. However, the loss curves and final loss values are **not** almost identical. Hmm, that's odd.  \n",
        "\n",
        "Experiment with two or three different values of `validation_split`.  Do different values of `validation_split` fix the problem?\n"
      ]
    },
    {
      "cell_type": "code",
      "execution_count": 21,
      "metadata": {
        "id": "knP23Taoa00a"
      },
      "outputs": [
        {
          "name": "stdout",
          "output_type": "stream",
          "text": [
            "Epoch 1/30\n"
          ]
        },
        {
          "name": "stdout",
          "output_type": "stream",
          "text": [
            "34/34 [==============================] - 0s 7ms/step - loss: 42528.9844 - root_mean_squared_error: 206.2256 - val_loss: 53717.0742 - val_root_mean_squared_error: 231.7694\n",
            "Epoch 2/30\n",
            "34/34 [==============================] - 0s 4ms/step - loss: 37026.3008 - root_mean_squared_error: 192.4222 - val_loss: 47940.7695 - val_root_mean_squared_error: 218.9538\n",
            "Epoch 3/30\n",
            "34/34 [==============================] - 0s 4ms/step - loss: 32167.2305 - root_mean_squared_error: 179.3522 - val_loss: 42513.3789 - val_root_mean_squared_error: 206.1877\n",
            "Epoch 4/30\n",
            "34/34 [==============================] - 0s 4ms/step - loss: 27759.6523 - root_mean_squared_error: 166.6123 - val_loss: 37556.1172 - val_root_mean_squared_error: 193.7940\n",
            "Epoch 5/30\n",
            "34/34 [==============================] - 0s 4ms/step - loss: 23761.1523 - root_mean_squared_error: 154.1465 - val_loss: 32973.7500 - val_root_mean_squared_error: 181.5867\n",
            "Epoch 6/30\n",
            "34/34 [==============================] - 0s 4ms/step - loss: 20120.2227 - root_mean_squared_error: 141.8458 - val_loss: 28748.1055 - val_root_mean_squared_error: 169.5527\n",
            "Epoch 7/30\n",
            "34/34 [==============================] - 0s 4ms/step - loss: 16921.8691 - root_mean_squared_error: 130.0841 - val_loss: 24974.5020 - val_root_mean_squared_error: 158.0332\n",
            "Epoch 8/30\n",
            "34/34 [==============================] - 0s 4ms/step - loss: 14097.4180 - root_mean_squared_error: 118.7326 - val_loss: 21527.0859 - val_root_mean_squared_error: 146.7211\n",
            "Epoch 9/30\n",
            "34/34 [==============================] - 0s 4ms/step - loss: 11664.7559 - root_mean_squared_error: 108.0035 - val_loss: 18518.1562 - val_root_mean_squared_error: 136.0814\n",
            "Epoch 10/30\n",
            "34/34 [==============================] - 0s 4ms/step - loss: 9599.0527 - root_mean_squared_error: 97.9748 - val_loss: 15849.6406 - val_root_mean_squared_error: 125.8954\n",
            "Epoch 11/30\n",
            "34/34 [==============================] - 0s 4ms/step - loss: 7979.4844 - root_mean_squared_error: 89.3280 - val_loss: 13634.0830 - val_root_mean_squared_error: 116.7651\n",
            "Epoch 12/30\n",
            "34/34 [==============================] - 0s 4ms/step - loss: 6697.2964 - root_mean_squared_error: 81.8370 - val_loss: 11750.2539 - val_root_mean_squared_error: 108.3986\n",
            "Epoch 13/30\n",
            "34/34 [==============================] - 0s 4ms/step - loss: 5784.2749 - root_mean_squared_error: 76.0544 - val_loss: 10252.5176 - val_root_mean_squared_error: 101.2547\n",
            "Epoch 14/30\n",
            "34/34 [==============================] - 0s 4ms/step - loss: 5226.9575 - root_mean_squared_error: 72.2977 - val_loss: 9142.9199 - val_root_mean_squared_error: 95.6186\n",
            "Epoch 15/30\n",
            "34/34 [==============================] - 0s 4ms/step - loss: 4994.2412 - root_mean_squared_error: 70.6699 - val_loss: 8608.6484 - val_root_mean_squared_error: 92.7828\n",
            "Epoch 16/30\n",
            "34/34 [==============================] - 0s 4ms/step - loss: 4939.6172 - root_mean_squared_error: 70.2824 - val_loss: 8382.2246 - val_root_mean_squared_error: 91.5545\n",
            "Epoch 17/30\n",
            "34/34 [==============================] - 0s 4ms/step - loss: 4932.2075 - root_mean_squared_error: 70.2297 - val_loss: 8341.9854 - val_root_mean_squared_error: 91.3345\n",
            "Epoch 18/30\n",
            "34/34 [==============================] - 0s 4ms/step - loss: 4928.8408 - root_mean_squared_error: 70.2057 - val_loss: 8344.6680 - val_root_mean_squared_error: 91.3492\n",
            "Epoch 19/30\n",
            "34/34 [==============================] - 0s 4ms/step - loss: 4927.9917 - root_mean_squared_error: 70.1997 - val_loss: 8354.7422 - val_root_mean_squared_error: 91.4043\n",
            "Epoch 20/30\n",
            "34/34 [==============================] - 0s 4ms/step - loss: 4925.2168 - root_mean_squared_error: 70.1799 - val_loss: 8318.4629 - val_root_mean_squared_error: 91.2056\n",
            "Epoch 21/30\n",
            "34/34 [==============================] - 0s 4ms/step - loss: 4924.7036 - root_mean_squared_error: 70.1762 - val_loss: 8323.1113 - val_root_mean_squared_error: 91.2311\n",
            "Epoch 22/30\n",
            "34/34 [==============================] - 0s 4ms/step - loss: 4921.6460 - root_mean_squared_error: 70.1544 - val_loss: 8285.9941 - val_root_mean_squared_error: 91.0274\n",
            "Epoch 23/30\n",
            "34/34 [==============================] - 0s 4ms/step - loss: 4921.3657 - root_mean_squared_error: 70.1524 - val_loss: 8310.9990 - val_root_mean_squared_error: 91.1647\n",
            "Epoch 24/30\n",
            "34/34 [==============================] - 0s 4ms/step - loss: 4919.9292 - root_mean_squared_error: 70.1422 - val_loss: 8301.6963 - val_root_mean_squared_error: 91.1136\n",
            "Epoch 25/30\n",
            "34/34 [==============================] - 0s 4ms/step - loss: 4919.2056 - root_mean_squared_error: 70.1370 - val_loss: 8373.6016 - val_root_mean_squared_error: 91.5074\n",
            "Epoch 26/30\n",
            "34/34 [==============================] - 0s 3ms/step - loss: 4917.8867 - root_mean_squared_error: 70.1276 - val_loss: 8365.5879 - val_root_mean_squared_error: 91.4636\n",
            "Epoch 27/30\n",
            "34/34 [==============================] - 0s 4ms/step - loss: 4914.4141 - root_mean_squared_error: 70.1029 - val_loss: 8478.4492 - val_root_mean_squared_error: 92.0785\n",
            "Epoch 28/30\n",
            "34/34 [==============================] - 0s 4ms/step - loss: 4917.9014 - root_mean_squared_error: 70.1277 - val_loss: 8370.8564 - val_root_mean_squared_error: 91.4924\n",
            "Epoch 29/30\n",
            "34/34 [==============================] - 0s 4ms/step - loss: 4916.0972 - root_mean_squared_error: 70.1149 - val_loss: 8344.7207 - val_root_mean_squared_error: 91.3494\n",
            "Epoch 30/30\n",
            "34/34 [==============================] - 0s 4ms/step - loss: 4914.6758 - root_mean_squared_error: 70.1048 - val_loss: 8388.2793 - val_root_mean_squared_error: 91.5875\n",
            "148.8509292602539\n"
          ]
        },
        {
          "data": {
            "image/png": "[encoded data removed]",
            "text/plain": [
              "<Figure size 640x480 with 1 Axes>"
            ]
          },
          "metadata": {},
          "output_type": "display_data"
        }
      ],
      "source": [
        "# The following variables are the hyperparameters.\n",
        "learning_rate = 0.08\n",
        "epochs = 30\n",
        "batch_size = 100\n",
        "#Estos son hiperparámetros que controlan el proceso de entrenamiento de un modelo de aprendizaje automático. \n",
        "# La tasa de aprendizaje (learning_rate) determina el tamaño del paso durante la optimización,\n",
        "# las épocas (epochs) representan el número de veces que se pasa todo el conjunto de datos hacia adelante y hacia atrás a través de la red neuronal, \n",
        "# y el tamaño del lote (batch_size) es la cantidad de \n",
        "\n",
        "\n",
        "#Esta variable define el porcentaje del conjunto de entrenamiento original que se utilizará como conjunto de validación. \n",
        "# Es decir, el 80% del conjunto de entrenamiento se usará para entrenar el modelo, y el 20% se reservará para validar su rendimiento.\n",
        "validation_split = 0.8\n",
        "\n",
        "# Identify the feature and the label.\n",
        "my_feature = \"median_income\"    # the median income on a specific city block.\n",
        "my_label = \"median_house_value\" # the median house value on a specific city block.\n",
        "# That is, you're going to create a model that predicts house value based\n",
        "# solely on the neighborhood's median income.\n",
        "\n",
        "# Invoke the functions to build and train the model.\n",
        "my_model = build_model(learning_rate)\n",
        "epochs, rmse, history = train_model(my_model, train_df, my_feature,\n",
        "                                    my_label, epochs, batch_size,\n",
        "                                    validation_split)\n",
        "\n",
        "plot_the_loss_curve(epochs, history[\"root_mean_squared_error\"],\n",
        "                    history[\"val_root_mean_squared_error\"])\n",
        "\n",
        "#La idea es observar cómo se comporta la pérdida en ambos conjuntos. \n",
        "# Si la pérdida en el conjunto de validación disminuye a medida que aumentan las épocas, pero luego comienza a aumentar nuevamente, podrías estar experimentando sobreajuste (overfitting). \n",
        "# Si ambas curvas disminuyen y se mantienen bajas, eso es generalmente un buen indicativo de que el modelo está aprendiendo de manera efectiva."
      ]
    },
    {
      "cell_type": "markdown",
      "metadata": {
        "id": "TKa11JK4Pm3f"
      },
      "source": [
        "## Task 2: Determine **why** the loss curves differ\n",
        "\n",
        "No matter how you split the training set and the validation set, the loss curves differ significantly. Evidently, the data in the training set isn't similar enough to the data in the validation set. Counterintuitive? Yes, but this problem is actually pretty common in machine learning.\n",
        "\n",
        "Your task is to determine **why** the loss curves aren't highly similar. As with most issues in machine learning, the problem is rooted in the data itself. To solve this mystery of why the training set and validation set aren't almost identical, write a line or two of [pandas code](https://colab.research.google.com/github/google/eng-edu/blob/main/ml/cc/exercises/pandas_dataframe_ultraquick_tutorial.ipynb?utm_source=validation-colab&utm_medium=colab&utm_campaign=colab-external&utm_content=pandas_tf2-colab&hl=en) in the following code cell.  Here are a couple of hints:\n",
        "\n",
        "  * The previous code cell split the original training set into:\n",
        "    * a reduced training set (the original training set - the validation set)\n",
        "    * the validation set\n",
        "  * By default, the pandas [`head`](https://pandas.pydata.org/pandas-docs/stable/reference/api/pandas.DataFrame.head.html) method outputs the *first* 5 rows of the DataFrame. To see more of the training set, specify the `n` argument to `head` and assign a large positive integer to `n`."
      ]
    },
    {
      "cell_type": "code",
      "execution_count": 22,
      "metadata": {
        "id": "VJQcAZkwJt_p"
      },
      "outputs": [
        {
          "data": {
            "image/png": "[encoded data removed]",
            "text/plain": [
              "<Figure size 1000x600 with 1 Axes>"
            ]
          },
          "metadata": {},
          "output_type": "display_data"
        }
      ],
      "source": [
        "train_df.head()\n",
        "train_df.describe()\n",
        "test_df.describe()\n",
        "\n",
        "import matplotlib.pyplot as plt\n",
        "\n",
        "plt.figure(figsize=(10, 6))\n",
        "plt.hist(train_df['median_income'], bins=30, alpha=0.5, label='Training')\n",
        "plt.hist(test_df['median_income'], bins=30, alpha=0.5, label='Validation')\n",
        "plt.xlabel('Median Income')\n",
        "plt.ylabel('Frequency')\n",
        "plt.legend()\n",
        "plt.show()\n"
      ]
    },
    {
      "cell_type": "code",
      "execution_count": 23,
      "metadata": {
        "cellView": "form",
        "id": "EnNvkFwwK8WY"
      },
      "outputs": [
        {
          "data": {
            "text/html": [
              "<div>\n",
              "<style scoped>\n",
              "    .dataframe tbody tr th:only-of-type {\n",
              "        vertical-align: middle;\n",
              "    }\n",
              "\n",
              "    .dataframe tbody tr th {\n",
              "        vertical-align: top;\n",
              "    }\n",
              "\n",
              "    .dataframe thead th {\n",
              "        text-align: right;\n",
              "    }\n",
              "</style>\n",
              "<table border=\"1\" class=\"dataframe\">\n",
              "  <thead>\n",
              "    <tr style=\"text-align: right;\">\n",
              "      <th></th>\n",
              "      <th>longitude</th>\n",
              "      <th>latitude</th>\n",
              "      <th>housing_median_age</th>\n",
              "      <th>total_rooms</th>\n",
              "      <th>total_bedrooms</th>\n",
              "      <th>population</th>\n",
              "      <th>households</th>\n",
              "      <th>median_income</th>\n",
              "      <th>median_house_value</th>\n",
              "    </tr>\n",
              "  </thead>\n",
              "  <tbody>\n",
              "    <tr>\n",
              "      <th>0</th>\n",
              "      <td>-114.3</td>\n",
              "      <td>34.2</td>\n",
              "      <td>15.0</td>\n",
              "      <td>5612.0</td>\n",
              "      <td>1283.0</td>\n",
              "      <td>1015.0</td>\n",
              "      <td>472.0</td>\n",
              "      <td>1.5</td>\n",
              "      <td>66.9</td>\n",
              "    </tr>\n",
              "    <tr>\n",
              "      <th>1</th>\n",
              "      <td>-114.5</td>\n",
              "      <td>34.4</td>\n",
              "      <td>19.0</td>\n",
              "      <td>7650.0</td>\n",
              "      <td>1901.0</td>\n",
              "      <td>1129.0</td>\n",
              "      <td>463.0</td>\n",
              "      <td>1.8</td>\n",
              "      <td>80.1</td>\n",
              "    </tr>\n",
              "    <tr>\n",
              "      <th>2</th>\n",
              "      <td>-114.6</td>\n",
              "      <td>33.7</td>\n",
              "      <td>17.0</td>\n",
              "      <td>720.0</td>\n",
              "      <td>174.0</td>\n",
              "      <td>333.0</td>\n",
              "      <td>117.0</td>\n",
              "      <td>1.7</td>\n",
              "      <td>85.7</td>\n",
              "    </tr>\n",
              "    <tr>\n",
              "      <th>3</th>\n",
              "      <td>-114.6</td>\n",
              "      <td>33.6</td>\n",
              "      <td>14.0</td>\n",
              "      <td>1501.0</td>\n",
              "      <td>337.0</td>\n",
              "      <td>515.0</td>\n",
              "      <td>226.0</td>\n",
              "      <td>3.2</td>\n",
              "      <td>73.4</td>\n",
              "    </tr>\n",
              "    <tr>\n",
              "      <th>4</th>\n",
              "      <td>-114.6</td>\n",
              "      <td>33.6</td>\n",
              "      <td>20.0</td>\n",
              "      <td>1454.0</td>\n",
              "      <td>326.0</td>\n",
              "      <td>624.0</td>\n",
              "      <td>262.0</td>\n",
              "      <td>1.9</td>\n",
              "      <td>65.5</td>\n",
              "    </tr>\n",
              "    <tr>\n",
              "      <th>...</th>\n",
              "      <td>...</td>\n",
              "      <td>...</td>\n",
              "      <td>...</td>\n",
              "      <td>...</td>\n",
              "      <td>...</td>\n",
              "      <td>...</td>\n",
              "      <td>...</td>\n",
              "      <td>...</td>\n",
              "      <td>...</td>\n",
              "    </tr>\n",
              "    <tr>\n",
              "      <th>995</th>\n",
              "      <td>-117.1</td>\n",
              "      <td>32.5</td>\n",
              "      <td>8.0</td>\n",
              "      <td>6533.0</td>\n",
              "      <td>1217.0</td>\n",
              "      <td>4797.0</td>\n",
              "      <td>1177.0</td>\n",
              "      <td>4.0</td>\n",
              "      <td>144.4</td>\n",
              "    </tr>\n",
              "    <tr>\n",
              "      <th>996</th>\n",
              "      <td>-117.1</td>\n",
              "      <td>34.6</td>\n",
              "      <td>6.0</td>\n",
              "      <td>5110.0</td>\n",
              "      <td>1044.0</td>\n",
              "      <td>1938.0</td>\n",
              "      <td>724.0</td>\n",
              "      <td>3.2</td>\n",
              "      <td>112.8</td>\n",
              "    </tr>\n",
              "    <tr>\n",
              "      <th>997</th>\n",
              "      <td>-117.1</td>\n",
              "      <td>34.2</td>\n",
              "      <td>22.0</td>\n",
              "      <td>4397.0</td>\n",
              "      <td>931.0</td>\n",
              "      <td>1145.0</td>\n",
              "      <td>445.0</td>\n",
              "      <td>4.5</td>\n",
              "      <td>108.4</td>\n",
              "    </tr>\n",
              "    <tr>\n",
              "      <th>998</th>\n",
              "      <td>-117.1</td>\n",
              "      <td>34.0</td>\n",
              "      <td>24.0</td>\n",
              "      <td>4144.0</td>\n",
              "      <td>826.0</td>\n",
              "      <td>2127.0</td>\n",
              "      <td>772.0</td>\n",
              "      <td>2.5</td>\n",
              "      <td>96.0</td>\n",
              "    </tr>\n",
              "    <tr>\n",
              "      <th>999</th>\n",
              "      <td>-117.1</td>\n",
              "      <td>33.6</td>\n",
              "      <td>6.0</td>\n",
              "      <td>1868.0</td>\n",
              "      <td>289.0</td>\n",
              "      <td>750.0</td>\n",
              "      <td>247.0</td>\n",
              "      <td>4.4</td>\n",
              "      <td>307.6</td>\n",
              "    </tr>\n",
              "  </tbody>\n",
              "</table>\n",
              "<p>1000 rows × 9 columns</p>\n",
              "</div>"
            ],
            "text/plain": [
              "     longitude  latitude  housing_median_age  total_rooms  total_bedrooms  \\\n",
              "0       -114.3      34.2                15.0       5612.0          1283.0   \n",
              "1       -114.5      34.4                19.0       7650.0          1901.0   \n",
              "2       -114.6      33.7                17.0        720.0           174.0   \n",
              "3       -114.6      33.6                14.0       1501.0           337.0   \n",
              "4       -114.6      33.6                20.0       1454.0           326.0   \n",
              "..         ...       ...                 ...          ...             ...   \n",
              "995     -117.1      32.5                 8.0       6533.0          1217.0   \n",
              "996     -117.1      34.6                 6.0       5110.0          1044.0   \n",
              "997     -117.1      34.2                22.0       4397.0           931.0   \n",
              "998     -117.1      34.0                24.0       4144.0           826.0   \n",
              "999     -117.1      33.6                 6.0       1868.0           289.0   \n",
              "\n",
              "     population  households  median_income  median_house_value  \n",
              "0        1015.0       472.0            1.5                66.9  \n",
              "1        1129.0       463.0            1.8                80.1  \n",
              "2         333.0       117.0            1.7                85.7  \n",
              "3         515.0       226.0            3.2                73.4  \n",
              "4         624.0       262.0            1.9                65.5  \n",
              "..          ...         ...            ...                 ...  \n",
              "995      4797.0      1177.0            4.0               144.4  \n",
              "996      1938.0       724.0            3.2               112.8  \n",
              "997      1145.0       445.0            4.5               108.4  \n",
              "998      2127.0       772.0            2.5                96.0  \n",
              "999       750.0       247.0            4.4               307.6  \n",
              "\n",
              "[1000 rows x 9 columns]"
            ]
          },
          "execution_count": 23,
          "metadata": {},
          "output_type": "execute_result"
        }
      ],
      "source": [
        "#@title Double-click for a possible solution to Task 2.\n",
        "\n",
        "# Examine examples 0 through 4 and examples 995 through 999\n",
        "# of the training set\n",
        "train_df.head(n=1000)\n",
        "\n",
        "# The original training set is sorted by longitude.\n",
        "# Apparently, longitude influences the relationship of\n",
        "# total_rooms to median_house_value."
      ]
    },
    {
      "cell_type": "markdown",
      "metadata": {
        "id": "rw4xI1ZEckI8"
      },
      "source": [
        "## Task 3. Fix the problem\n",
        "\n",
        "To fix the problem, shuffle the examples in the training set before splitting the examples into a training set and validation set. To do so, take the following steps:\n",
        "\n",
        "1. Shuffle the data in the training set by adding the following line anywhere before you call `train_model` (in the code cell associated with Task 1):\n",
        "\n",
        "```\n",
        "  shuffled_train_df = train_df.reindex(np.random.permutation(train_df.index))\n",
        "```                                    \n",
        "\n",
        "2. Pass `shuffled_train_df` (instead of `train_df`) as the second argument to `train_model` (in the code call associated with Task 1) so that the call becomes as follows:\n",
        "\n",
        "```\n",
        "  epochs, rmse, history = train_model(my_model, shuffled_train_df, my_feature,\n",
        "                                      my_label, epochs, batch_size,\n",
        "                                      validation_split)\n",
        "```"
      ]
    },
    {
      "cell_type": "code",
      "execution_count": 24,
      "metadata": {
        "cellView": "form",
        "id": "ncODhpv0h-LG"
      },
      "outputs": [
        {
          "name": "stdout",
          "output_type": "stream",
          "text": [
            "Epoch 1/70\n"
          ]
        },
        {
          "name": "stdout",
          "output_type": "stream",
          "text": [
            "119/119 [==============================] - 0s 2ms/step - loss: 42019.6992 - root_mean_squared_error: 204.9871 - val_loss: 34075.2734 - val_root_mean_squared_error: 184.5949\n",
            "Epoch 2/70\n",
            "119/119 [==============================] - 0s 1ms/step - loss: 26235.8184 - root_mean_squared_error: 161.9747 - val_loss: 20297.1035 - val_root_mean_squared_error: 142.4679\n",
            "Epoch 3/70\n",
            "119/119 [==============================] - 0s 1ms/step - loss: 15391.1299 - root_mean_squared_error: 124.0610 - val_loss: 11535.3848 - val_root_mean_squared_error: 107.4029\n",
            "Epoch 4/70\n",
            "119/119 [==============================] - 0s 1ms/step - loss: 9090.4375 - root_mean_squared_error: 95.3438 - val_loss: 7492.7827 - val_root_mean_squared_error: 86.5609\n",
            "Epoch 5/70\n",
            "119/119 [==============================] - 0s 1ms/step - loss: 7090.0327 - root_mean_squared_error: 84.2023 - val_loss: 7070.6665 - val_root_mean_squared_error: 84.0873\n",
            "Epoch 6/70\n",
            "119/119 [==============================] - 0s 1ms/step - loss: 6991.5288 - root_mean_squared_error: 83.6154 - val_loss: 7071.8511 - val_root_mean_squared_error: 84.0943\n",
            "Epoch 7/70\n",
            "119/119 [==============================] - 0s 1ms/step - loss: 6991.2144 - root_mean_squared_error: 83.6135 - val_loss: 7068.1670 - val_root_mean_squared_error: 84.0724\n",
            "Epoch 8/70\n",
            "119/119 [==============================] - 0s 1ms/step - loss: 6989.8174 - root_mean_squared_error: 83.6051 - val_loss: 7068.3623 - val_root_mean_squared_error: 84.0736\n",
            "Epoch 9/70\n",
            "119/119 [==============================] - 0s 1ms/step - loss: 6992.4922 - root_mean_squared_error: 83.6211 - val_loss: 7066.9849 - val_root_mean_squared_error: 84.0654\n",
            "Epoch 10/70\n",
            "119/119 [==============================] - 0s 1ms/step - loss: 6989.9443 - root_mean_squared_error: 83.6059 - val_loss: 7067.7598 - val_root_mean_squared_error: 84.0700\n",
            "Epoch 11/70\n",
            "119/119 [==============================] - 0s 1ms/step - loss: 6992.0234 - root_mean_squared_error: 83.6183 - val_loss: 7068.0430 - val_root_mean_squared_error: 84.0717\n",
            "Epoch 12/70\n",
            "119/119 [==============================] - 0s 1ms/step - loss: 6992.0029 - root_mean_squared_error: 83.6182 - val_loss: 7068.8950 - val_root_mean_squared_error: 84.0767\n",
            "Epoch 13/70\n",
            "119/119 [==============================] - 0s 1ms/step - loss: 6991.8301 - root_mean_squared_error: 83.6172 - val_loss: 7070.6284 - val_root_mean_squared_error: 84.0870\n",
            "Epoch 14/70\n",
            "119/119 [==============================] - 0s 1ms/step - loss: 6991.4028 - root_mean_squared_error: 83.6146 - val_loss: 7066.4644 - val_root_mean_squared_error: 84.0623\n",
            "Epoch 15/70\n",
            "119/119 [==============================] - 0s 1ms/step - loss: 6991.6821 - root_mean_squared_error: 83.6163 - val_loss: 7068.6870 - val_root_mean_squared_error: 84.0755\n",
            "Epoch 16/70\n",
            "119/119 [==============================] - 0s 1ms/step - loss: 6992.1147 - root_mean_squared_error: 83.6189 - val_loss: 7067.4971 - val_root_mean_squared_error: 84.0684\n",
            "Epoch 17/70\n",
            "119/119 [==============================] - 0s 1ms/step - loss: 6991.4990 - root_mean_squared_error: 83.6152 - val_loss: 7072.4814 - val_root_mean_squared_error: 84.0980\n",
            "Epoch 18/70\n",
            "119/119 [==============================] - 0s 1ms/step - loss: 6992.0356 - root_mean_squared_error: 83.6184 - val_loss: 7068.0454 - val_root_mean_squared_error: 84.0717\n",
            "Epoch 19/70\n",
            "119/119 [==============================] - 0s 1ms/step - loss: 6991.2227 - root_mean_squared_error: 83.6135 - val_loss: 7071.2720 - val_root_mean_squared_error: 84.0909\n",
            "Epoch 20/70\n",
            "119/119 [==============================] - 0s 1ms/step - loss: 6990.0376 - root_mean_squared_error: 83.6064 - val_loss: 7066.0269 - val_root_mean_squared_error: 84.0597\n",
            "Epoch 21/70\n",
            "119/119 [==============================] - 0s 1ms/step - loss: 6991.4688 - root_mean_squared_error: 83.6150 - val_loss: 7065.9702 - val_root_mean_squared_error: 84.0593\n",
            "Epoch 22/70\n",
            "119/119 [==============================] - 0s 1ms/step - loss: 6990.2910 - root_mean_squared_error: 83.6080 - val_loss: 7065.9873 - val_root_mean_squared_error: 84.0594\n",
            "Epoch 23/70\n",
            "119/119 [==============================] - 0s 1ms/step - loss: 6992.0698 - root_mean_squared_error: 83.6186 - val_loss: 7065.9731 - val_root_mean_squared_error: 84.0593\n",
            "Epoch 24/70\n",
            "119/119 [==============================] - 0s 1ms/step - loss: 6992.4404 - root_mean_squared_error: 83.6208 - val_loss: 7070.5806 - val_root_mean_squared_error: 84.0867\n",
            "Epoch 25/70\n",
            "119/119 [==============================] - 0s 1ms/step - loss: 6991.6489 - root_mean_squared_error: 83.6161 - val_loss: 7073.4849 - val_root_mean_squared_error: 84.1040\n",
            "Epoch 26/70\n",
            "119/119 [==============================] - 0s 1ms/step - loss: 6991.6987 - root_mean_squared_error: 83.6164 - val_loss: 7065.9692 - val_root_mean_squared_error: 84.0593\n",
            "Epoch 27/70\n",
            "119/119 [==============================] - 0s 1ms/step - loss: 6991.4966 - root_mean_squared_error: 83.6152 - val_loss: 7066.3262 - val_root_mean_squared_error: 84.0614\n",
            "Epoch 28/70\n",
            "119/119 [==============================] - 0s 1ms/step - loss: 6992.1826 - root_mean_squared_error: 83.6193 - val_loss: 7066.1719 - val_root_mean_squared_error: 84.0605\n",
            "Epoch 29/70\n",
            "119/119 [==============================] - 0s 1ms/step - loss: 6990.7266 - root_mean_squared_error: 83.6106 - val_loss: 7067.8076 - val_root_mean_squared_error: 84.0703\n",
            "Epoch 30/70\n",
            "119/119 [==============================] - 0s 1ms/step - loss: 6991.5542 - root_mean_squared_error: 83.6155 - val_loss: 7066.5420 - val_root_mean_squared_error: 84.0627\n",
            "Epoch 31/70\n",
            "119/119 [==============================] - 0s 1ms/step - loss: 6992.4780 - root_mean_squared_error: 83.6210 - val_loss: 7069.7217 - val_root_mean_squared_error: 84.0816\n",
            "Epoch 32/70\n",
            "119/119 [==============================] - 0s 1ms/step - loss: 6991.9507 - root_mean_squared_error: 83.6179 - val_loss: 7071.9932 - val_root_mean_squared_error: 84.0951\n",
            "Epoch 33/70\n",
            "119/119 [==============================] - 0s 1ms/step - loss: 6992.2476 - root_mean_squared_error: 83.6197 - val_loss: 7068.0728 - val_root_mean_squared_error: 84.0718\n",
            "Epoch 34/70\n",
            "119/119 [==============================] - 0s 1ms/step - loss: 6990.9370 - root_mean_squared_error: 83.6118 - val_loss: 7068.2183 - val_root_mean_squared_error: 84.0727\n",
            "Epoch 35/70\n",
            "119/119 [==============================] - 0s 1ms/step - loss: 6991.9888 - root_mean_squared_error: 83.6181 - val_loss: 7070.1758 - val_root_mean_squared_error: 84.0843\n",
            "Epoch 36/70\n",
            "119/119 [==============================] - 0s 1ms/step - loss: 6991.7363 - root_mean_squared_error: 83.6166 - val_loss: 7068.1436 - val_root_mean_squared_error: 84.0723\n",
            "Epoch 37/70\n",
            "119/119 [==============================] - 0s 1ms/step - loss: 6991.5605 - root_mean_squared_error: 83.6156 - val_loss: 7070.2798 - val_root_mean_squared_error: 84.0850\n",
            "Epoch 38/70\n",
            "119/119 [==============================] - 0s 1ms/step - loss: 6992.0435 - root_mean_squared_error: 83.6184 - val_loss: 7071.3179 - val_root_mean_squared_error: 84.0911\n",
            "Epoch 39/70\n",
            "119/119 [==============================] - 0s 1ms/step - loss: 6992.2129 - root_mean_squared_error: 83.6195 - val_loss: 7067.3906 - val_root_mean_squared_error: 84.0678\n",
            "Epoch 40/70\n",
            "119/119 [==============================] - 0s 1ms/step - loss: 6990.7871 - root_mean_squared_error: 83.6109 - val_loss: 7074.4775 - val_root_mean_squared_error: 84.1099\n",
            "Epoch 41/70\n",
            "119/119 [==============================] - 0s 1ms/step - loss: 6989.1968 - root_mean_squared_error: 83.6014 - val_loss: 7067.1450 - val_root_mean_squared_error: 84.0663\n",
            "Epoch 42/70\n",
            "119/119 [==============================] - 0s 1ms/step - loss: 6991.9380 - root_mean_squared_error: 83.6178 - val_loss: 7069.1201 - val_root_mean_squared_error: 84.0781\n",
            "Epoch 43/70\n",
            "119/119 [==============================] - 0s 1ms/step - loss: 6991.9414 - root_mean_squared_error: 83.6178 - val_loss: 7066.5020 - val_root_mean_squared_error: 84.0625\n",
            "Epoch 44/70\n",
            "119/119 [==============================] - 0s 1ms/step - loss: 6991.6133 - root_mean_squared_error: 83.6159 - val_loss: 7066.6426 - val_root_mean_squared_error: 84.0633\n",
            "Epoch 45/70\n",
            "119/119 [==============================] - 0s 1ms/step - loss: 6991.8906 - root_mean_squared_error: 83.6175 - val_loss: 7067.1499 - val_root_mean_squared_error: 84.0663\n",
            "Epoch 46/70\n",
            "119/119 [==============================] - 0s 1ms/step - loss: 6991.2095 - root_mean_squared_error: 83.6134 - val_loss: 7066.4517 - val_root_mean_squared_error: 84.0622\n",
            "Epoch 47/70\n",
            "119/119 [==============================] - 0s 1ms/step - loss: 6988.6240 - root_mean_squared_error: 83.5980 - val_loss: 7087.4062 - val_root_mean_squared_error: 84.1867\n",
            "Epoch 48/70\n",
            "119/119 [==============================] - 0s 1ms/step - loss: 6991.7397 - root_mean_squared_error: 83.6166 - val_loss: 7065.9990 - val_root_mean_squared_error: 84.0595\n",
            "Epoch 49/70\n",
            "119/119 [==============================] - 0s 1ms/step - loss: 6989.7715 - root_mean_squared_error: 83.6049 - val_loss: 7073.9185 - val_root_mean_squared_error: 84.1066\n",
            "Epoch 50/70\n",
            "119/119 [==============================] - 0s 1ms/step - loss: 6992.0693 - root_mean_squared_error: 83.6186 - val_loss: 7067.0312 - val_root_mean_squared_error: 84.0656\n",
            "Epoch 51/70\n",
            "119/119 [==============================] - 0s 1ms/step - loss: 6991.1221 - root_mean_squared_error: 83.6129 - val_loss: 7072.1680 - val_root_mean_squared_error: 84.0962\n",
            "Epoch 52/70\n",
            "119/119 [==============================] - 0s 1ms/step - loss: 6992.7729 - root_mean_squared_error: 83.6228 - val_loss: 7072.0283 - val_root_mean_squared_error: 84.0954\n",
            "Epoch 53/70\n",
            "119/119 [==============================] - 0s 1ms/step - loss: 6989.8774 - root_mean_squared_error: 83.6055 - val_loss: 7076.6006 - val_root_mean_squared_error: 84.1225\n",
            "Epoch 54/70\n",
            "119/119 [==============================] - 0s 1ms/step - loss: 6992.3530 - root_mean_squared_error: 83.6203 - val_loss: 7069.1162 - val_root_mean_squared_error: 84.0780\n",
            "Epoch 55/70\n",
            "119/119 [==============================] - 0s 1ms/step - loss: 6992.1255 - root_mean_squared_error: 83.6189 - val_loss: 7068.7622 - val_root_mean_squared_error: 84.0759\n",
            "Epoch 56/70\n",
            "119/119 [==============================] - 0s 1ms/step - loss: 6990.0996 - root_mean_squared_error: 83.6068 - val_loss: 7066.4697 - val_root_mean_squared_error: 84.0623\n",
            "Epoch 57/70\n",
            "119/119 [==============================] - 0s 1ms/step - loss: 6991.2886 - root_mean_squared_error: 83.6139 - val_loss: 7068.0762 - val_root_mean_squared_error: 84.0719\n",
            "Epoch 58/70\n",
            "119/119 [==============================] - 0s 1ms/step - loss: 6989.8232 - root_mean_squared_error: 83.6052 - val_loss: 7067.3569 - val_root_mean_squared_error: 84.0676\n",
            "Epoch 59/70\n",
            "119/119 [==============================] - 0s 1ms/step - loss: 6991.8657 - root_mean_squared_error: 83.6174 - val_loss: 7072.0308 - val_root_mean_squared_error: 84.0954\n",
            "Epoch 60/70\n",
            "119/119 [==============================] - 0s 1ms/step - loss: 6992.2866 - root_mean_squared_error: 83.6199 - val_loss: 7074.0635 - val_root_mean_squared_error: 84.1075\n",
            "Epoch 61/70\n",
            "119/119 [==============================] - 0s 1ms/step - loss: 6991.8623 - root_mean_squared_error: 83.6174 - val_loss: 7069.6289 - val_root_mean_squared_error: 84.0811\n",
            "Epoch 62/70\n",
            "119/119 [==============================] - 0s 1ms/step - loss: 6991.0308 - root_mean_squared_error: 83.6124 - val_loss: 7071.5161 - val_root_mean_squared_error: 84.0923\n",
            "Epoch 63/70\n",
            "119/119 [==============================] - 0s 1ms/step - loss: 6991.4053 - root_mean_squared_error: 83.6146 - val_loss: 7073.5864 - val_root_mean_squared_error: 84.1046\n",
            "Epoch 64/70\n",
            "119/119 [==============================] - 0s 1ms/step - loss: 6991.3013 - root_mean_squared_error: 83.6140 - val_loss: 7065.9932 - val_root_mean_squared_error: 84.0595\n",
            "Epoch 65/70\n",
            "119/119 [==============================] - 0s 1ms/step - loss: 6991.4609 - root_mean_squared_error: 83.6150 - val_loss: 7073.8101 - val_root_mean_squared_error: 84.1059\n",
            "Epoch 66/70\n",
            "119/119 [==============================] - 0s 1ms/step - loss: 6992.4780 - root_mean_squared_error: 83.6210 - val_loss: 7067.2715 - val_root_mean_squared_error: 84.0671\n",
            "Epoch 67/70\n",
            "119/119 [==============================] - 0s 1ms/step - loss: 6991.8467 - root_mean_squared_error: 83.6173 - val_loss: 7065.8477 - val_root_mean_squared_error: 84.0586\n",
            "Epoch 68/70\n",
            "119/119 [==============================] - 0s 1ms/step - loss: 6991.5312 - root_mean_squared_error: 83.6154 - val_loss: 7066.6001 - val_root_mean_squared_error: 84.0631\n",
            "Epoch 69/70\n",
            "119/119 [==============================] - 0s 1ms/step - loss: 6990.7686 - root_mean_squared_error: 83.6108 - val_loss: 7066.0039 - val_root_mean_squared_error: 84.0595\n",
            "Epoch 70/70\n",
            "119/119 [==============================] - 0s 1ms/step - loss: 6990.8120 - root_mean_squared_error: 83.6111 - val_loss: 7065.9751 - val_root_mean_squared_error: 84.0594\n",
            "78.37675476074219\n"
          ]
        },
        {
          "data": {
            "image/png": "[encoded data removed]",
            "text/plain": [
              "<Figure size 640x480 with 1 Axes>"
            ]
          },
          "metadata": {},
          "output_type": "display_data"
        }
      ],
      "source": [
        "#@title Double-click to view the complete implementation.\n",
        "\n",
        "# The following variables are the hyperparameters.\n",
        "learning_rate = 0.08\n",
        "epochs = 70\n",
        "batch_size = 100\n",
        "\n",
        "# Split the original training set into a reduced training set and a\n",
        "# validation set.\n",
        "validation_split = 0.3\n",
        "\n",
        "# Identify the feature and the label.\n",
        "my_feature = \"median_income\"    # the median income on a specific city block.\n",
        "my_label = \"median_house_value\" # the median house value on a specific city block.\n",
        "# That is, you're going to create a model that predicts house value based\n",
        "# solely on the neighborhood's median income.\n",
        "\n",
        "# Shuffle the examples.\n",
        "shuffled_train_df = train_df.reindex(np.random.permutation(train_df.index))\n",
        "\n",
        "# Invoke the functions to build and train the model. Train on the shuffled\n",
        "# training set.\n",
        "my_model = build_model(learning_rate)\n",
        "epochs, rmse, history = train_model(my_model, shuffled_train_df, my_feature,\n",
        "                                      my_label, epochs, batch_size,\n",
        "                                      validation_split)\n",
        "\n",
        "\n",
        "plot_the_loss_curve(epochs, history[\"root_mean_squared_error\"],\n",
        "                    history[\"val_root_mean_squared_error\"])"
      ]
    },
    {
      "cell_type": "markdown",
      "metadata": {
        "id": "tKN239_miW8C"
      },
      "source": [
        "Experiment with `validation_split` to answer the following questions:\n",
        "\n",
        "* With the training set shuffled, is the final loss for the training set closer to the final loss for the validation set?  \n",
        "* At what range of values of `validation_split` do the final loss values for the training set and validation set diverge meaningfully?  Why?\n",
        "\n",
        "\n",
        "Experimenta con validation_split para responder las siguientes preguntas:\n",
        "\n",
        "Con el conjunto de entrenamiento barajado, ¿el error final para el conjunto de entrenamiento se acerca más al error final para el conjunto de validación?\n",
        "En qué rango de valores de validation_split las pérdidas finales para el conjunto de entrenamiento y el conjunto de validación divergen significativamente. ¿Por qué?"
      ]
    },
    {
      "cell_type": "code",
      "execution_count": 25,
      "metadata": {
        "cellView": "form",
        "id": "-UAJ3Q86iz31"
      },
      "outputs": [],
      "source": [
        "#@title Double-click for the answers to the questions\n",
        "\n",
        "# Sí, después de barajar el conjunto de entrenamiento original,\n",
        "# la pérdida final para el conjunto de entrenamiento y el\n",
        "# conjunto de validación se acercan mucho más.\n",
        "\n",
        "# Si validation_split < 0.15,\n",
        "# los valores de pérdida final para el conjunto de entrenamiento y\n",
        "# el conjunto de validación divergen de manera significativa.\n",
        "# Aparentemente, el conjunto de validación ya no contiene suficientes ejemplos."
      ]
    },
    {
      "cell_type": "markdown",
      "metadata": {
        "id": "1PP-O8TOZOeo"
      },
      "source": [
        "## Task 4: Use the Test Dataset to Evaluate Your Model's Performance\n",
        "\n",
        "The test set usually acts as the ultimate judge of a model's quality. The test set can serve as an impartial judge because its examples haven't been used in training the model. Run the following code cell to evaluate the model with the test set:"
      ]
    },
    {
      "cell_type": "code",
      "execution_count": 29,
      "metadata": {
        "id": "nd_Sw2cygOip"
      },
      "outputs": [
        {
          "name": "stdout",
          "output_type": "stream",
          "text": [
            "30/30 [==============================] - 0s 710us/step - loss: 7014.8901 - root_mean_squared_error: 83.7549\n"
          ]
        }
      ],
      "source": [
        "x_test = test_df[my_feature]\n",
        "y_test = test_df[my_label]\n",
        "\n",
        "results = my_model.evaluate(x_test, y_test, batch_size=batch_size)"
      ]
    },
    {
      "cell_type": "markdown",
      "metadata": {
        "id": "qoyQKvsjmV_A"
      },
      "source": [
        "Compare the root mean squared error of the model when evaluated on each of the three datasets:\n",
        "\n",
        "* training set: look for `root_mean_squared_error` in the final training epoch.\n",
        "* validation set: look for `val_root_mean_squared_error` in the final training epoch.\n",
        "* test set: run the preceding code cell and examine the `root_mean_squared_error`.\n",
        "\n",
        "Ideally, the root mean squared error of all three sets should be similar. Are they?\n",
        "\n",
        "Compara el error cuadrático medio raíz del modelo al evaluarlo en cada uno de los tres conjuntos de datos:\n",
        "\n",
        "- Conjunto de entrenamiento: busca `root_mean_squared_error` en la última época de entrenamiento.\n",
        "- Conjunto de validación: busca `val_root_mean_squared_error` en la última época de entrenamiento.\n",
        "- Conjunto de prueba: ejecuta la celda de código anterior y examina el `root_mean_squared_error`.\n",
        "\n",
        "Idealmente, el error cuadrático medio raíz en los tres conjuntos debería ser similar. ¿Lo son?"
      ]
    },
    {
      "cell_type": "code",
      "execution_count": 27,
      "metadata": {
        "cellView": "form",
        "id": "FxXtp-aVdIgJ"
      },
      "outputs": [],
      "source": [
        "#@title Double-click for an answer\n",
        "\n",
        "# In our experiments, yes, the rmse values\n",
        "# were similar enough."
      ]
    }
  ],
  "metadata": {
    "colab": {
      "name": "Validation and Test Sets.ipynb",
      "private_outputs": true,
      "provenance": []
    },
    "kernelspec": {
      "display_name": "Python 3",
      "name": "python3"
    },
    "language_info": {
      "codemirror_mode": {
        "name": "ipython",
        "version": 3
      },
      "file_extension": ".py",
      "mimetype": "text/x-python",
      "name": "python",
      "nbconvert_exporter": "python",
      "pygments_lexer": "ipython3",
      "version": "3.9.13"
    }
  },
  "nbformat": 4,
  "nbformat_minor": 0
}
